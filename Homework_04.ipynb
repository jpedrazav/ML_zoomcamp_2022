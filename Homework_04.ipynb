{
 "cells": [
  {
   "cell_type": "code",
   "execution_count": 1,
   "id": "241dba72",
   "metadata": {},
   "outputs": [
    {
     "data": {
      "text/html": [
       "<style>.container { width:100% !important; }</style>"
      ],
      "text/plain": [
       "<IPython.core.display.HTML object>"
      ]
     },
     "metadata": {},
     "output_type": "display_data"
    }
   ],
   "source": [
    "#Make python screen wider\n",
    "from IPython.display import display, HTML\n",
    "display(HTML(\"<style>.container { width:100% !important; }</style>\"))"
   ]
  },
  {
   "cell_type": "code",
   "execution_count": 2,
   "id": "30d74864",
   "metadata": {},
   "outputs": [],
   "source": [
    "# !pip install tqdm"
   ]
  },
  {
   "cell_type": "code",
   "execution_count": 3,
   "id": "8d297ea1",
   "metadata": {},
   "outputs": [],
   "source": [
    "import numpy as np\n",
    "import wget\n",
    "import pandas as pd\n",
    "import statistics as st\n",
    "from scipy import stats\n",
    "\n",
    "from sklearn.model_selection import train_test_split\n",
    "from sklearn.metrics import mutual_info_score, roc_auc_score\n",
    "from sklearn.feature_extraction import DictVectorizer\n",
    "from sklearn.linear_model import LogisticRegression\n",
    "from sklearn.model_selection import KFold\n",
    "\n",
    "from tqdm.auto import tqdm\n",
    "\n",
    "import seaborn as sns\n",
    "from matplotlib import pyplot as plt\n",
    "%matplotlib inline\n",
    "\n",
    "#increase the width of the line\n",
    "large_width = 400\n",
    "np.set_printoptions(linewidth=large_width)"
   ]
  },
  {
   "cell_type": "markdown",
   "id": "c5153a4c",
   "metadata": {},
   "source": [
    "## Homework\n",
    "## Dataset\n",
    "\n",
    "In this homework, we will use Credit Card Data from book \"Econometric Analysis\".\n",
    "\n",
    "Here's a wget-able [link](https://raw.githubusercontent.com/alexeygrigorev/datasets/master/AER_credit_card_data.csv):\n",
    "\n",
    "```bash\n",
    "wget https://raw.githubusercontent.com/alexeygrigorev/datasets/master/AER_credit_card_data.csv\n",
    "```\n",
    "The goal of this homework is to inspect the output of different evaluation metrics by creating a classification model (target column `card`)."
   ]
  },
  {
   "cell_type": "code",
   "execution_count": 4,
   "id": "b765bbf3",
   "metadata": {
    "scrolled": true
   },
   "outputs": [
    {
     "name": "stdout",
     "output_type": "stream",
     "text": [
      "\r",
      "  0% [                                                                              ]     0 / 73250\r",
      " 11% [........                                                                      ]  8192 / 73250\r",
      " 22% [.................                                                             ] 16384 / 73250\r",
      " 33% [..........................                                                    ] 24576 / 73250\r",
      " 44% [..................................                                            ] 32768 / 73250\r",
      " 55% [...........................................                                   ] 40960 / 73250\r",
      " 67% [....................................................                          ] 49152 / 73250\r",
      " 78% [.............................................................                 ] 57344 / 73250\r",
      " 89% [.....................................................................         ] 65536 / 73250\r",
      "100% [..............................................................................] 73250 / 73250"
     ]
    },
    {
     "data": {
      "text/plain": [
       "'AER_credit_card_data.csv'"
      ]
     },
     "execution_count": 4,
     "metadata": {},
     "output_type": "execute_result"
    }
   ],
   "source": [
    "wget.download(\"https://raw.githubusercontent.com/alexeygrigorev/datasets/master/AER_credit_card_data.csv\")"
   ]
  },
  {
   "cell_type": "code",
   "execution_count": 5,
   "id": "85c6ed5d",
   "metadata": {},
   "outputs": [],
   "source": [
    "df_raw=pd.read_csv('AER_credit_card_data.csv')"
   ]
  },
  {
   "cell_type": "code",
   "execution_count": 6,
   "id": "d5e8d40b",
   "metadata": {},
   "outputs": [],
   "source": [
    "df = df_raw.copy()"
   ]
  },
  {
   "cell_type": "code",
   "execution_count": 7,
   "id": "038ff524",
   "metadata": {
    "scrolled": true
   },
   "outputs": [
    {
     "name": "stdout",
     "output_type": "stream",
     "text": [
      "<class 'pandas.core.frame.DataFrame'>\n",
      "RangeIndex: 1319 entries, 0 to 1318\n",
      "Data columns (total 12 columns):\n",
      " #   Column       Non-Null Count  Dtype  \n",
      "---  ------       --------------  -----  \n",
      " 0   card         1319 non-null   object \n",
      " 1   reports      1319 non-null   int64  \n",
      " 2   age          1319 non-null   float64\n",
      " 3   income       1319 non-null   float64\n",
      " 4   share        1319 non-null   float64\n",
      " 5   expenditure  1319 non-null   float64\n",
      " 6   owner        1319 non-null   object \n",
      " 7   selfemp      1319 non-null   object \n",
      " 8   dependents   1319 non-null   int64  \n",
      " 9   months       1319 non-null   int64  \n",
      " 10  majorcards   1319 non-null   int64  \n",
      " 11  active       1319 non-null   int64  \n",
      "dtypes: float64(4), int64(5), object(3)\n",
      "memory usage: 123.8+ KB\n"
     ]
    }
   ],
   "source": [
    "df.info()"
   ]
  },
  {
   "cell_type": "markdown",
   "id": "0dfa8c94",
   "metadata": {},
   "source": [
    "## Preparation\n",
    "\n",
    "* Create the target variable by mapping `yes` to 1 and `no` to 0. \n",
    "* Split the dataset into 3 parts: train/validation/test with 60%/20%/20% distribution. Use `train_test_split` funciton for that with `random_state=1`."
   ]
  },
  {
   "cell_type": "code",
   "execution_count": 8,
   "id": "bddba059",
   "metadata": {
    "scrolled": true
   },
   "outputs": [
    {
     "data": {
      "text/plain": [
       "yes    1023\n",
       "no      296\n",
       "Name: card, dtype: int64"
      ]
     },
     "execution_count": 8,
     "metadata": {},
     "output_type": "execute_result"
    }
   ],
   "source": [
    "df.card.value_counts()"
   ]
  },
  {
   "cell_type": "code",
   "execution_count": 9,
   "id": "3cbdda62",
   "metadata": {
    "scrolled": true
   },
   "outputs": [],
   "source": [
    "df['card'] = (df['card'] == 'yes').astype('int')"
   ]
  },
  {
   "cell_type": "code",
   "execution_count": 10,
   "id": "fb30a9c8",
   "metadata": {
    "scrolled": true
   },
   "outputs": [
    {
     "data": {
      "text/plain": [
       "(1319, 791, 264, 264)"
      ]
     },
     "execution_count": 10,
     "metadata": {},
     "output_type": "execute_result"
    }
   ],
   "source": [
    "df_train_full, df_test = train_test_split(df, test_size=0.2, random_state=1)\n",
    "df_train, df_val = train_test_split(df_train_full, test_size=0.25, random_state=1)\n",
    "len(df), len(df_train), len(df_val), len(df_test)"
   ]
  },
  {
   "cell_type": "markdown",
   "id": "6a768779",
   "metadata": {},
   "source": [
    "## Question 1\n",
    "\n",
    "ROC AUC could also be used to evaluate feature importance of numerical variables. \n",
    "\n",
    "Let's do that\n",
    "\n",
    "* For each numerical variable, use it as score and compute AUC with the `card` variable.\n",
    "* Use the training dataset for that.\n",
    "\n",
    "If your AUC is < 0.5, invert this variable by putting \"-\" in front\n",
    "\n",
    "(e.g. `-df_train['expenditure']`)\n",
    "\n",
    "AUC can go below 0.5 if the variable is negatively correlated with the target varialble. You can change the direction of the correlation by negating this variable - then negative correlation becomes positive.\n",
    "\n",
    "Which numerical variable (among the following 4) has the highest AUC?\n",
    "\n",
    "- `reports`\n",
    "- `dependents`\n",
    "- `active`\n",
    "- `share`\n",
    "\n",
    "> ANSWER  \n",
    "  `share`"
   ]
  },
  {
   "cell_type": "code",
   "execution_count": 11,
   "id": "5b59a151",
   "metadata": {
    "scrolled": false
   },
   "outputs": [
    {
     "data": {
      "text/plain": [
       "(['card',\n",
       "  'reports',\n",
       "  'age',\n",
       "  'income',\n",
       "  'share',\n",
       "  'expenditure',\n",
       "  'dependents',\n",
       "  'months',\n",
       "  'majorcards',\n",
       "  'active'],\n",
       " ['owner', 'selfemp'])"
      ]
     },
     "execution_count": 11,
     "metadata": {},
     "output_type": "execute_result"
    }
   ],
   "source": [
    "#Separate numerical and character variables\n",
    "\n",
    "num = df_train.select_dtypes(exclude=['object']).columns.tolist()\n",
    "cat = df_train.select_dtypes(include=['object']).columns.tolist()\n",
    "num, cat"
   ]
  },
  {
   "cell_type": "code",
   "execution_count": 12,
   "id": "fe7f35a9",
   "metadata": {
    "scrolled": true
   },
   "outputs": [
    {
     "name": "stdout",
     "output_type": "stream",
     "text": [
      "AUC for variable reports is:  0.28333701393106236\n",
      "AUC for variable age is:  0.4759979020592945\n",
      "AUC for variable income is:  0.5908049467233478\n",
      "AUC for variable share is:  0.989183643423692\n",
      "AUC for variable expenditure is:  0.991042345276873\n",
      "AUC for variable dependents is:  0.46722427722262094\n",
      "AUC for variable months is:  0.470578221903237\n",
      "AUC for variable majorcards is:  0.5343859842838476\n",
      "AUC for variable active is:  0.6043173411362006\n"
     ]
    }
   ],
   "source": [
    "result = 0\n",
    "for i in num:\n",
    "    if i != 'card':\n",
    "        result = roc_auc_score(df_train['card'], df_train[i])\n",
    "\n",
    "        print('AUC for variable', i ,'is: ',result)\n"
   ]
  },
  {
   "cell_type": "markdown",
   "id": "20978f7e",
   "metadata": {},
   "source": [
    "## Training the model\n",
    "\n",
    "From now on, use these columns only:\n",
    "\n",
    "```\n",
    "[\"reports\", \"age\", \"income\", \"share\", \"expenditure\", \"dependents\", \"months\", \"majorcards\", \"active\", \"owner\", \"selfemp\"]\n",
    "```\n",
    "\n",
    "Apply one-hot-encoding using `DictVectorizer` and train the logistic regression with these parameters:\n",
    "\n",
    "```\n",
    "LogisticRegression(solver='liblinear', C=1.0, max_iter=1000)\n",
    "```"
   ]
  },
  {
   "cell_type": "code",
   "execution_count": 13,
   "id": "865006a2",
   "metadata": {},
   "outputs": [],
   "source": [
    "# df_train_copy = df_train.copy()\n",
    "# df_val_copy = df_val.copy()\n",
    "# df_test_copy = df_test.copy()"
   ]
  },
  {
   "cell_type": "code",
   "execution_count": 14,
   "id": "5707d5d4",
   "metadata": {
    "scrolled": false
   },
   "outputs": [],
   "source": [
    "final_var = [\"reports\", \"age\", \"income\", \"share\", \"expenditure\", \"dependents\", \"months\", \"majorcards\", \"active\", \"owner\", \"selfemp\"]\n",
    "\n",
    "df_train = df_train_copy.reset_index(drop=True)\n",
    "df_val = df_val_copy.reset_index(drop=True)\n",
    "df_test = df_test_copy.reset_index(drop=True)\n",
    "\n",
    "y_train = df_train['card']\n",
    "y_val = df_val['card']\n",
    "y_test = df_test['card']\n",
    "\n",
    "df_train = df_train[final_var]\n",
    "df_val = df_val[final_var]\n",
    "df_test = df_test[final_var]"
   ]
  },
  {
   "cell_type": "code",
   "execution_count": 15,
   "id": "9fefd875",
   "metadata": {
    "scrolled": false
   },
   "outputs": [
    {
     "data": {
      "text/html": [
       "<style>#sk-container-id-1 {color: black;background-color: white;}#sk-container-id-1 pre{padding: 0;}#sk-container-id-1 div.sk-toggleable {background-color: white;}#sk-container-id-1 label.sk-toggleable__label {cursor: pointer;display: block;width: 100%;margin-bottom: 0;padding: 0.3em;box-sizing: border-box;text-align: center;}#sk-container-id-1 label.sk-toggleable__label-arrow:before {content: \"▸\";float: left;margin-right: 0.25em;color: #696969;}#sk-container-id-1 label.sk-toggleable__label-arrow:hover:before {color: black;}#sk-container-id-1 div.sk-estimator:hover label.sk-toggleable__label-arrow:before {color: black;}#sk-container-id-1 div.sk-toggleable__content {max-height: 0;max-width: 0;overflow: hidden;text-align: left;background-color: #f0f8ff;}#sk-container-id-1 div.sk-toggleable__content pre {margin: 0.2em;color: black;border-radius: 0.25em;background-color: #f0f8ff;}#sk-container-id-1 input.sk-toggleable__control:checked~div.sk-toggleable__content {max-height: 200px;max-width: 100%;overflow: auto;}#sk-container-id-1 input.sk-toggleable__control:checked~label.sk-toggleable__label-arrow:before {content: \"▾\";}#sk-container-id-1 div.sk-estimator input.sk-toggleable__control:checked~label.sk-toggleable__label {background-color: #d4ebff;}#sk-container-id-1 div.sk-label input.sk-toggleable__control:checked~label.sk-toggleable__label {background-color: #d4ebff;}#sk-container-id-1 input.sk-hidden--visually {border: 0;clip: rect(1px 1px 1px 1px);clip: rect(1px, 1px, 1px, 1px);height: 1px;margin: -1px;overflow: hidden;padding: 0;position: absolute;width: 1px;}#sk-container-id-1 div.sk-estimator {font-family: monospace;background-color: #f0f8ff;border: 1px dotted black;border-radius: 0.25em;box-sizing: border-box;margin-bottom: 0.5em;}#sk-container-id-1 div.sk-estimator:hover {background-color: #d4ebff;}#sk-container-id-1 div.sk-parallel-item::after {content: \"\";width: 100%;border-bottom: 1px solid gray;flex-grow: 1;}#sk-container-id-1 div.sk-label:hover label.sk-toggleable__label {background-color: #d4ebff;}#sk-container-id-1 div.sk-serial::before {content: \"\";position: absolute;border-left: 1px solid gray;box-sizing: border-box;top: 0;bottom: 0;left: 50%;z-index: 0;}#sk-container-id-1 div.sk-serial {display: flex;flex-direction: column;align-items: center;background-color: white;padding-right: 0.2em;padding-left: 0.2em;position: relative;}#sk-container-id-1 div.sk-item {position: relative;z-index: 1;}#sk-container-id-1 div.sk-parallel {display: flex;align-items: stretch;justify-content: center;background-color: white;position: relative;}#sk-container-id-1 div.sk-item::before, #sk-container-id-1 div.sk-parallel-item::before {content: \"\";position: absolute;border-left: 1px solid gray;box-sizing: border-box;top: 0;bottom: 0;left: 50%;z-index: -1;}#sk-container-id-1 div.sk-parallel-item {display: flex;flex-direction: column;z-index: 1;position: relative;background-color: white;}#sk-container-id-1 div.sk-parallel-item:first-child::after {align-self: flex-end;width: 50%;}#sk-container-id-1 div.sk-parallel-item:last-child::after {align-self: flex-start;width: 50%;}#sk-container-id-1 div.sk-parallel-item:only-child::after {width: 0;}#sk-container-id-1 div.sk-dashed-wrapped {border: 1px dashed gray;margin: 0 0.4em 0.5em 0.4em;box-sizing: border-box;padding-bottom: 0.4em;background-color: white;}#sk-container-id-1 div.sk-label label {font-family: monospace;font-weight: bold;display: inline-block;line-height: 1.2em;}#sk-container-id-1 div.sk-label-container {text-align: center;}#sk-container-id-1 div.sk-container {/* jupyter's `normalize.less` sets `[hidden] { display: none; }` but bootstrap.min.css set `[hidden] { display: none !important; }` so we also need the `!important` here to be able to override the default hidden behavior on the sphinx rendered scikit-learn.org. See: https://github.com/scikit-learn/scikit-learn/issues/21755 */display: inline-block !important;position: relative;}#sk-container-id-1 div.sk-text-repr-fallback {display: none;}</style><div id=\"sk-container-id-1\" class=\"sk-top-container\"><div class=\"sk-text-repr-fallback\"><pre>LogisticRegression(max_iter=1000, solver=&#x27;liblinear&#x27;)</pre><b>In a Jupyter environment, please rerun this cell to show the HTML representation or trust the notebook. <br />On GitHub, the HTML representation is unable to render, please try loading this page with nbviewer.org.</b></div><div class=\"sk-container\" hidden><div class=\"sk-item\"><div class=\"sk-estimator sk-toggleable\"><input class=\"sk-toggleable__control sk-hidden--visually\" id=\"sk-estimator-id-1\" type=\"checkbox\" checked><label for=\"sk-estimator-id-1\" class=\"sk-toggleable__label sk-toggleable__label-arrow\">LogisticRegression</label><div class=\"sk-toggleable__content\"><pre>LogisticRegression(max_iter=1000, solver=&#x27;liblinear&#x27;)</pre></div></div></div></div></div>"
      ],
      "text/plain": [
       "LogisticRegression(max_iter=1000, solver='liblinear')"
      ]
     },
     "execution_count": 15,
     "metadata": {},
     "output_type": "execute_result"
    }
   ],
   "source": [
    "# there is no need to separate categorical and numerical and after append them in type order [categorical+numerical], values don't change\n",
    "\n",
    "dv = DictVectorizer(sparse=False)\n",
    "train_dict = df_train.to_dict(orient='records')\n",
    "X_train =dv.fit_transform(train_dict)\n",
    "\n",
    "model = LogisticRegression(solver='liblinear', C=1.0, max_iter=1000)\n",
    "model.fit(X_train, y_train)"
   ]
  },
  {
   "cell_type": "code",
   "execution_count": 16,
   "id": "7da338ed",
   "metadata": {},
   "outputs": [
    {
     "data": {
      "text/plain": [
       "0    0\n",
       "1    0\n",
       "2    1\n",
       "3    1\n",
       "4    1\n",
       "Name: card, dtype: int32"
      ]
     },
     "execution_count": 16,
     "metadata": {},
     "output_type": "execute_result"
    }
   ],
   "source": [
    "y_train.head()"
   ]
  },
  {
   "cell_type": "code",
   "execution_count": 17,
   "id": "b09018a8",
   "metadata": {
    "scrolled": false
   },
   "outputs": [
    {
     "data": {
      "text/plain": [
       "0.678030303030303"
      ]
     },
     "execution_count": 17,
     "metadata": {},
     "output_type": "execute_result"
    }
   ],
   "source": [
    "val_dict = df_val.to_dict(orient='records')\n",
    "X_val = dv.transform(val_dict)\n",
    "\n",
    "y_pred = model.predict_proba(X_val)[:,1]\n",
    "card_predicted = (y_pred >= 0.5)\n",
    "\n",
    "(y_pred == card_predicted).mean()"
   ]
  },
  {
   "cell_type": "markdown",
   "id": "20ee8330",
   "metadata": {},
   "source": [
    "## Question 2\n",
    "\n",
    "What's the AUC of this model on the validation dataset? (round to 3 digits)\n",
    "\n",
    "- 0.615\n",
    "- 0.515\n",
    "- 0.715\n",
    "- 0.995\n",
    "\n",
    "> ANSWER  \n",
    "  `0.995`"
   ]
  },
  {
   "cell_type": "code",
   "execution_count": 18,
   "id": "f9da3a29",
   "metadata": {
    "scrolled": true
   },
   "outputs": [
    {
     "data": {
      "text/plain": [
       "0.995"
      ]
     },
     "execution_count": 18,
     "metadata": {},
     "output_type": "execute_result"
    }
   ],
   "source": [
    "round(roc_auc_score(y_val, y_pred),3)"
   ]
  },
  {
   "cell_type": "markdown",
   "id": "b88f746c",
   "metadata": {},
   "source": [
    "## Question 3\n",
    "\n",
    "Now let's compute precision and recall for our model.\n",
    "\n",
    "* Evaluate the model on all thresholds from 0.0 to 1.0 with step 0.01\n",
    "* For each threshold, compute precision and recall\n",
    "* Plot them\n",
    "\n",
    "\n",
    "At which threshold precision and recall curves intersect?\n",
    "\n",
    "* 0.1\n",
    "* 0.3\n",
    "* 0.6\n",
    "* 0.8\n",
    "\n",
    "> ANSWER  \n",
    "  `0.3`"
   ]
  },
  {
   "cell_type": "code",
   "execution_count": 19,
   "id": "b5d8f00a",
   "metadata": {
    "scrolled": true
   },
   "outputs": [
    {
     "data": {
      "text/plain": [
       "array([0.  , 0.01, 0.02, 0.03, 0.04, 0.05, 0.06, 0.07, 0.08, 0.09, 0.1 , 0.11, 0.12, 0.13, 0.14, 0.15, 0.16, 0.17, 0.18, 0.19, 0.2 , 0.21, 0.22, 0.23, 0.24, 0.25, 0.26, 0.27, 0.28, 0.29, 0.3 , 0.31, 0.32, 0.33, 0.34, 0.35, 0.36, 0.37, 0.38, 0.39, 0.4 , 0.41, 0.42, 0.43, 0.44, 0.45, 0.46, 0.47, 0.48, 0.49, 0.5 , 0.51, 0.52, 0.53, 0.54, 0.55, 0.56, 0.57, 0.58, 0.59, 0.6 , 0.61, 0.62, 0.63, 0.64,\n",
       "       0.65, 0.66, 0.67, 0.68, 0.69, 0.7 , 0.71, 0.72, 0.73, 0.74, 0.75, 0.76, 0.77, 0.78, 0.79, 0.8 , 0.81, 0.82, 0.83, 0.84, 0.85, 0.86, 0.87, 0.88, 0.89, 0.9 , 0.91, 0.92, 0.93, 0.94, 0.95, 0.96, 0.97, 0.98, 0.99, 1.  ])"
      ]
     },
     "execution_count": 19,
     "metadata": {},
     "output_type": "execute_result"
    }
   ],
   "source": [
    "a = np.arange(0, 1.001, 0.01)\n",
    "a"
   ]
  },
  {
   "cell_type": "code",
   "execution_count": 20,
   "id": "24edd1c0",
   "metadata": {},
   "outputs": [],
   "source": [
    "\n",
    "def tpr_fpr_dataframe(y_val, y_pred):\n",
    "\n",
    "    thresholds = np.arange(0, 1.01, 0.01)\n",
    "\n",
    "    scores = []\n",
    "    df_final = []\n",
    "\n",
    "    for t in thresholds:\n",
    "        \n",
    "        actual_positive = 0\n",
    "        actual_negative = 0\n",
    "        \n",
    "        predict_positive = 0\n",
    "        predict_negative = 0\n",
    "        \n",
    "        tp = 0\n",
    "        tn = 0\n",
    "        fp = 0\n",
    "        fn = 0\n",
    "        \n",
    "        actual_positive = (y_val == 1)\n",
    "        actual_negative = (y_val == 0)\n",
    "\n",
    "        predict_positive = (y_pred >= t)\n",
    "        predict_negative = (y_pred < t)\n",
    "\n",
    "        tp = (predict_positive & actual_positive).sum()\n",
    "        tn = (predict_negative & actual_negative).sum()\n",
    "\n",
    "        fp = (predict_positive & actual_negative).sum()\n",
    "        fn = (predict_negative & actual_positive).sum()\n",
    "\n",
    "        scores.append((t, tp, fp, fn, tn))\n",
    "\n",
    "        columns = ['threshold', 'tp', 'fp', 'fn', 'tn']\n",
    "        df_scores = pd.DataFrame(scores, columns=columns)\n",
    "\n",
    "        df_scores['tpr'] = df_scores.tp / (df_scores.tp + df_scores.fn)\n",
    "        df_scores['fpr'] = df_scores.fp / (df_scores.fp + df_scores.tn)\n",
    "        df_scores['precision'] = df_scores.tp / (df_scores.tp + df_scores.fp)\n",
    "        df_scores['recall'] = df_scores.tp / (df_scores.tp + df_scores.fn)\n",
    "                    \n",
    "    return df_scores      "
   ]
  },
  {
   "cell_type": "code",
   "execution_count": 21,
   "id": "b1eced4f",
   "metadata": {
    "scrolled": false
   },
   "outputs": [
    {
     "data": {
      "text/html": [
       "<div>\n",
       "<style scoped>\n",
       "    .dataframe tbody tr th:only-of-type {\n",
       "        vertical-align: middle;\n",
       "    }\n",
       "\n",
       "    .dataframe tbody tr th {\n",
       "        vertical-align: top;\n",
       "    }\n",
       "\n",
       "    .dataframe thead th {\n",
       "        text-align: right;\n",
       "    }\n",
       "</style>\n",
       "<table border=\"1\" class=\"dataframe\">\n",
       "  <thead>\n",
       "    <tr style=\"text-align: right;\">\n",
       "      <th></th>\n",
       "      <th>threshold</th>\n",
       "      <th>tp</th>\n",
       "      <th>fp</th>\n",
       "      <th>fn</th>\n",
       "      <th>tn</th>\n",
       "      <th>tpr</th>\n",
       "      <th>fpr</th>\n",
       "      <th>precision</th>\n",
       "      <th>recall</th>\n",
       "    </tr>\n",
       "  </thead>\n",
       "  <tbody>\n",
       "    <tr>\n",
       "      <th>0</th>\n",
       "      <td>0.00</td>\n",
       "      <td>211</td>\n",
       "      <td>53</td>\n",
       "      <td>0</td>\n",
       "      <td>0</td>\n",
       "      <td>1.000000</td>\n",
       "      <td>1.000000</td>\n",
       "      <td>0.799242</td>\n",
       "      <td>1.000000</td>\n",
       "    </tr>\n",
       "    <tr>\n",
       "      <th>1</th>\n",
       "      <td>0.01</td>\n",
       "      <td>211</td>\n",
       "      <td>34</td>\n",
       "      <td>0</td>\n",
       "      <td>19</td>\n",
       "      <td>1.000000</td>\n",
       "      <td>0.641509</td>\n",
       "      <td>0.861224</td>\n",
       "      <td>1.000000</td>\n",
       "    </tr>\n",
       "    <tr>\n",
       "      <th>2</th>\n",
       "      <td>0.02</td>\n",
       "      <td>211</td>\n",
       "      <td>31</td>\n",
       "      <td>0</td>\n",
       "      <td>22</td>\n",
       "      <td>1.000000</td>\n",
       "      <td>0.584906</td>\n",
       "      <td>0.871901</td>\n",
       "      <td>1.000000</td>\n",
       "    </tr>\n",
       "    <tr>\n",
       "      <th>3</th>\n",
       "      <td>0.03</td>\n",
       "      <td>211</td>\n",
       "      <td>24</td>\n",
       "      <td>0</td>\n",
       "      <td>29</td>\n",
       "      <td>1.000000</td>\n",
       "      <td>0.452830</td>\n",
       "      <td>0.897872</td>\n",
       "      <td>1.000000</td>\n",
       "    </tr>\n",
       "    <tr>\n",
       "      <th>4</th>\n",
       "      <td>0.04</td>\n",
       "      <td>211</td>\n",
       "      <td>22</td>\n",
       "      <td>0</td>\n",
       "      <td>31</td>\n",
       "      <td>1.000000</td>\n",
       "      <td>0.415094</td>\n",
       "      <td>0.905579</td>\n",
       "      <td>1.000000</td>\n",
       "    </tr>\n",
       "    <tr>\n",
       "      <th>...</th>\n",
       "      <td>...</td>\n",
       "      <td>...</td>\n",
       "      <td>...</td>\n",
       "      <td>...</td>\n",
       "      <td>...</td>\n",
       "      <td>...</td>\n",
       "      <td>...</td>\n",
       "      <td>...</td>\n",
       "      <td>...</td>\n",
       "    </tr>\n",
       "    <tr>\n",
       "      <th>96</th>\n",
       "      <td>0.96</td>\n",
       "      <td>204</td>\n",
       "      <td>0</td>\n",
       "      <td>7</td>\n",
       "      <td>53</td>\n",
       "      <td>0.966825</td>\n",
       "      <td>0.000000</td>\n",
       "      <td>1.000000</td>\n",
       "      <td>0.966825</td>\n",
       "    </tr>\n",
       "    <tr>\n",
       "      <th>97</th>\n",
       "      <td>0.97</td>\n",
       "      <td>203</td>\n",
       "      <td>0</td>\n",
       "      <td>8</td>\n",
       "      <td>53</td>\n",
       "      <td>0.962085</td>\n",
       "      <td>0.000000</td>\n",
       "      <td>1.000000</td>\n",
       "      <td>0.962085</td>\n",
       "    </tr>\n",
       "    <tr>\n",
       "      <th>98</th>\n",
       "      <td>0.98</td>\n",
       "      <td>203</td>\n",
       "      <td>0</td>\n",
       "      <td>8</td>\n",
       "      <td>53</td>\n",
       "      <td>0.962085</td>\n",
       "      <td>0.000000</td>\n",
       "      <td>1.000000</td>\n",
       "      <td>0.962085</td>\n",
       "    </tr>\n",
       "    <tr>\n",
       "      <th>99</th>\n",
       "      <td>0.99</td>\n",
       "      <td>202</td>\n",
       "      <td>0</td>\n",
       "      <td>9</td>\n",
       "      <td>53</td>\n",
       "      <td>0.957346</td>\n",
       "      <td>0.000000</td>\n",
       "      <td>1.000000</td>\n",
       "      <td>0.957346</td>\n",
       "    </tr>\n",
       "    <tr>\n",
       "      <th>100</th>\n",
       "      <td>1.00</td>\n",
       "      <td>179</td>\n",
       "      <td>0</td>\n",
       "      <td>32</td>\n",
       "      <td>53</td>\n",
       "      <td>0.848341</td>\n",
       "      <td>0.000000</td>\n",
       "      <td>1.000000</td>\n",
       "      <td>0.848341</td>\n",
       "    </tr>\n",
       "  </tbody>\n",
       "</table>\n",
       "<p>101 rows × 9 columns</p>\n",
       "</div>"
      ],
      "text/plain": [
       "     threshold   tp  fp  fn  tn       tpr       fpr  precision    recall\n",
       "0         0.00  211  53   0   0  1.000000  1.000000   0.799242  1.000000\n",
       "1         0.01  211  34   0  19  1.000000  0.641509   0.861224  1.000000\n",
       "2         0.02  211  31   0  22  1.000000  0.584906   0.871901  1.000000\n",
       "3         0.03  211  24   0  29  1.000000  0.452830   0.897872  1.000000\n",
       "4         0.04  211  22   0  31  1.000000  0.415094   0.905579  1.000000\n",
       "..         ...  ...  ..  ..  ..       ...       ...        ...       ...\n",
       "96        0.96  204   0   7  53  0.966825  0.000000   1.000000  0.966825\n",
       "97        0.97  203   0   8  53  0.962085  0.000000   1.000000  0.962085\n",
       "98        0.98  203   0   8  53  0.962085  0.000000   1.000000  0.962085\n",
       "99        0.99  202   0   9  53  0.957346  0.000000   1.000000  0.957346\n",
       "100       1.00  179   0  32  53  0.848341  0.000000   1.000000  0.848341\n",
       "\n",
       "[101 rows x 9 columns]"
      ]
     },
     "execution_count": 21,
     "metadata": {},
     "output_type": "execute_result"
    }
   ],
   "source": [
    "df_scr = tpr_fpr_dataframe(y_val, y_pred)\n",
    "df_scr"
   ]
  },
  {
   "cell_type": "code",
   "execution_count": 22,
   "id": "35116d34",
   "metadata": {
    "scrolled": true
   },
   "outputs": [
    {
     "name": "stdout",
     "output_type": "stream",
     "text": [
      "<class 'pandas.core.frame.DataFrame'>\n",
      "RangeIndex: 101 entries, 0 to 100\n",
      "Data columns (total 9 columns):\n",
      " #   Column     Non-Null Count  Dtype  \n",
      "---  ------     --------------  -----  \n",
      " 0   threshold  101 non-null    float64\n",
      " 1   tp         101 non-null    int64  \n",
      " 2   fp         101 non-null    int64  \n",
      " 3   fn         101 non-null    int64  \n",
      " 4   tn         101 non-null    int64  \n",
      " 5   tpr        101 non-null    float64\n",
      " 6   fpr        101 non-null    float64\n",
      " 7   precision  101 non-null    float64\n",
      " 8   recall     101 non-null    float64\n",
      "dtypes: float64(5), int64(4)\n",
      "memory usage: 7.2 KB\n"
     ]
    }
   ],
   "source": [
    "df_scr.info()"
   ]
  },
  {
   "cell_type": "code",
   "execution_count": 23,
   "id": "38676bbf",
   "metadata": {
    "scrolled": true
   },
   "outputs": [
    {
     "data": {
      "text/plain": [
       "24    0.24\n",
       "25    0.25\n",
       "26    0.26\n",
       "27    0.27\n",
       "28    0.28\n",
       "29    0.29\n",
       "Name: threshold, dtype: float64"
      ]
     },
     "execution_count": 23,
     "metadata": {},
     "output_type": "execute_result"
    }
   ],
   "source": [
    "df_scr.threshold[df_scr['precision']==df_scr['recall']]"
   ]
  },
  {
   "cell_type": "code",
   "execution_count": 24,
   "id": "c7e4822e",
   "metadata": {
    "scrolled": true
   },
   "outputs": [
    {
     "data": {
      "text/plain": [
       "<matplotlib.legend.Legend at 0x2353083c340>"
      ]
     },
     "execution_count": 24,
     "metadata": {},
     "output_type": "execute_result"
    },
    {
     "data": {
      "image/png": "[encoded data removed]",
      "text/plain": [
       "<Figure size 640x480 with 1 Axes>"
      ]
     },
     "metadata": {},
     "output_type": "display_data"
    }
   ],
   "source": [
    "plt.plot(df_scr.threshold, df_scr['precision'], label='precision')\n",
    "plt.plot(df_scr.threshold, df_scr['recall'], label='recall')\n",
    "plt.legend()"
   ]
  },
  {
   "cell_type": "markdown",
   "id": "b5976965",
   "metadata": {},
   "source": [
    "## Question 4\n",
    "\n",
    "Precision and recall are conflicting - when one grows, the other goes down. That's why they are often combined into the F1 score - a metrics that takes into account both\n",
    "\n",
    "This is the formula for computing F1:  \n",
    "\n",
    "F1 = 2 * P * R / (P + R)\n",
    " \n",
    "Where P is precision and R is recall.\n",
    "\n",
    "Let's compute F1 for all thresholds from 0.0 to 1.0 with increment 0.01\n",
    "\n",
    "At which threshold F1 is maximal?\n",
    "\n",
    "- 0.1\n",
    "- 0.4\n",
    "- 0.6\n",
    "- 0.7\n",
    "\n",
    "> ANSWER  \n",
    "  `0.4`"
   ]
  },
  {
   "cell_type": "code",
   "execution_count": 25,
   "id": "d5c641fc",
   "metadata": {},
   "outputs": [],
   "source": [
    "df_scr['f1'] = (2 * df_scr.precision * df_scr.recall) / (df_scr.precision + df_scr.recall)"
   ]
  },
  {
   "cell_type": "code",
   "execution_count": 26,
   "id": "a1e3d0b2",
   "metadata": {
    "scrolled": false
   },
   "outputs": [
    {
     "name": "stdout",
     "output_type": "stream",
     "text": [
      "    threshold   tp  fp  fn  tn       tpr       fpr  precision    recall  \\\n",
      "35       0.35  205   1   6  52  0.971564  0.018868   0.995146  0.971564   \n",
      "36       0.36  205   1   6  52  0.971564  0.018868   0.995146  0.971564   \n",
      "37       0.37  205   1   6  52  0.971564  0.018868   0.995146  0.971564   \n",
      "38       0.38  205   1   6  52  0.971564  0.018868   0.995146  0.971564   \n",
      "39       0.39  205   1   6  52  0.971564  0.018868   0.995146  0.971564   \n",
      "40       0.40  205   1   6  52  0.971564  0.018868   0.995146  0.971564   \n",
      "41       0.41  205   1   6  52  0.971564  0.018868   0.995146  0.971564   \n",
      "\n",
      "          f1  \n",
      "35  0.983213  \n",
      "36  0.983213  \n",
      "37  0.983213  \n",
      "38  0.983213  \n",
      "39  0.983213  \n",
      "40  0.983213  \n",
      "41  0.983213  \n"
     ]
    }
   ],
   "source": [
    "print(df_scr[df_scr['f1'].max() == df_scr['f1']])"
   ]
  },
  {
   "cell_type": "markdown",
   "id": "5ad82c00",
   "metadata": {},
   "source": [
    "## Question 5\n",
    "\n",
    "Use the `KFold` class from Scikit-Learn to evaluate our model on 5 different folds:\n",
    "\n",
    "```\n",
    "KFold(n_splits=5, shuffle=True, random_state=1)\n",
    "```\n",
    "\n",
    "* Iterate over different folds of `df_full_train`\n",
    "* Split the data into train and validation\n",
    "* Train the model on train with these parameters: `LogisticRegression(solver='liblinear', C=1.0, max_iter=1000)`\n",
    "* Use AUC to evaluate the model on validation\n",
    "\n",
    "\n",
    "How large is standard devidation of the AUC scores across different folds?\n",
    "\n",
    "- 0.003\n",
    "- 0.014\n",
    "- 0.09\n",
    "- 0.24\n",
    "> ANSWER  \n",
    "  `0.003`"
   ]
  },
  {
   "cell_type": "code",
   "execution_count": 27,
   "id": "f7294412",
   "metadata": {
    "scrolled": true
   },
   "outputs": [
    {
     "data": {
      "text/html": [
       "<div>\n",
       "<style scoped>\n",
       "    .dataframe tbody tr th:only-of-type {\n",
       "        vertical-align: middle;\n",
       "    }\n",
       "\n",
       "    .dataframe tbody tr th {\n",
       "        vertical-align: top;\n",
       "    }\n",
       "\n",
       "    .dataframe thead th {\n",
       "        text-align: right;\n",
       "    }\n",
       "</style>\n",
       "<table border=\"1\" class=\"dataframe\">\n",
       "  <thead>\n",
       "    <tr style=\"text-align: right;\">\n",
       "      <th></th>\n",
       "      <th>card</th>\n",
       "      <th>reports</th>\n",
       "      <th>age</th>\n",
       "      <th>income</th>\n",
       "      <th>share</th>\n",
       "      <th>expenditure</th>\n",
       "      <th>owner</th>\n",
       "      <th>selfemp</th>\n",
       "      <th>dependents</th>\n",
       "      <th>months</th>\n",
       "      <th>majorcards</th>\n",
       "      <th>active</th>\n",
       "    </tr>\n",
       "  </thead>\n",
       "  <tbody>\n",
       "    <tr>\n",
       "      <th>710</th>\n",
       "      <td>0</td>\n",
       "      <td>1</td>\n",
       "      <td>36.83333</td>\n",
       "      <td>3.0000</td>\n",
       "      <td>0.000400</td>\n",
       "      <td>0.000000</td>\n",
       "      <td>yes</td>\n",
       "      <td>no</td>\n",
       "      <td>1</td>\n",
       "      <td>12</td>\n",
       "      <td>1</td>\n",
       "      <td>16</td>\n",
       "    </tr>\n",
       "    <tr>\n",
       "      <th>1258</th>\n",
       "      <td>1</td>\n",
       "      <td>0</td>\n",
       "      <td>35.58333</td>\n",
       "      <td>3.5606</td>\n",
       "      <td>0.109084</td>\n",
       "      <td>323.587500</td>\n",
       "      <td>no</td>\n",
       "      <td>no</td>\n",
       "      <td>0</td>\n",
       "      <td>12</td>\n",
       "      <td>1</td>\n",
       "      <td>0</td>\n",
       "    </tr>\n",
       "    <tr>\n",
       "      <th>435</th>\n",
       "      <td>1</td>\n",
       "      <td>0</td>\n",
       "      <td>25.66667</td>\n",
       "      <td>2.0000</td>\n",
       "      <td>0.004900</td>\n",
       "      <td>7.416667</td>\n",
       "      <td>no</td>\n",
       "      <td>no</td>\n",
       "      <td>0</td>\n",
       "      <td>26</td>\n",
       "      <td>1</td>\n",
       "      <td>13</td>\n",
       "    </tr>\n",
       "    <tr>\n",
       "      <th>987</th>\n",
       "      <td>0</td>\n",
       "      <td>0</td>\n",
       "      <td>25.58333</td>\n",
       "      <td>1.7500</td>\n",
       "      <td>0.000686</td>\n",
       "      <td>0.000000</td>\n",
       "      <td>no</td>\n",
       "      <td>no</td>\n",
       "      <td>0</td>\n",
       "      <td>108</td>\n",
       "      <td>0</td>\n",
       "      <td>0</td>\n",
       "    </tr>\n",
       "    <tr>\n",
       "      <th>1286</th>\n",
       "      <td>1</td>\n",
       "      <td>1</td>\n",
       "      <td>48.66667</td>\n",
       "      <td>6.0000</td>\n",
       "      <td>0.177017</td>\n",
       "      <td>885.085800</td>\n",
       "      <td>yes</td>\n",
       "      <td>no</td>\n",
       "      <td>3</td>\n",
       "      <td>114</td>\n",
       "      <td>1</td>\n",
       "      <td>19</td>\n",
       "    </tr>\n",
       "  </tbody>\n",
       "</table>\n",
       "</div>"
      ],
      "text/plain": [
       "      card  reports       age  income     share  expenditure owner selfemp  \\\n",
       "710      0        1  36.83333  3.0000  0.000400     0.000000   yes      no   \n",
       "1258     1        0  35.58333  3.5606  0.109084   323.587500    no      no   \n",
       "435      1        0  25.66667  2.0000  0.004900     7.416667    no      no   \n",
       "987      0        0  25.58333  1.7500  0.000686     0.000000    no      no   \n",
       "1286     1        1  48.66667  6.0000  0.177017   885.085800   yes      no   \n",
       "\n",
       "      dependents  months  majorcards  active  \n",
       "710            1      12           1      16  \n",
       "1258           0      12           1       0  \n",
       "435            0      26           1      13  \n",
       "987            0     108           0       0  \n",
       "1286           3     114           1      19  "
      ]
     },
     "execution_count": 27,
     "metadata": {},
     "output_type": "execute_result"
    }
   ],
   "source": [
    "df_train_full.head()"
   ]
  },
  {
   "cell_type": "code",
   "execution_count": 28,
   "id": "1756a084",
   "metadata": {},
   "outputs": [],
   "source": [
    "df_train_full2 = df_train_full.copy()"
   ]
  },
  {
   "cell_type": "code",
   "execution_count": 29,
   "id": "302a5c69",
   "metadata": {},
   "outputs": [],
   "source": [
    "def train_model(df_train, y_train, C=1.0):\n",
    "    dicts = df_train.to_dict(orient='records')\n",
    "\n",
    "    dv = DictVectorizer(sparse=False)\n",
    "    X_train = dv.fit_transform(dicts)\n",
    "\n",
    "    model = LogisticRegression(C=C, max_iter=1000)\n",
    "    model.fit(X_train, y_train)\n",
    "    \n",
    "    return dv, model"
   ]
  },
  {
   "cell_type": "code",
   "execution_count": 30,
   "id": "184747e6",
   "metadata": {},
   "outputs": [],
   "source": [
    "def predict_model(df, dv, model):\n",
    "    dicts = df.to_dict(orient='records')\n",
    "\n",
    "    X = dv.transform(dicts)\n",
    "    y_pred = model.predict_proba(X)[:, 1]\n",
    "\n",
    "    return y_pred"
   ]
  },
  {
   "cell_type": "code",
   "execution_count": 31,
   "id": "141e50ac",
   "metadata": {},
   "outputs": [
    {
     "data": {
      "text/plain": [
       "[0.9943244739756367,\n",
       " 0.9944852941176471,\n",
       " 0.9938076416337287,\n",
       " 0.9997405293201868,\n",
       " 1.0]"
      ]
     },
     "execution_count": 31,
     "metadata": {},
     "output_type": "execute_result"
    }
   ],
   "source": [
    "    final_var2 = [\"reports\", \"age\", \"income\", \"share\", \"expenditure\", \"dependents\", \"months\", \"majorcards\", \"active\", \"owner\", \"selfemp\"]\n",
    "    kfold = KFold(n_splits=5, shuffle=True, random_state=1)\n",
    "    scores2 = []\n",
    "\n",
    "    for train_idx, val_idx in kfold.split(df_train_full2):\n",
    "        \n",
    "        df_train2 = df_train_full2.iloc[train_idx]\n",
    "        df_val2 = df_train_full2.iloc[val_idx]\n",
    "\n",
    "        y_train2 = df_train2['card'].values\n",
    "        y_val2 = df_val2['card'].values\n",
    "        \n",
    "        df_train2 = df_train2[final_var2]\n",
    "        df_val2 = df_val2[final_var2]\n",
    "        \n",
    "        dv2, model2 = train_model(df_train2, y_train2,C=1.0)\n",
    "        y_pred2 = predict_model(df_val2, dv2, model2)\n",
    "\n",
    "        auc2 = roc_auc_score(y_val2, y_pred2)\n",
    "        scores2.append(auc2)\n",
    "\n",
    "    scores2"
   ]
  },
  {
   "cell_type": "code",
   "execution_count": 32,
   "id": "e8f56604",
   "metadata": {
    "scrolled": true
   },
   "outputs": [
    {
     "data": {
      "text/plain": [
       "0.003"
      ]
     },
     "execution_count": 32,
     "metadata": {},
     "output_type": "execute_result"
    }
   ],
   "source": [
    "round(np.std(scores2),3)"
   ]
  },
  {
   "cell_type": "markdown",
   "id": "c53d76b6",
   "metadata": {},
   "source": [
    "## Question 6\n",
    "\n",
    "Now let's use 5-Fold cross-validation to find the best parameter C\n",
    "\n",
    "* Iterate over the following C values: `[0.01, 0.1, 1, 10]`\n",
    "* Initialize `KFold` with the same parameters as previously\n",
    "* Use these parametes for the model: `LogisticRegression(solver='liblinear', C=C, max_iter=1000)`\n",
    "* Compute the mean score as well as the std (round the mean and std to 3 decimal digits)\n",
    "\n",
    "\n",
    "Which C leads to the best mean score?\n",
    "\n",
    "- 0.01\n",
    "- 0.1\n",
    "- 1\n",
    "- 10\n",
    "\n",
    "If you have ties, select the score with the lowest std. If you still have ties, select the smallest C\n",
    "\n",
    "> ANSWER  \n",
    "  `After rounding there is a tie for mean and std, then the smallest C is 0.1`"
   ]
  },
  {
   "cell_type": "code",
   "execution_count": 33,
   "id": "169d506e",
   "metadata": {},
   "outputs": [],
   "source": [
    "df_train_full2 = df_train_full.copy()"
   ]
  },
  {
   "cell_type": "code",
   "execution_count": 35,
   "id": "4e77fae6",
   "metadata": {},
   "outputs": [
    {
     "data": {
      "application/vnd.jupyter.widget-view+json": {
       "model_id": "bbd7d9df68be43f98fc9cdc8b3b201cd",
       "version_major": 2,
       "version_minor": 0
      },
      "text/plain": [
       "  0%|          | 0/4 [00:00<?, ?it/s]"
      ]
     },
     "metadata": {},
     "output_type": "display_data"
    },
    {
     "name": "stdout",
     "output_type": "stream",
     "text": [
      "0.01 \t mean rounded= 0.995 \t std rounded= 0.004\n",
      "0.1 \t mean rounded= 0.997 \t std rounded= 0.003\n",
      "1 \t mean rounded= 0.996 \t std rounded= 0.003\n",
      "10 \t mean rounded= 0.997 \t std rounded= 0.003\n"
     ]
    }
   ],
   "source": [
    "final_var2 = [\"reports\", \"age\", \"income\", \"share\", \"expenditure\", \"dependents\", \"months\", \"majorcards\", \"active\", \"owner\", \"selfemp\"]\n",
    " \n",
    "\n",
    "for C in tqdm([0.01, 0.1, 1, 10]):\n",
    "    \n",
    "    kfold = KFold(n_splits=5, shuffle=True, random_state=1)\n",
    "\n",
    "    scores2 = []\n",
    "\n",
    "    for train_idx, val_idx in kfold.split(df_train_full2):\n",
    "        \n",
    "        df_train2 = df_train_full2.iloc[train_idx]\n",
    "        df_val2 = df_train_full2.iloc[val_idx]\n",
    "\n",
    "        y_train2 = df_train2['card'].values\n",
    "        y_val2 = df_val2['card'].values\n",
    "        \n",
    "        df_train2 = df_train2[final_var2]\n",
    "        df_val2 = df_val2[final_var2]\n",
    "        \n",
    "        dv2, model2 = train_model(df_train2, y_train2, C=C)\n",
    "        y_pred2 = predict_model(df_val2, dv2, model2)\n",
    "\n",
    "        auc2 = roc_auc_score(y_val2, y_pred2)\n",
    "        scores2.append(auc2)\n",
    "        \n",
    "    print(C, '\\t', 'mean rounded=', round(np.mean(scores2),3), '\\t', 'std rounded=', round(np.std(scores2),3))"
   ]
  }
 ],
 "metadata": {
  "kernelspec": {
   "display_name": "Python 3 (ipykernel)",
   "language": "python",
   "name": "python3"
  },
  "language_info": {
   "codemirror_mode": {
    "name": "ipython",
    "version": 3
   },
   "file_extension": ".py",
   "mimetype": "text/x-python",
   "name": "python",
   "nbconvert_exporter": "python",
   "pygments_lexer": "ipython3",
   "version": "3.9.13"
  }
 },
 "nbformat": 4,
 "nbformat_minor": 5
}
