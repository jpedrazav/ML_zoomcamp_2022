{
 "cells": [
  {
   "cell_type": "code",
   "execution_count": 1,
   "id": "e41232ea",
   "metadata": {},
   "outputs": [
    {
     "data": {
      "text/html": [
       "<style>.container { width:100% !important; }</style>"
      ],
      "text/plain": [
       "<IPython.core.display.HTML object>"
      ]
     },
     "metadata": {},
     "output_type": "display_data"
    }
   ],
   "source": [
    "#Make python screen wider\n",
    "from IPython.display import display, HTML\n",
    "display(HTML(\"<style>.container { width:100% !important; }</style>\"))"
   ]
  },
  {
   "cell_type": "code",
   "execution_count": 304,
   "id": "ffec1ec8",
   "metadata": {},
   "outputs": [],
   "source": [
    "import numpy as np\n",
    "import wget\n",
    "import pandas as pd\n",
    "import statistics as st\n",
    "from scipy import stats\n",
    "\n",
    "from sklearn.model_selection import train_test_split\n",
    "from sklearn.metrics import mutual_info_score\n",
    "from sklearn.feature_extraction import DictVectorizer\n",
    "from sklearn.linear_model import LogisticRegression\n",
    "\n",
    "import seaborn as sns\n",
    "from matplotlib import pyplot as plt\n",
    "%matplotlib inline\n",
    "\n",
    "#increase the width of the line\n",
    "large_width = 400\n",
    "np.set_printoptions(linewidth=large_width)"
   ]
  },
  {
   "cell_type": "markdown",
   "id": "e06b1f49",
   "metadata": {},
   "source": [
    "## Homework\n",
    "\n",
    "### Dataset\n",
    "\n",
    "In this homework, we will use the California Housing Prices data from [Kaggle](https://www.kaggle.com/datasets/camnugent/california-housing-prices).\n",
    "\n",
    "Here's a wget-able [link](https://raw.githubusercontent.com/alexeygrigorev/datasets/master/housing.csv):\n",
    "\n",
    "```bash\n",
    "wget https://raw.githubusercontent.com/alexeygrigorev/datasets/master/housing.csv\n",
    "```\n",
    "We'll keep working with the `'median_house_value'` variable, and we'll transform it to a classification task. "
   ]
  },
  {
   "cell_type": "code",
   "execution_count": 3,
   "id": "1c997160",
   "metadata": {
    "scrolled": true
   },
   "outputs": [
    {
     "name": "stdout",
     "output_type": "stream",
     "text": [
      "\r",
      "  0% [                                                                          ]       0 / 1423529\r",
      "  0% [                                                                          ]    8192 / 1423529\r",
      "  1% [                                                                          ]   16384 / 1423529\r",
      "  1% [.                                                                         ]   24576 / 1423529\r",
      "  2% [.                                                                         ]   32768 / 1423529\r",
      "  2% [..                                                                        ]   40960 / 1423529\r",
      "  3% [..                                                                        ]   49152 / 1423529\r",
      "  4% [..                                                                        ]   57344 / 1423529\r",
      "  4% [...                                                                       ]   65536 / 1423529\r",
      "  5% [...                                                                       ]   73728 / 1423529\r",
      "  5% [....                                                                      ]   81920 / 1423529\r",
      "  6% [....                                                                      ]   90112 / 1423529\r",
      "  6% [.....                                                                     ]   98304 / 1423529\r",
      "  7% [.....                                                                     ]  106496 / 1423529\r",
      "  8% [.....                                                                     ]  114688 / 1423529\r",
      "  8% [......                                                                    ]  122880 / 1423529\r",
      "  9% [......                                                                    ]  131072 / 1423529\r",
      "  9% [.......                                                                   ]  139264 / 1423529\r",
      " 10% [.......                                                                   ]  147456 / 1423529\r",
      " 10% [........                                                                  ]  155648 / 1423529\r",
      " 11% [........                                                                  ]  163840 / 1423529\r",
      " 12% [........                                                                  ]  172032 / 1423529\r",
      " 12% [.........                                                                 ]  180224 / 1423529\r",
      " 13% [.........                                                                 ]  188416 / 1423529\r",
      " 13% [..........                                                                ]  196608 / 1423529\r",
      " 14% [..........                                                                ]  204800 / 1423529\r",
      " 14% [...........                                                               ]  212992 / 1423529\r",
      " 15% [...........                                                               ]  221184 / 1423529\r",
      " 16% [...........                                                               ]  229376 / 1423529\r",
      " 16% [............                                                              ]  237568 / 1423529\r",
      " 17% [............                                                              ]  245760 / 1423529\r",
      " 17% [.............                                                             ]  253952 / 1423529\r",
      " 18% [.............                                                             ]  262144 / 1423529\r",
      " 18% [..............                                                            ]  270336 / 1423529\r",
      " 19% [..............                                                            ]  278528 / 1423529\r",
      " 20% [..............                                                            ]  286720 / 1423529\r",
      " 20% [...............                                                           ]  294912 / 1423529\r",
      " 21% [...............                                                           ]  303104 / 1423529\r",
      " 21% [................                                                          ]  311296 / 1423529\r",
      " 22% [................                                                          ]  319488 / 1423529\r",
      " 23% [.................                                                         ]  327680 / 1423529\r",
      " 23% [.................                                                         ]  335872 / 1423529\r",
      " 24% [.................                                                         ]  344064 / 1423529\r",
      " 24% [..................                                                        ]  352256 / 1423529\r",
      " 25% [..................                                                        ]  360448 / 1423529\r",
      " 25% [...................                                                       ]  368640 / 1423529\r",
      " 26% [...................                                                       ]  376832 / 1423529\r",
      " 27% [....................                                                      ]  385024 / 1423529\r",
      " 27% [....................                                                      ]  393216 / 1423529\r",
      " 28% [....................                                                      ]  401408 / 1423529\r",
      " 28% [.....................                                                     ]  409600 / 1423529\r",
      " 29% [.....................                                                     ]  417792 / 1423529\r",
      " 29% [......................                                                    ]  425984 / 1423529\r",
      " 30% [......................                                                    ]  434176 / 1423529\r",
      " 31% [......................                                                    ]  442368 / 1423529\r",
      " 31% [.......................                                                   ]  450560 / 1423529\r",
      " 32% [.......................                                                   ]  458752 / 1423529\r",
      " 32% [........................                                                  ]  466944 / 1423529\r",
      " 33% [........................                                                  ]  475136 / 1423529\r",
      " 33% [.........................                                                 ]  483328 / 1423529\r",
      " 34% [.........................                                                 ]  491520 / 1423529\r",
      " 35% [.........................                                                 ]  499712 / 1423529\r",
      " 35% [..........................                                                ]  507904 / 1423529\r",
      " 36% [..........................                                                ]  516096 / 1423529\r",
      " 36% [...........................                                               ]  524288 / 1423529\r",
      " 37% [...........................                                               ]  532480 / 1423529\r",
      " 37% [............................                                              ]  540672 / 1423529\r",
      " 38% [............................                                              ]  548864 / 1423529\r",
      " 39% [............................                                              ]  557056 / 1423529\r",
      " 39% [.............................                                             ]  565248 / 1423529\r",
      " 40% [.............................                                             ]  573440 / 1423529\r",
      " 40% [..............................                                            ]  581632 / 1423529\r",
      " 41% [..............................                                            ]  589824 / 1423529\r",
      " 42% [...............................                                           ]  598016 / 1423529\r",
      " 42% [...............................                                           ]  606208 / 1423529\r",
      " 43% [...............................                                           ]  614400 / 1423529\r",
      " 43% [................................                                          ]  622592 / 1423529\r",
      " 44% [................................                                          ]  630784 / 1423529\r",
      " 44% [.................................                                         ]  638976 / 1423529\r",
      " 45% [.................................                                         ]  647168 / 1423529\r",
      " 46% [..................................                                        ]  655360 / 1423529\r",
      " 46% [..................................                                        ]  663552 / 1423529\r",
      " 47% [..................................                                        ]  671744 / 1423529\r",
      " 47% [...................................                                       ]  679936 / 1423529\r",
      " 48% [...................................                                       ]  688128 / 1423529\r",
      " 48% [....................................                                      ]  696320 / 1423529\r",
      " 49% [....................................                                      ]  704512 / 1423529\r",
      " 50% [.....................................                                     ]  712704 / 1423529\r",
      " 50% [.....................................                                     ]  720896 / 1423529\r",
      " 51% [.....................................                                     ]  729088 / 1423529\r",
      " 51% [......................................                                    ]  737280 / 1423529\r",
      " 52% [......................................                                    ]  745472 / 1423529\r",
      " 52% [.......................................                                   ]  753664 / 1423529\r",
      " 53% [.......................................                                   ]  761856 / 1423529\r",
      " 54% [........................................                                  ]  770048 / 1423529\r",
      " 54% [........................................                                  ]  778240 / 1423529\r",
      " 55% [........................................                                  ]  786432 / 1423529\r",
      " 55% [.........................................                                 ]  794624 / 1423529\r",
      " 56% [.........................................                                 ]  802816 / 1423529\r",
      " 56% [..........................................                                ]  811008 / 1423529\r",
      " 57% [..........................................                                ]  819200 / 1423529\r",
      " 58% [...........................................                               ]  827392 / 1423529\r",
      " 58% [...........................................                               ]  835584 / 1423529\r",
      " 59% [...........................................                               ]  843776 / 1423529\r",
      " 59% [............................................                              ]  851968 / 1423529\r",
      " 60% [............................................                              ]  860160 / 1423529\r",
      " 60% [.............................................                             ]  868352 / 1423529\r",
      " 61% [.............................................                             ]  876544 / 1423529\r",
      " 62% [.............................................                             ]  884736 / 1423529\r",
      " 62% [..............................................                            ]  892928 / 1423529\r",
      " 63% [..............................................                            ]  901120 / 1423529\r",
      " 63% [...............................................                           ]  909312 / 1423529\r",
      " 64% [...............................................                           ]  917504 / 1423529\r",
      " 65% [................................................                          ]  925696 / 1423529\r",
      " 65% [................................................                          ]  933888 / 1423529\r",
      " 66% [................................................                          ]  942080 / 1423529\r",
      " 66% [.................................................                         ]  950272 / 1423529\r",
      " 67% [.................................................                         ]  958464 / 1423529\r",
      " 67% [..................................................                        ]  966656 / 1423529\r",
      " 68% [..................................................                        ]  974848 / 1423529\r",
      " 69% [...................................................                       ]  983040 / 1423529\r",
      " 69% [...................................................                       ]  991232 / 1423529\r",
      " 70% [...................................................                       ]  999424 / 1423529\r",
      " 70% [....................................................                      ] 1007616 / 1423529\r",
      " 71% [....................................................                      ] 1015808 / 1423529\r",
      " 71% [.....................................................                     ] 1024000 / 1423529\r",
      " 72% [.....................................................                     ] 1032192 / 1423529\r",
      " 73% [......................................................                    ] 1040384 / 1423529\r",
      " 73% [......................................................                    ] 1048576 / 1423529\r",
      " 74% [......................................................                    ] 1056768 / 1423529\r",
      " 74% [.......................................................                   ] 1064960 / 1423529\r",
      " 75% [.......................................................                   ] 1073152 / 1423529\r",
      " 75% [........................................................                  ] 1081344 / 1423529\r",
      " 76% [........................................................                  ] 1089536 / 1423529\r",
      " 77% [.........................................................                 ] 1097728 / 1423529\r",
      " 77% [.........................................................                 ] 1105920 / 1423529\r",
      " 78% [.........................................................                 ] 1114112 / 1423529\r",
      " 78% [..........................................................                ] 1122304 / 1423529\r",
      " 79% [..........................................................                ] 1130496 / 1423529\r",
      " 79% [...........................................................               ] 1138688 / 1423529\r",
      " 80% [...........................................................               ] 1146880 / 1423529\r",
      " 81% [............................................................              ] 1155072 / 1423529\r",
      " 81% [............................................................              ] 1163264 / 1423529\r",
      " 82% [............................................................              ] 1171456 / 1423529\r",
      " 82% [.............................................................             ] 1179648 / 1423529\r",
      " 83% [.............................................................             ] 1187840 / 1423529\r",
      " 84% [..............................................................            ] 1196032 / 1423529\r",
      " 84% [..............................................................            ] 1204224 / 1423529\r",
      " 85% [...............................................................           ] 1212416 / 1423529\r",
      " 85% [...............................................................           ] 1220608 / 1423529\r",
      " 86% [...............................................................           ] 1228800 / 1423529\r",
      " 86% [................................................................          ] 1236992 / 1423529\r",
      " 87% [................................................................          ] 1245184 / 1423529\r",
      " 88% [.................................................................         ] 1253376 / 1423529\r",
      " 88% [.................................................................         ] 1261568 / 1423529\r",
      " 89% [..................................................................        ] 1269760 / 1423529\r",
      " 89% [..................................................................        ] 1277952 / 1423529\r",
      " 90% [..................................................................        ] 1286144 / 1423529\r",
      " 90% [...................................................................       ] 1294336 / 1423529\r",
      " 91% [...................................................................       ] 1302528 / 1423529\r",
      " 92% [....................................................................      ] 1310720 / 1423529\r",
      " 92% [....................................................................      ] 1318912 / 1423529\r",
      " 93% [....................................................................      ] 1327104 / 1423529\r",
      " 93% [.....................................................................     ] 1335296 / 1423529\r",
      " 94% [.....................................................................     ] 1343488 / 1423529\r",
      " 94% [......................................................................    ] 1351680 / 1423529\r",
      " 95% [......................................................................    ] 1359872 / 1423529\r",
      " 96% [.......................................................................   ] 1368064 / 1423529\r",
      " 96% [.......................................................................   ] 1376256 / 1423529\r",
      " 97% [.......................................................................   ] 1384448 / 1423529\r",
      " 97% [........................................................................  ] 1392640 / 1423529\r",
      " 98% [........................................................................  ] 1400832 / 1423529\r",
      " 98% [......................................................................... ] 1409024 / 1423529\r",
      " 99% [......................................................................... ] 1417216 / 1423529\r",
      "100% [..........................................................................] 1423529 / 1423529"
     ]
    },
    {
     "data": {
      "text/plain": [
       "'housing.csv'"
      ]
     },
     "execution_count": 3,
     "metadata": {},
     "output_type": "execute_result"
    }
   ],
   "source": [
    "wget.download(\"https://raw.githubusercontent.com/alexeygrigorev/datasets/master/housing.csv\")"
   ]
  },
  {
   "cell_type": "code",
   "execution_count": 32,
   "id": "f7576fa4",
   "metadata": {},
   "outputs": [],
   "source": [
    "df_raw=pd.read_csv('housing.csv')"
   ]
  },
  {
   "cell_type": "markdown",
   "id": "f959b75c",
   "metadata": {},
   "source": [
    "### Features\n",
    "\n",
    "For the rest of the homework, you'll need to use only these columns:\n",
    "\n",
    "* `'latitude'`,\n",
    "* `'longitude'`,\n",
    "* `'housing_median_age'`,\n",
    "* `'total_rooms'`,\n",
    "* `'total_bedrooms'`,\n",
    "* `'population'`,\n",
    "* `'households'`,\n",
    "* `'median_income'`,\n",
    "* `'median_house_value'`\n",
    "* `'ocean_proximity'`,"
   ]
  },
  {
   "cell_type": "markdown",
   "id": "d15132fb",
   "metadata": {},
   "source": [
    "### Data preparation\n",
    "\n",
    "* Select only the features from above and fill in the missing values with 0.\n",
    "* Create a new column `rooms_per_household` by dividing the column `total_rooms` by the column `households` from dataframe. \n",
    "* Create a new column `bedrooms_per_room` by dividing the column `total_bedrooms` by the column `total_rooms` from dataframe. \n",
    "* Create a new column `population_per_household` by dividing the column `population` by the column `households` from dataframe. "
   ]
  },
  {
   "cell_type": "code",
   "execution_count": 33,
   "id": "1722411c",
   "metadata": {},
   "outputs": [
    {
     "data": {
      "text/plain": [
       "latitude                0\n",
       "longitude               0\n",
       "housing_median_age      0\n",
       "total_rooms             0\n",
       "total_bedrooms        207\n",
       "population              0\n",
       "households              0\n",
       "median_income           0\n",
       "median_house_value      0\n",
       "ocean_proximity         0\n",
       "dtype: int64"
      ]
     },
     "execution_count": 33,
     "metadata": {},
     "output_type": "execute_result"
    }
   ],
   "source": [
    "df = data_raw[['latitude', 'longitude','housing_median_age','total_rooms','total_bedrooms','population','households','median_income','median_house_value','ocean_proximity']].copy()\n",
    "df.isna().sum()"
   ]
  },
  {
   "cell_type": "code",
   "execution_count": 34,
   "id": "350395c0",
   "metadata": {},
   "outputs": [
    {
     "data": {
      "text/plain": [
       "latitude              0\n",
       "longitude             0\n",
       "housing_median_age    0\n",
       "total_rooms           0\n",
       "total_bedrooms        0\n",
       "population            0\n",
       "households            0\n",
       "median_income         0\n",
       "median_house_value    0\n",
       "ocean_proximity       0\n",
       "dtype: int64"
      ]
     },
     "execution_count": 34,
     "metadata": {},
     "output_type": "execute_result"
    }
   ],
   "source": [
    "df = df.fillna(0)\n",
    "df.isna().sum()"
   ]
  },
  {
   "cell_type": "code",
   "execution_count": 35,
   "id": "0d6fd2d7",
   "metadata": {},
   "outputs": [
    {
     "name": "stdout",
     "output_type": "stream",
     "text": [
      "<class 'pandas.core.frame.DataFrame'>\n",
      "RangeIndex: 20640 entries, 0 to 20639\n",
      "Data columns (total 10 columns):\n",
      " #   Column              Non-Null Count  Dtype  \n",
      "---  ------              --------------  -----  \n",
      " 0   latitude            20640 non-null  float64\n",
      " 1   longitude           20640 non-null  float64\n",
      " 2   housing_median_age  20640 non-null  float64\n",
      " 3   total_rooms         20640 non-null  float64\n",
      " 4   total_bedrooms      20640 non-null  float64\n",
      " 5   population          20640 non-null  float64\n",
      " 6   households          20640 non-null  float64\n",
      " 7   median_income       20640 non-null  float64\n",
      " 8   median_house_value  20640 non-null  float64\n",
      " 9   ocean_proximity     20640 non-null  object \n",
      "dtypes: float64(9), object(1)\n",
      "memory usage: 1.6+ MB\n"
     ]
    }
   ],
   "source": [
    "df.info()"
   ]
  },
  {
   "cell_type": "code",
   "execution_count": 37,
   "id": "7940d89c",
   "metadata": {},
   "outputs": [],
   "source": [
    "df['rooms_per_household'] = (df['total_rooms']/df['households'])\n",
    "df['bedrooms_per_room'] = (df['total_bedrooms']/df['total_rooms'])\n",
    "df['population_per_household'] = (df['population']/df['households'])"
   ]
  },
  {
   "cell_type": "code",
   "execution_count": 38,
   "id": "c28208a7",
   "metadata": {
    "scrolled": true
   },
   "outputs": [
    {
     "data": {
      "text/html": [
       "<div>\n",
       "<style scoped>\n",
       "    .dataframe tbody tr th:only-of-type {\n",
       "        vertical-align: middle;\n",
       "    }\n",
       "\n",
       "    .dataframe tbody tr th {\n",
       "        vertical-align: top;\n",
       "    }\n",
       "\n",
       "    .dataframe thead th {\n",
       "        text-align: right;\n",
       "    }\n",
       "</style>\n",
       "<table border=\"1\" class=\"dataframe\">\n",
       "  <thead>\n",
       "    <tr style=\"text-align: right;\">\n",
       "      <th></th>\n",
       "      <th>latitude</th>\n",
       "      <th>longitude</th>\n",
       "      <th>housing_median_age</th>\n",
       "      <th>total_rooms</th>\n",
       "      <th>total_bedrooms</th>\n",
       "      <th>population</th>\n",
       "      <th>households</th>\n",
       "      <th>median_income</th>\n",
       "      <th>median_house_value</th>\n",
       "      <th>ocean_proximity</th>\n",
       "      <th>rooms_per_household</th>\n",
       "      <th>bedrooms_per_room</th>\n",
       "      <th>population_per_household</th>\n",
       "    </tr>\n",
       "  </thead>\n",
       "  <tbody>\n",
       "    <tr>\n",
       "      <th>0</th>\n",
       "      <td>37.88</td>\n",
       "      <td>-122.23</td>\n",
       "      <td>41.0</td>\n",
       "      <td>880.0</td>\n",
       "      <td>129.0</td>\n",
       "      <td>322.0</td>\n",
       "      <td>126.0</td>\n",
       "      <td>8.3252</td>\n",
       "      <td>452600.0</td>\n",
       "      <td>NEAR BAY</td>\n",
       "      <td>6.984127</td>\n",
       "      <td>0.146591</td>\n",
       "      <td>2.555556</td>\n",
       "    </tr>\n",
       "    <tr>\n",
       "      <th>1</th>\n",
       "      <td>37.86</td>\n",
       "      <td>-122.22</td>\n",
       "      <td>21.0</td>\n",
       "      <td>7099.0</td>\n",
       "      <td>1106.0</td>\n",
       "      <td>2401.0</td>\n",
       "      <td>1138.0</td>\n",
       "      <td>8.3014</td>\n",
       "      <td>358500.0</td>\n",
       "      <td>NEAR BAY</td>\n",
       "      <td>6.238137</td>\n",
       "      <td>0.155797</td>\n",
       "      <td>2.109842</td>\n",
       "    </tr>\n",
       "    <tr>\n",
       "      <th>2</th>\n",
       "      <td>37.85</td>\n",
       "      <td>-122.24</td>\n",
       "      <td>52.0</td>\n",
       "      <td>1467.0</td>\n",
       "      <td>190.0</td>\n",
       "      <td>496.0</td>\n",
       "      <td>177.0</td>\n",
       "      <td>7.2574</td>\n",
       "      <td>352100.0</td>\n",
       "      <td>NEAR BAY</td>\n",
       "      <td>8.288136</td>\n",
       "      <td>0.129516</td>\n",
       "      <td>2.802260</td>\n",
       "    </tr>\n",
       "    <tr>\n",
       "      <th>3</th>\n",
       "      <td>37.85</td>\n",
       "      <td>-122.25</td>\n",
       "      <td>52.0</td>\n",
       "      <td>1274.0</td>\n",
       "      <td>235.0</td>\n",
       "      <td>558.0</td>\n",
       "      <td>219.0</td>\n",
       "      <td>5.6431</td>\n",
       "      <td>341300.0</td>\n",
       "      <td>NEAR BAY</td>\n",
       "      <td>5.817352</td>\n",
       "      <td>0.184458</td>\n",
       "      <td>2.547945</td>\n",
       "    </tr>\n",
       "    <tr>\n",
       "      <th>4</th>\n",
       "      <td>37.85</td>\n",
       "      <td>-122.25</td>\n",
       "      <td>52.0</td>\n",
       "      <td>1627.0</td>\n",
       "      <td>280.0</td>\n",
       "      <td>565.0</td>\n",
       "      <td>259.0</td>\n",
       "      <td>3.8462</td>\n",
       "      <td>342200.0</td>\n",
       "      <td>NEAR BAY</td>\n",
       "      <td>6.281853</td>\n",
       "      <td>0.172096</td>\n",
       "      <td>2.181467</td>\n",
       "    </tr>\n",
       "  </tbody>\n",
       "</table>\n",
       "</div>"
      ],
      "text/plain": [
       "   latitude  longitude  housing_median_age  total_rooms  total_bedrooms  \\\n",
       "0     37.88    -122.23                41.0        880.0           129.0   \n",
       "1     37.86    -122.22                21.0       7099.0          1106.0   \n",
       "2     37.85    -122.24                52.0       1467.0           190.0   \n",
       "3     37.85    -122.25                52.0       1274.0           235.0   \n",
       "4     37.85    -122.25                52.0       1627.0           280.0   \n",
       "\n",
       "   population  households  median_income  median_house_value ocean_proximity  \\\n",
       "0       322.0       126.0         8.3252            452600.0        NEAR BAY   \n",
       "1      2401.0      1138.0         8.3014            358500.0        NEAR BAY   \n",
       "2       496.0       177.0         7.2574            352100.0        NEAR BAY   \n",
       "3       558.0       219.0         5.6431            341300.0        NEAR BAY   \n",
       "4       565.0       259.0         3.8462            342200.0        NEAR BAY   \n",
       "\n",
       "   rooms_per_household  bedrooms_per_room  population_per_household  \n",
       "0             6.984127           0.146591                  2.555556  \n",
       "1             6.238137           0.155797                  2.109842  \n",
       "2             8.288136           0.129516                  2.802260  \n",
       "3             5.817352           0.184458                  2.547945  \n",
       "4             6.281853           0.172096                  2.181467  "
      ]
     },
     "execution_count": 38,
     "metadata": {},
     "output_type": "execute_result"
    }
   ],
   "source": [
    "df.head()"
   ]
  },
  {
   "cell_type": "markdown",
   "id": "40247297",
   "metadata": {},
   "source": [
    "### Question 1\n",
    "\n",
    "What is the most frequent observation (mode) for the column `ocean_proximity`?\n",
    "\n",
    "Options:\n",
    "* `NEAR BAY`\n",
    "* `<1H OCEAN`\n",
    "* `INLAND`\n",
    "* `NEAR OCEAN`\n",
    "> ANSWER  \n",
    "  `<1H OCEAN`"
   ]
  },
  {
   "cell_type": "code",
   "execution_count": 39,
   "id": "28c15e8d",
   "metadata": {
    "scrolled": true
   },
   "outputs": [
    {
     "data": {
      "text/plain": [
       "'<1H OCEAN'"
      ]
     },
     "execution_count": 39,
     "metadata": {},
     "output_type": "execute_result"
    }
   ],
   "source": [
    "#manual mode\n",
    "df_mode_manual = df['ocean_proximity'].value_counts(dropna = False).index\n",
    "df_mode_manual[0]"
   ]
  },
  {
   "cell_type": "code",
   "execution_count": 40,
   "id": "c373c0f8",
   "metadata": {
    "scrolled": true
   },
   "outputs": [
    {
     "data": {
      "text/plain": [
       "'<1H OCEAN'"
      ]
     },
     "execution_count": 40,
     "metadata": {},
     "output_type": "execute_result"
    }
   ],
   "source": [
    "#mode using st package\n",
    "df_mode2 = st.mode(df['ocean_proximity'])\n",
    "df_mode2"
   ]
  },
  {
   "cell_type": "markdown",
   "id": "1721caa8",
   "metadata": {},
   "source": [
    "## add new variables before splitting\n",
    "\n",
    "* Split your data in train/val/test sets, with 60%/20%/20% distribution.\n",
    "* Use Scikit-Learn for that (the `train_test_split` function) and set the seed to 42."
   ]
  },
  {
   "cell_type": "code",
   "execution_count": null,
   "id": "d4966662",
   "metadata": {},
   "outputs": [],
   "source": []
  },
  {
   "cell_type": "markdown",
   "id": "0d0ad5f6",
   "metadata": {},
   "source": [
    "## Split the data\n",
    "\n",
    "* Split your data in train/val/test sets, with 60%/20%/20% distribution.\n",
    "* Use Scikit-Learn for that (the `train_test_split` function) and set the seed to 42.\n",
    "* Make sure that the target value (`median_house_value`) is not in your dataframe."
   ]
  },
  {
   "cell_type": "code",
   "execution_count": 43,
   "id": "22c8f929",
   "metadata": {
    "scrolled": true
   },
   "outputs": [
    {
     "data": {
      "text/plain": [
       "(20640, 12384, 4128, 4128)"
      ]
     },
     "execution_count": 43,
     "metadata": {},
     "output_type": "execute_result"
    }
   ],
   "source": [
    "df_train_full, df_test = train_test_split(df, test_size=0.2, random_state=42)\n",
    "df_train, df_val = train_test_split(df_train_full, test_size=0.25, random_state=42)\n",
    "len(df), len(df_train), len(df_val), len(df_test)"
   ]
  },
  {
   "cell_type": "code",
   "execution_count": 44,
   "id": "49ab3c59",
   "metadata": {},
   "outputs": [],
   "source": [
    "y_train = df_train.median_house_value.values\n",
    "y_val = df_val.median_house_value.values\n",
    "y_test = df_test.median_house_value.values"
   ]
  },
  {
   "cell_type": "code",
   "execution_count": 45,
   "id": "e3da0f60",
   "metadata": {},
   "outputs": [],
   "source": [
    "del df_train['median_house_value']\n",
    "del df_val['median_house_value']\n",
    "del df_test['median_house_value']"
   ]
  },
  {
   "cell_type": "markdown",
   "id": "cb4553e6",
   "metadata": {},
   "source": [
    "### Question 2\n",
    "\n",
    "* Create the [correlation matrix](https://www.google.com/search?q=correlation+matrix) for the numerical features of your train dataset.\n",
    "    - In a correlation matrix, you compute the correlation coefficient between every pair of features in the dataset.\n",
    "* What are the two features that have the biggest correlation in this dataset?\n",
    "\n",
    "Options:\n",
    "* `total_bedrooms` and `households`\n",
    "* `total_bedrooms` and `total_rooms`\n",
    "* `population` and `households`\n",
    "* `population_per_household` and `total_rooms`\n",
    "\n",
    "> ANSWER  \n",
    "  `total_bedrooms` and `households`"
   ]
  },
  {
   "cell_type": "code",
   "execution_count": 143,
   "id": "bdf18fdd",
   "metadata": {
    "scrolled": false
   },
   "outputs": [
    {
     "name": "stdout",
     "output_type": "stream",
     "text": [
      "<class 'pandas.core.frame.DataFrame'>\n",
      "Int64Index: 12384 entries, 17244 to 8472\n",
      "Data columns (total 11 columns):\n",
      " #   Column                    Non-Null Count  Dtype  \n",
      "---  ------                    --------------  -----  \n",
      " 0   latitude                  12384 non-null  float64\n",
      " 1   longitude                 12384 non-null  float64\n",
      " 2   housing_median_age        12384 non-null  float64\n",
      " 3   total_rooms               12384 non-null  float64\n",
      " 4   total_bedrooms            12384 non-null  float64\n",
      " 5   population                12384 non-null  float64\n",
      " 6   households                12384 non-null  float64\n",
      " 7   median_income             12384 non-null  float64\n",
      " 8   rooms_per_household       12384 non-null  float64\n",
      " 9   bedrooms_per_room         12384 non-null  float64\n",
      " 10  population_per_household  12384 non-null  float64\n",
      "dtypes: float64(11)\n",
      "memory usage: 1.1 MB\n"
     ]
    }
   ],
   "source": [
    "df_num = df_train.select_dtypes(include=np.number)\n",
    "#alternative\n",
    "# df_num2 = df_train.select_dtypes(include='number')\n",
    "df_num.info()"
   ]
  },
  {
   "cell_type": "code",
   "execution_count": 144,
   "id": "826eb883",
   "metadata": {
    "scrolled": true
   },
   "outputs": [
    {
     "name": "stderr",
     "output_type": "stream",
     "text": [
      "C:\\Users\\Public\\Documents\\Wondershare\\CreatorTemp\\ipykernel_1464\\4190603247.py:2: DeprecationWarning: `np.bool` is a deprecated alias for the builtin `bool`. To silence this warning, use `bool` by itself. Doing this will not modify any behavior and is safe. If you specifically wanted the numpy scalar type, use `np.bool_` here.\n",
      "Deprecated in NumPy 1.20; for more details and guidance: https://numpy.org/devdocs/release/1.20.0-notes.html#deprecations\n",
      "  corr_matrix.mask(np.tril(np.ones(corr_matrix.shape)).astype(np.bool))\n"
     ]
    },
    {
     "data": {
      "text/html": [
       "<div>\n",
       "<style scoped>\n",
       "    .dataframe tbody tr th:only-of-type {\n",
       "        vertical-align: middle;\n",
       "    }\n",
       "\n",
       "    .dataframe tbody tr th {\n",
       "        vertical-align: top;\n",
       "    }\n",
       "\n",
       "    .dataframe thead th {\n",
       "        text-align: right;\n",
       "    }\n",
       "</style>\n",
       "<table border=\"1\" class=\"dataframe\">\n",
       "  <thead>\n",
       "    <tr style=\"text-align: right;\">\n",
       "      <th></th>\n",
       "      <th>latitude</th>\n",
       "      <th>longitude</th>\n",
       "      <th>housing_median_age</th>\n",
       "      <th>total_rooms</th>\n",
       "      <th>total_bedrooms</th>\n",
       "      <th>population</th>\n",
       "      <th>households</th>\n",
       "      <th>median_income</th>\n",
       "      <th>rooms_per_household</th>\n",
       "      <th>bedrooms_per_room</th>\n",
       "      <th>population_per_household</th>\n",
       "    </tr>\n",
       "  </thead>\n",
       "  <tbody>\n",
       "    <tr>\n",
       "      <th>latitude</th>\n",
       "      <td>NaN</td>\n",
       "      <td>-0.925005</td>\n",
       "      <td>0.002477</td>\n",
       "      <td>-0.025914</td>\n",
       "      <td>-0.059730</td>\n",
       "      <td>-0.100272</td>\n",
       "      <td>-0.063529</td>\n",
       "      <td>-0.076805</td>\n",
       "      <td>0.119118</td>\n",
       "      <td>-0.124507</td>\n",
       "      <td>-0.002301</td>\n",
       "    </tr>\n",
       "    <tr>\n",
       "      <th>longitude</th>\n",
       "      <td>NaN</td>\n",
       "      <td>NaN</td>\n",
       "      <td>-0.099812</td>\n",
       "      <td>0.036449</td>\n",
       "      <td>0.063840</td>\n",
       "      <td>0.091670</td>\n",
       "      <td>0.049762</td>\n",
       "      <td>-0.016426</td>\n",
       "      <td>-0.034814</td>\n",
       "      <td>0.102320</td>\n",
       "      <td>0.011022</td>\n",
       "    </tr>\n",
       "    <tr>\n",
       "      <th>housing_median_age</th>\n",
       "      <td>NaN</td>\n",
       "      <td>NaN</td>\n",
       "      <td>NaN</td>\n",
       "      <td>-0.363522</td>\n",
       "      <td>-0.324156</td>\n",
       "      <td>-0.292476</td>\n",
       "      <td>-0.306119</td>\n",
       "      <td>-0.119591</td>\n",
       "      <td>-0.181275</td>\n",
       "      <td>0.129456</td>\n",
       "      <td>0.012167</td>\n",
       "    </tr>\n",
       "    <tr>\n",
       "      <th>total_rooms</th>\n",
       "      <td>NaN</td>\n",
       "      <td>NaN</td>\n",
       "      <td>NaN</td>\n",
       "      <td>NaN</td>\n",
       "      <td>0.931546</td>\n",
       "      <td>0.853219</td>\n",
       "      <td>0.921441</td>\n",
       "      <td>0.198951</td>\n",
       "      <td>0.168926</td>\n",
       "      <td>-0.194185</td>\n",
       "      <td>-0.029452</td>\n",
       "    </tr>\n",
       "    <tr>\n",
       "      <th>total_bedrooms</th>\n",
       "      <td>NaN</td>\n",
       "      <td>NaN</td>\n",
       "      <td>NaN</td>\n",
       "      <td>NaN</td>\n",
       "      <td>NaN</td>\n",
       "      <td>0.877340</td>\n",
       "      <td>0.979399</td>\n",
       "      <td>-0.009833</td>\n",
       "      <td>0.010381</td>\n",
       "      <td>0.078094</td>\n",
       "      <td>-0.034301</td>\n",
       "    </tr>\n",
       "    <tr>\n",
       "      <th>population</th>\n",
       "      <td>NaN</td>\n",
       "      <td>NaN</td>\n",
       "      <td>NaN</td>\n",
       "      <td>NaN</td>\n",
       "      <td>NaN</td>\n",
       "      <td>NaN</td>\n",
       "      <td>0.906841</td>\n",
       "      <td>-0.000849</td>\n",
       "      <td>-0.076210</td>\n",
       "      <td>0.031592</td>\n",
       "      <td>0.064998</td>\n",
       "    </tr>\n",
       "    <tr>\n",
       "      <th>households</th>\n",
       "      <td>NaN</td>\n",
       "      <td>NaN</td>\n",
       "      <td>NaN</td>\n",
       "      <td>NaN</td>\n",
       "      <td>NaN</td>\n",
       "      <td>NaN</td>\n",
       "      <td>NaN</td>\n",
       "      <td>0.011925</td>\n",
       "      <td>-0.085832</td>\n",
       "      <td>0.058004</td>\n",
       "      <td>-0.032522</td>\n",
       "    </tr>\n",
       "    <tr>\n",
       "      <th>median_income</th>\n",
       "      <td>NaN</td>\n",
       "      <td>NaN</td>\n",
       "      <td>NaN</td>\n",
       "      <td>NaN</td>\n",
       "      <td>NaN</td>\n",
       "      <td>NaN</td>\n",
       "      <td>NaN</td>\n",
       "      <td>NaN</td>\n",
       "      <td>0.394154</td>\n",
       "      <td>-0.616617</td>\n",
       "      <td>-0.000454</td>\n",
       "    </tr>\n",
       "    <tr>\n",
       "      <th>rooms_per_household</th>\n",
       "      <td>NaN</td>\n",
       "      <td>NaN</td>\n",
       "      <td>NaN</td>\n",
       "      <td>NaN</td>\n",
       "      <td>NaN</td>\n",
       "      <td>NaN</td>\n",
       "      <td>NaN</td>\n",
       "      <td>NaN</td>\n",
       "      <td>NaN</td>\n",
       "      <td>-0.500589</td>\n",
       "      <td>0.001801</td>\n",
       "    </tr>\n",
       "    <tr>\n",
       "      <th>bedrooms_per_room</th>\n",
       "      <td>NaN</td>\n",
       "      <td>NaN</td>\n",
       "      <td>NaN</td>\n",
       "      <td>NaN</td>\n",
       "      <td>NaN</td>\n",
       "      <td>NaN</td>\n",
       "      <td>NaN</td>\n",
       "      <td>NaN</td>\n",
       "      <td>NaN</td>\n",
       "      <td>NaN</td>\n",
       "      <td>-0.002851</td>\n",
       "    </tr>\n",
       "    <tr>\n",
       "      <th>population_per_household</th>\n",
       "      <td>NaN</td>\n",
       "      <td>NaN</td>\n",
       "      <td>NaN</td>\n",
       "      <td>NaN</td>\n",
       "      <td>NaN</td>\n",
       "      <td>NaN</td>\n",
       "      <td>NaN</td>\n",
       "      <td>NaN</td>\n",
       "      <td>NaN</td>\n",
       "      <td>NaN</td>\n",
       "      <td>NaN</td>\n",
       "    </tr>\n",
       "  </tbody>\n",
       "</table>\n",
       "</div>"
      ],
      "text/plain": [
       "                          latitude  longitude  housing_median_age  \\\n",
       "latitude                       NaN  -0.925005            0.002477   \n",
       "longitude                      NaN        NaN           -0.099812   \n",
       "housing_median_age             NaN        NaN                 NaN   \n",
       "total_rooms                    NaN        NaN                 NaN   \n",
       "total_bedrooms                 NaN        NaN                 NaN   \n",
       "population                     NaN        NaN                 NaN   \n",
       "households                     NaN        NaN                 NaN   \n",
       "median_income                  NaN        NaN                 NaN   \n",
       "rooms_per_household            NaN        NaN                 NaN   \n",
       "bedrooms_per_room              NaN        NaN                 NaN   \n",
       "population_per_household       NaN        NaN                 NaN   \n",
       "\n",
       "                          total_rooms  total_bedrooms  population  households  \\\n",
       "latitude                    -0.025914       -0.059730   -0.100272   -0.063529   \n",
       "longitude                    0.036449        0.063840    0.091670    0.049762   \n",
       "housing_median_age          -0.363522       -0.324156   -0.292476   -0.306119   \n",
       "total_rooms                       NaN        0.931546    0.853219    0.921441   \n",
       "total_bedrooms                    NaN             NaN    0.877340    0.979399   \n",
       "population                        NaN             NaN         NaN    0.906841   \n",
       "households                        NaN             NaN         NaN         NaN   \n",
       "median_income                     NaN             NaN         NaN         NaN   \n",
       "rooms_per_household               NaN             NaN         NaN         NaN   \n",
       "bedrooms_per_room                 NaN             NaN         NaN         NaN   \n",
       "population_per_household          NaN             NaN         NaN         NaN   \n",
       "\n",
       "                          median_income  rooms_per_household  \\\n",
       "latitude                      -0.076805             0.119118   \n",
       "longitude                     -0.016426            -0.034814   \n",
       "housing_median_age            -0.119591            -0.181275   \n",
       "total_rooms                    0.198951             0.168926   \n",
       "total_bedrooms                -0.009833             0.010381   \n",
       "population                    -0.000849            -0.076210   \n",
       "households                     0.011925            -0.085832   \n",
       "median_income                       NaN             0.394154   \n",
       "rooms_per_household                 NaN                  NaN   \n",
       "bedrooms_per_room                   NaN                  NaN   \n",
       "population_per_household            NaN                  NaN   \n",
       "\n",
       "                          bedrooms_per_room  population_per_household  \n",
       "latitude                          -0.124507                 -0.002301  \n",
       "longitude                          0.102320                  0.011022  \n",
       "housing_median_age                 0.129456                  0.012167  \n",
       "total_rooms                       -0.194185                 -0.029452  \n",
       "total_bedrooms                     0.078094                 -0.034301  \n",
       "population                         0.031592                  0.064998  \n",
       "households                         0.058004                 -0.032522  \n",
       "median_income                     -0.616617                 -0.000454  \n",
       "rooms_per_household               -0.500589                  0.001801  \n",
       "bedrooms_per_room                       NaN                 -0.002851  \n",
       "population_per_household                NaN                       NaN  "
      ]
     },
     "execution_count": 144,
     "metadata": {},
     "output_type": "execute_result"
    }
   ],
   "source": [
    "corr_matrix = df_num.corr(method='pearson')\n",
    "corr_matrix.mask(np.tril(np.ones(corr_matrix.shape)).astype(np.bool))"
   ]
  },
  {
   "cell_type": "code",
   "execution_count": 145,
   "id": "8abef5d6",
   "metadata": {},
   "outputs": [
    {
     "data": {
      "text/plain": [
       "<AxesSubplot:>"
      ]
     },
     "execution_count": 145,
     "metadata": {},
     "output_type": "execute_result"
    },
    {
     "data": {
      "image/png": "[encoded data removed]",
      "text/plain": [
       "<Figure size 640x480 with 2 Axes>"
      ]
     },
     "metadata": {},
     "output_type": "display_data"
    }
   ],
   "source": [
    "sns.heatmap(corr_matrix, annot=True)"
   ]
  },
  {
   "cell_type": "code",
   "execution_count": 140,
   "id": "6d569bf0",
   "metadata": {
    "scrolled": true
   },
   "outputs": [],
   "source": [
    "# Keep lower triangle (np.array)\n",
    "\n",
    "# so2[:] = np.tril(corr_matrix, k=-1)\n",
    "# so2.unstack().sort_values(ascending=False)\n",
    "# so2"
   ]
  },
  {
   "cell_type": "code",
   "execution_count": 138,
   "id": "3b5e1f35",
   "metadata": {},
   "outputs": [],
   "source": [
    "#multiindex to DF\n",
    "# sorted_mat2 = corr_matrix.unstack().sort_values(ascending=False).reset_index()\n",
    "# sorted_mat2.columns=['var1','var2','corr']\n",
    "# sorted_mat2"
   ]
  },
  {
   "cell_type": "code",
   "execution_count": 146,
   "id": "e8012d82",
   "metadata": {
    "scrolled": false
   },
   "outputs": [
    {
     "data": {
      "text/plain": [
       "total_bedrooms  households    0.979399\n",
       "dtype: float64"
      ]
     },
     "execution_count": 146,
     "metadata": {},
     "output_type": "execute_result"
    }
   ],
   "source": [
    "sorted_mat = corr_matrix.unstack().sort_values(ascending=False)\n",
    "# len(sorted_mat)\n",
    "# type(sorted_mat)\n",
    "sorted_mat[sorted_mat.values != 1].head(1)"
   ]
  },
  {
   "cell_type": "markdown",
   "id": "49e498ce",
   "metadata": {},
   "source": [
    "### Make `median_house_value` binary\n",
    "\n",
    "* We need to turn the `median_house_value` variable from numeric into binary.\n",
    "* Let's create a variable `above_average` which is `1` if the `median_house_value` is above its mean value and `0` otherwise."
   ]
  },
  {
   "cell_type": "code",
   "execution_count": 153,
   "id": "c3368e9c",
   "metadata": {},
   "outputs": [
    {
     "data": {
      "text/html": [
       "<div>\n",
       "<style scoped>\n",
       "    .dataframe tbody tr th:only-of-type {\n",
       "        vertical-align: middle;\n",
       "    }\n",
       "\n",
       "    .dataframe tbody tr th {\n",
       "        vertical-align: top;\n",
       "    }\n",
       "\n",
       "    .dataframe thead th {\n",
       "        text-align: right;\n",
       "    }\n",
       "</style>\n",
       "<table border=\"1\" class=\"dataframe\">\n",
       "  <thead>\n",
       "    <tr style=\"text-align: right;\">\n",
       "      <th></th>\n",
       "      <th>0</th>\n",
       "    </tr>\n",
       "  </thead>\n",
       "  <tbody>\n",
       "    <tr>\n",
       "      <th>count</th>\n",
       "      <td>12384.000000</td>\n",
       "    </tr>\n",
       "    <tr>\n",
       "      <th>mean</th>\n",
       "      <td>206807.741925</td>\n",
       "    </tr>\n",
       "    <tr>\n",
       "      <th>std</th>\n",
       "      <td>115096.161399</td>\n",
       "    </tr>\n",
       "    <tr>\n",
       "      <th>min</th>\n",
       "      <td>14999.000000</td>\n",
       "    </tr>\n",
       "    <tr>\n",
       "      <th>25%</th>\n",
       "      <td>119800.000000</td>\n",
       "    </tr>\n",
       "    <tr>\n",
       "      <th>50%</th>\n",
       "      <td>179800.000000</td>\n",
       "    </tr>\n",
       "    <tr>\n",
       "      <th>75%</th>\n",
       "      <td>264625.000000</td>\n",
       "    </tr>\n",
       "    <tr>\n",
       "      <th>max</th>\n",
       "      <td>500001.000000</td>\n",
       "    </tr>\n",
       "  </tbody>\n",
       "</table>\n",
       "</div>"
      ],
      "text/plain": [
       "                   0\n",
       "count   12384.000000\n",
       "mean   206807.741925\n",
       "std    115096.161399\n",
       "min     14999.000000\n",
       "25%    119800.000000\n",
       "50%    179800.000000\n",
       "75%    264625.000000\n",
       "max    500001.000000"
      ]
     },
     "execution_count": 153,
     "metadata": {},
     "output_type": "execute_result"
    }
   ],
   "source": [
    "df_describe = pd.DataFrame(y_train).describe()\n",
    "df_describe"
   ]
  },
  {
   "cell_type": "code",
   "execution_count": 154,
   "id": "73f80f42",
   "metadata": {
    "scrolled": true
   },
   "outputs": [
    {
     "data": {
      "text/plain": [
       "206807.7419250646"
      ]
     },
     "execution_count": 154,
     "metadata": {},
     "output_type": "execute_result"
    }
   ],
   "source": [
    "y_train_mean = y_train.mean()\n",
    "y_train_mean"
   ]
  },
  {
   "cell_type": "code",
   "execution_count": 189,
   "id": "622e859c",
   "metadata": {
    "scrolled": true
   },
   "outputs": [
    {
     "data": {
      "text/plain": [
       "array([1, 1, 0, ..., 1, 0, 0])"
      ]
     },
     "execution_count": 189,
     "metadata": {},
     "output_type": "execute_result"
    }
   ],
   "source": [
    "#These variables become the new binary target variables\n",
    "above_average      = (y_train_mean<y_train).astype('int')\n",
    "above_average_val  = (y_train_mean<y_val).astype('int')\n",
    "above_average_test = (y_train_mean<y_test).astype('int')\n",
    "above_average"
   ]
  },
  {
   "cell_type": "code",
   "execution_count": 190,
   "id": "beba3e95",
   "metadata": {
    "scrolled": true
   },
   "outputs": [
    {
     "data": {
      "text/html": [
       "<div>\n",
       "<style scoped>\n",
       "    .dataframe tbody tr th:only-of-type {\n",
       "        vertical-align: middle;\n",
       "    }\n",
       "\n",
       "    .dataframe tbody tr th {\n",
       "        vertical-align: top;\n",
       "    }\n",
       "\n",
       "    .dataframe thead th {\n",
       "        text-align: right;\n",
       "    }\n",
       "</style>\n",
       "<table border=\"1\" class=\"dataframe\">\n",
       "  <thead>\n",
       "    <tr style=\"text-align: right;\">\n",
       "      <th></th>\n",
       "      <th>target</th>\n",
       "      <th>mean</th>\n",
       "      <th>above_average</th>\n",
       "    </tr>\n",
       "  </thead>\n",
       "  <tbody>\n",
       "    <tr>\n",
       "      <th>0</th>\n",
       "      <td>241400.0</td>\n",
       "      <td>206807.741925</td>\n",
       "      <td>1</td>\n",
       "    </tr>\n",
       "    <tr>\n",
       "      <th>1</th>\n",
       "      <td>500001.0</td>\n",
       "      <td>206807.741925</td>\n",
       "      <td>1</td>\n",
       "    </tr>\n",
       "    <tr>\n",
       "      <th>2</th>\n",
       "      <td>64100.0</td>\n",
       "      <td>206807.741925</td>\n",
       "      <td>0</td>\n",
       "    </tr>\n",
       "    <tr>\n",
       "      <th>3</th>\n",
       "      <td>277200.0</td>\n",
       "      <td>206807.741925</td>\n",
       "      <td>1</td>\n",
       "    </tr>\n",
       "    <tr>\n",
       "      <th>4</th>\n",
       "      <td>417000.0</td>\n",
       "      <td>206807.741925</td>\n",
       "      <td>1</td>\n",
       "    </tr>\n",
       "    <tr>\n",
       "      <th>...</th>\n",
       "      <td>...</td>\n",
       "      <td>...</td>\n",
       "      <td>...</td>\n",
       "    </tr>\n",
       "    <tr>\n",
       "      <th>12379</th>\n",
       "      <td>154200.0</td>\n",
       "      <td>206807.741925</td>\n",
       "      <td>0</td>\n",
       "    </tr>\n",
       "    <tr>\n",
       "      <th>12380</th>\n",
       "      <td>146400.0</td>\n",
       "      <td>206807.741925</td>\n",
       "      <td>0</td>\n",
       "    </tr>\n",
       "    <tr>\n",
       "      <th>12381</th>\n",
       "      <td>215300.0</td>\n",
       "      <td>206807.741925</td>\n",
       "      <td>1</td>\n",
       "    </tr>\n",
       "    <tr>\n",
       "      <th>12382</th>\n",
       "      <td>139000.0</td>\n",
       "      <td>206807.741925</td>\n",
       "      <td>0</td>\n",
       "    </tr>\n",
       "    <tr>\n",
       "      <th>12383</th>\n",
       "      <td>181300.0</td>\n",
       "      <td>206807.741925</td>\n",
       "      <td>0</td>\n",
       "    </tr>\n",
       "  </tbody>\n",
       "</table>\n",
       "<p>12384 rows × 3 columns</p>\n",
       "</div>"
      ],
      "text/plain": [
       "         target           mean  above_average\n",
       "0      241400.0  206807.741925              1\n",
       "1      500001.0  206807.741925              1\n",
       "2       64100.0  206807.741925              0\n",
       "3      277200.0  206807.741925              1\n",
       "4      417000.0  206807.741925              1\n",
       "...         ...            ...            ...\n",
       "12379  154200.0  206807.741925              0\n",
       "12380  146400.0  206807.741925              0\n",
       "12381  215300.0  206807.741925              1\n",
       "12382  139000.0  206807.741925              0\n",
       "12383  181300.0  206807.741925              0\n",
       "\n",
       "[12384 rows x 3 columns]"
      ]
     },
     "execution_count": 190,
     "metadata": {},
     "output_type": "execute_result"
    }
   ],
   "source": [
    "#variable logic confirmation\n",
    "datatest = pd.DataFrame({'target': y_train,'mean':y_train_mean,'above_average': above_average })\n",
    "datatest"
   ]
  },
  {
   "cell_type": "code",
   "execution_count": 187,
   "id": "83f04915",
   "metadata": {
    "scrolled": true
   },
   "outputs": [],
   "source": [
    "#append variables if needed\n",
    "# df_train['above_average'] = above_average.tolist()\n",
    "# df_train['median_house_value'] = y_train.tolist()\n",
    "# df_train.head()"
   ]
  },
  {
   "cell_type": "code",
   "execution_count": 185,
   "id": "48f97084",
   "metadata": {},
   "outputs": [],
   "source": [
    "del df_train['above_average']"
   ]
  },
  {
   "cell_type": "code",
   "execution_count": 186,
   "id": "a25faa52",
   "metadata": {},
   "outputs": [
    {
     "data": {
      "text/html": [
       "<div>\n",
       "<style scoped>\n",
       "    .dataframe tbody tr th:only-of-type {\n",
       "        vertical-align: middle;\n",
       "    }\n",
       "\n",
       "    .dataframe tbody tr th {\n",
       "        vertical-align: top;\n",
       "    }\n",
       "\n",
       "    .dataframe thead th {\n",
       "        text-align: right;\n",
       "    }\n",
       "</style>\n",
       "<table border=\"1\" class=\"dataframe\">\n",
       "  <thead>\n",
       "    <tr style=\"text-align: right;\">\n",
       "      <th></th>\n",
       "      <th>latitude</th>\n",
       "      <th>longitude</th>\n",
       "      <th>housing_median_age</th>\n",
       "      <th>total_rooms</th>\n",
       "      <th>total_bedrooms</th>\n",
       "      <th>population</th>\n",
       "      <th>households</th>\n",
       "      <th>median_income</th>\n",
       "      <th>ocean_proximity</th>\n",
       "      <th>rooms_per_household</th>\n",
       "      <th>bedrooms_per_room</th>\n",
       "      <th>population_per_household</th>\n",
       "    </tr>\n",
       "  </thead>\n",
       "  <tbody>\n",
       "    <tr>\n",
       "      <th>17244</th>\n",
       "      <td>34.43</td>\n",
       "      <td>-119.67</td>\n",
       "      <td>39.0</td>\n",
       "      <td>1467.0</td>\n",
       "      <td>381.0</td>\n",
       "      <td>1404.0</td>\n",
       "      <td>374.0</td>\n",
       "      <td>2.3681</td>\n",
       "      <td>&lt;1H OCEAN</td>\n",
       "      <td>3.922460</td>\n",
       "      <td>0.259714</td>\n",
       "      <td>3.754011</td>\n",
       "    </tr>\n",
       "    <tr>\n",
       "      <th>8817</th>\n",
       "      <td>33.74</td>\n",
       "      <td>-118.32</td>\n",
       "      <td>24.0</td>\n",
       "      <td>6097.0</td>\n",
       "      <td>794.0</td>\n",
       "      <td>2248.0</td>\n",
       "      <td>806.0</td>\n",
       "      <td>10.1357</td>\n",
       "      <td>NEAR OCEAN</td>\n",
       "      <td>7.564516</td>\n",
       "      <td>0.130228</td>\n",
       "      <td>2.789082</td>\n",
       "    </tr>\n",
       "    <tr>\n",
       "      <th>19686</th>\n",
       "      <td>39.13</td>\n",
       "      <td>-121.62</td>\n",
       "      <td>41.0</td>\n",
       "      <td>1317.0</td>\n",
       "      <td>309.0</td>\n",
       "      <td>856.0</td>\n",
       "      <td>337.0</td>\n",
       "      <td>1.6719</td>\n",
       "      <td>INLAND</td>\n",
       "      <td>3.908012</td>\n",
       "      <td>0.234624</td>\n",
       "      <td>2.540059</td>\n",
       "    </tr>\n",
       "    <tr>\n",
       "      <th>3545</th>\n",
       "      <td>34.24</td>\n",
       "      <td>-118.63</td>\n",
       "      <td>9.0</td>\n",
       "      <td>4759.0</td>\n",
       "      <td>924.0</td>\n",
       "      <td>1884.0</td>\n",
       "      <td>915.0</td>\n",
       "      <td>4.8333</td>\n",
       "      <td>&lt;1H OCEAN</td>\n",
       "      <td>5.201093</td>\n",
       "      <td>0.194158</td>\n",
       "      <td>2.059016</td>\n",
       "    </tr>\n",
       "    <tr>\n",
       "      <th>17019</th>\n",
       "      <td>37.52</td>\n",
       "      <td>-122.30</td>\n",
       "      <td>38.0</td>\n",
       "      <td>2769.0</td>\n",
       "      <td>387.0</td>\n",
       "      <td>994.0</td>\n",
       "      <td>395.0</td>\n",
       "      <td>5.5902</td>\n",
       "      <td>NEAR OCEAN</td>\n",
       "      <td>7.010127</td>\n",
       "      <td>0.139762</td>\n",
       "      <td>2.516456</td>\n",
       "    </tr>\n",
       "  </tbody>\n",
       "</table>\n",
       "</div>"
      ],
      "text/plain": [
       "       latitude  longitude  housing_median_age  total_rooms  total_bedrooms  \\\n",
       "17244     34.43    -119.67                39.0       1467.0           381.0   \n",
       "8817      33.74    -118.32                24.0       6097.0           794.0   \n",
       "19686     39.13    -121.62                41.0       1317.0           309.0   \n",
       "3545      34.24    -118.63                 9.0       4759.0           924.0   \n",
       "17019     37.52    -122.30                38.0       2769.0           387.0   \n",
       "\n",
       "       population  households  median_income ocean_proximity  \\\n",
       "17244      1404.0       374.0         2.3681       <1H OCEAN   \n",
       "8817       2248.0       806.0        10.1357      NEAR OCEAN   \n",
       "19686       856.0       337.0         1.6719          INLAND   \n",
       "3545       1884.0       915.0         4.8333       <1H OCEAN   \n",
       "17019       994.0       395.0         5.5902      NEAR OCEAN   \n",
       "\n",
       "       rooms_per_household  bedrooms_per_room  population_per_household  \n",
       "17244             3.922460           0.259714                  3.754011  \n",
       "8817              7.564516           0.130228                  2.789082  \n",
       "19686             3.908012           0.234624                  2.540059  \n",
       "3545              5.201093           0.194158                  2.059016  \n",
       "17019             7.010127           0.139762                  2.516456  "
      ]
     },
     "execution_count": 186,
     "metadata": {},
     "output_type": "execute_result"
    }
   ],
   "source": [
    "df_train.head()"
   ]
  },
  {
   "cell_type": "markdown",
   "id": "342df279",
   "metadata": {},
   "source": [
    "### Question 3\n",
    "\n",
    "* Calculate the mutual information score with the (binarized) price for the categorical variable that we have. Use the training set only.\n",
    "* What is the value of mutual information?\n",
    "* Round it to 2 decimal digits using `round(score, 2)`\n",
    "\n",
    "Options:\n",
    "- 0.263\n",
    "- 0.00001\n",
    "- 0.101\n",
    "- 0.15555\n",
    "\n",
    "> ANSWER  \n",
    "  `0.101`"
   ]
  },
  {
   "cell_type": "code",
   "execution_count": 193,
   "id": "e7a64b44",
   "metadata": {
    "scrolled": false
   },
   "outputs": [
    {
     "data": {
      "text/plain": [
       "0.101"
      ]
     },
     "execution_count": 193,
     "metadata": {},
     "output_type": "execute_result"
    }
   ],
   "source": [
    "round(mutual_info_score(df_train[\"ocean_proximity\"], above_average),3) #used round 3 instead of 2 to find the match with one of the answers offered"
   ]
  },
  {
   "cell_type": "markdown",
   "id": "911a3291",
   "metadata": {},
   "source": [
    "### Question 4\n",
    "\n",
    "* Now let's train a logistic regression\n",
    "* Remember that we have one categorical variable `ocean_proximity` in the data. Include it using one-hot encoding.\n",
    "* Fit the model on the training dataset.\n",
    "    - To make sure the results are reproducible across different versions of Scikit-Learn, fit the model with these parameters:\n",
    "    - `model = LogisticRegression(solver=\"liblinear\", C=1.0, max_iter=1000, random_state=42)`\n",
    "* Calculate the accuracy on the validation dataset and round it to 2 decimal digits.\n",
    "\n",
    "Options:\n",
    "- 0.60\n",
    "- 0.72\n",
    "- 0.84\n",
    "- 0.95\n",
    "\n",
    "> ANSWER  \n",
    "  `0.84`"
   ]
  },
  {
   "cell_type": "markdown",
   "id": "45545520",
   "metadata": {},
   "source": [
    "#### BEGINNING OF CLEAN QUESTION 4 - SHORT METHOD"
   ]
  },
  {
   "cell_type": "code",
   "execution_count": 408,
   "id": "afed5118",
   "metadata": {
    "scrolled": true
   },
   "outputs": [
    {
     "data": {
      "text/html": [
       "<div>\n",
       "<style scoped>\n",
       "    .dataframe tbody tr th:only-of-type {\n",
       "        vertical-align: middle;\n",
       "    }\n",
       "\n",
       "    .dataframe tbody tr th {\n",
       "        vertical-align: top;\n",
       "    }\n",
       "\n",
       "    .dataframe thead th {\n",
       "        text-align: right;\n",
       "    }\n",
       "</style>\n",
       "<table border=\"1\" class=\"dataframe\">\n",
       "  <thead>\n",
       "    <tr style=\"text-align: right;\">\n",
       "      <th></th>\n",
       "      <th>latitude</th>\n",
       "      <th>longitude</th>\n",
       "      <th>housing_median_age</th>\n",
       "      <th>total_rooms</th>\n",
       "      <th>total_bedrooms</th>\n",
       "      <th>population</th>\n",
       "      <th>households</th>\n",
       "      <th>median_income</th>\n",
       "      <th>ocean_proximity</th>\n",
       "      <th>rooms_per_household</th>\n",
       "      <th>bedrooms_per_room</th>\n",
       "      <th>population_per_household</th>\n",
       "    </tr>\n",
       "  </thead>\n",
       "  <tbody>\n",
       "    <tr>\n",
       "      <th>17244</th>\n",
       "      <td>34.43</td>\n",
       "      <td>-119.67</td>\n",
       "      <td>39.0</td>\n",
       "      <td>1467.0</td>\n",
       "      <td>381.0</td>\n",
       "      <td>1404.0</td>\n",
       "      <td>374.0</td>\n",
       "      <td>2.3681</td>\n",
       "      <td>&lt;1H OCEAN</td>\n",
       "      <td>3.922460</td>\n",
       "      <td>0.259714</td>\n",
       "      <td>3.754011</td>\n",
       "    </tr>\n",
       "    <tr>\n",
       "      <th>8817</th>\n",
       "      <td>33.74</td>\n",
       "      <td>-118.32</td>\n",
       "      <td>24.0</td>\n",
       "      <td>6097.0</td>\n",
       "      <td>794.0</td>\n",
       "      <td>2248.0</td>\n",
       "      <td>806.0</td>\n",
       "      <td>10.1357</td>\n",
       "      <td>NEAR OCEAN</td>\n",
       "      <td>7.564516</td>\n",
       "      <td>0.130228</td>\n",
       "      <td>2.789082</td>\n",
       "    </tr>\n",
       "    <tr>\n",
       "      <th>19686</th>\n",
       "      <td>39.13</td>\n",
       "      <td>-121.62</td>\n",
       "      <td>41.0</td>\n",
       "      <td>1317.0</td>\n",
       "      <td>309.0</td>\n",
       "      <td>856.0</td>\n",
       "      <td>337.0</td>\n",
       "      <td>1.6719</td>\n",
       "      <td>INLAND</td>\n",
       "      <td>3.908012</td>\n",
       "      <td>0.234624</td>\n",
       "      <td>2.540059</td>\n",
       "    </tr>\n",
       "    <tr>\n",
       "      <th>3545</th>\n",
       "      <td>34.24</td>\n",
       "      <td>-118.63</td>\n",
       "      <td>9.0</td>\n",
       "      <td>4759.0</td>\n",
       "      <td>924.0</td>\n",
       "      <td>1884.0</td>\n",
       "      <td>915.0</td>\n",
       "      <td>4.8333</td>\n",
       "      <td>&lt;1H OCEAN</td>\n",
       "      <td>5.201093</td>\n",
       "      <td>0.194158</td>\n",
       "      <td>2.059016</td>\n",
       "    </tr>\n",
       "    <tr>\n",
       "      <th>17019</th>\n",
       "      <td>37.52</td>\n",
       "      <td>-122.30</td>\n",
       "      <td>38.0</td>\n",
       "      <td>2769.0</td>\n",
       "      <td>387.0</td>\n",
       "      <td>994.0</td>\n",
       "      <td>395.0</td>\n",
       "      <td>5.5902</td>\n",
       "      <td>NEAR OCEAN</td>\n",
       "      <td>7.010127</td>\n",
       "      <td>0.139762</td>\n",
       "      <td>2.516456</td>\n",
       "    </tr>\n",
       "    <tr>\n",
       "      <th>...</th>\n",
       "      <td>...</td>\n",
       "      <td>...</td>\n",
       "      <td>...</td>\n",
       "      <td>...</td>\n",
       "      <td>...</td>\n",
       "      <td>...</td>\n",
       "      <td>...</td>\n",
       "      <td>...</td>\n",
       "      <td>...</td>\n",
       "      <td>...</td>\n",
       "      <td>...</td>\n",
       "      <td>...</td>\n",
       "    </tr>\n",
       "    <tr>\n",
       "      <th>5606</th>\n",
       "      <td>33.79</td>\n",
       "      <td>-118.29</td>\n",
       "      <td>16.0</td>\n",
       "      <td>1867.0</td>\n",
       "      <td>571.0</td>\n",
       "      <td>951.0</td>\n",
       "      <td>498.0</td>\n",
       "      <td>3.3427</td>\n",
       "      <td>&lt;1H OCEAN</td>\n",
       "      <td>3.748996</td>\n",
       "      <td>0.305838</td>\n",
       "      <td>1.909639</td>\n",
       "    </tr>\n",
       "    <tr>\n",
       "      <th>16339</th>\n",
       "      <td>38.04</td>\n",
       "      <td>-121.34</td>\n",
       "      <td>16.0</td>\n",
       "      <td>3295.0</td>\n",
       "      <td>565.0</td>\n",
       "      <td>2279.0</td>\n",
       "      <td>576.0</td>\n",
       "      <td>3.6083</td>\n",
       "      <td>INLAND</td>\n",
       "      <td>5.720486</td>\n",
       "      <td>0.171472</td>\n",
       "      <td>3.956597</td>\n",
       "    </tr>\n",
       "    <tr>\n",
       "      <th>14965</th>\n",
       "      <td>32.74</td>\n",
       "      <td>-116.99</td>\n",
       "      <td>18.0</td>\n",
       "      <td>3341.0</td>\n",
       "      <td>611.0</td>\n",
       "      <td>1952.0</td>\n",
       "      <td>602.0</td>\n",
       "      <td>3.9844</td>\n",
       "      <td>&lt;1H OCEAN</td>\n",
       "      <td>5.549834</td>\n",
       "      <td>0.182879</td>\n",
       "      <td>3.242525</td>\n",
       "    </tr>\n",
       "    <tr>\n",
       "      <th>11117</th>\n",
       "      <td>33.84</td>\n",
       "      <td>-117.87</td>\n",
       "      <td>16.0</td>\n",
       "      <td>1545.0</td>\n",
       "      <td>354.0</td>\n",
       "      <td>730.0</td>\n",
       "      <td>350.0</td>\n",
       "      <td>4.5112</td>\n",
       "      <td>&lt;1H OCEAN</td>\n",
       "      <td>4.414286</td>\n",
       "      <td>0.229126</td>\n",
       "      <td>2.085714</td>\n",
       "    </tr>\n",
       "    <tr>\n",
       "      <th>8472</th>\n",
       "      <td>33.91</td>\n",
       "      <td>-118.32</td>\n",
       "      <td>35.0</td>\n",
       "      <td>940.0</td>\n",
       "      <td>197.0</td>\n",
       "      <td>640.0</td>\n",
       "      <td>215.0</td>\n",
       "      <td>4.2000</td>\n",
       "      <td>&lt;1H OCEAN</td>\n",
       "      <td>4.372093</td>\n",
       "      <td>0.209574</td>\n",
       "      <td>2.976744</td>\n",
       "    </tr>\n",
       "  </tbody>\n",
       "</table>\n",
       "<p>12384 rows × 12 columns</p>\n",
       "</div>"
      ],
      "text/plain": [
       "       latitude  longitude  housing_median_age  total_rooms  total_bedrooms  \\\n",
       "17244     34.43    -119.67                39.0       1467.0           381.0   \n",
       "8817      33.74    -118.32                24.0       6097.0           794.0   \n",
       "19686     39.13    -121.62                41.0       1317.0           309.0   \n",
       "3545      34.24    -118.63                 9.0       4759.0           924.0   \n",
       "17019     37.52    -122.30                38.0       2769.0           387.0   \n",
       "...         ...        ...                 ...          ...             ...   \n",
       "5606      33.79    -118.29                16.0       1867.0           571.0   \n",
       "16339     38.04    -121.34                16.0       3295.0           565.0   \n",
       "14965     32.74    -116.99                18.0       3341.0           611.0   \n",
       "11117     33.84    -117.87                16.0       1545.0           354.0   \n",
       "8472      33.91    -118.32                35.0        940.0           197.0   \n",
       "\n",
       "       population  households  median_income ocean_proximity  \\\n",
       "17244      1404.0       374.0         2.3681       <1H OCEAN   \n",
       "8817       2248.0       806.0        10.1357      NEAR OCEAN   \n",
       "19686       856.0       337.0         1.6719          INLAND   \n",
       "3545       1884.0       915.0         4.8333       <1H OCEAN   \n",
       "17019       994.0       395.0         5.5902      NEAR OCEAN   \n",
       "...           ...         ...            ...             ...   \n",
       "5606        951.0       498.0         3.3427       <1H OCEAN   \n",
       "16339      2279.0       576.0         3.6083          INLAND   \n",
       "14965      1952.0       602.0         3.9844       <1H OCEAN   \n",
       "11117       730.0       350.0         4.5112       <1H OCEAN   \n",
       "8472        640.0       215.0         4.2000       <1H OCEAN   \n",
       "\n",
       "       rooms_per_household  bedrooms_per_room  population_per_household  \n",
       "17244             3.922460           0.259714                  3.754011  \n",
       "8817              7.564516           0.130228                  2.789082  \n",
       "19686             3.908012           0.234624                  2.540059  \n",
       "3545              5.201093           0.194158                  2.059016  \n",
       "17019             7.010127           0.139762                  2.516456  \n",
       "...                    ...                ...                       ...  \n",
       "5606              3.748996           0.305838                  1.909639  \n",
       "16339             5.720486           0.171472                  3.956597  \n",
       "14965             5.549834           0.182879                  3.242525  \n",
       "11117             4.414286           0.229126                  2.085714  \n",
       "8472              4.372093           0.209574                  2.976744  \n",
       "\n",
       "[12384 rows x 12 columns]"
      ]
     },
     "execution_count": 408,
     "metadata": {},
     "output_type": "execute_result"
    }
   ],
   "source": [
    "df_train"
   ]
  },
  {
   "cell_type": "code",
   "execution_count": 409,
   "id": "acc7ea0b",
   "metadata": {},
   "outputs": [],
   "source": [
    "df_train_3 = df_train.copy()"
   ]
  },
  {
   "cell_type": "code",
   "execution_count": 410,
   "id": "86da74c2",
   "metadata": {},
   "outputs": [],
   "source": [
    "train_dict_3 = df_train.to_dict(orient='records')"
   ]
  },
  {
   "cell_type": "code",
   "execution_count": 411,
   "id": "526f11c2",
   "metadata": {},
   "outputs": [
    {
     "data": {
      "text/plain": [
       "{'latitude': 34.43,\n",
       " 'longitude': -119.67,\n",
       " 'housing_median_age': 39.0,\n",
       " 'total_rooms': 1467.0,\n",
       " 'total_bedrooms': 381.0,\n",
       " 'population': 1404.0,\n",
       " 'households': 374.0,\n",
       " 'median_income': 2.3681,\n",
       " 'ocean_proximity': '<1H OCEAN',\n",
       " 'rooms_per_household': 3.9224598930481283,\n",
       " 'bedrooms_per_room': 0.25971370143149286,\n",
       " 'population_per_household': 3.7540106951871657}"
      ]
     },
     "execution_count": 411,
     "metadata": {},
     "output_type": "execute_result"
    }
   ],
   "source": [
    "train_dict_3[0]"
   ]
  },
  {
   "cell_type": "code",
   "execution_count": 412,
   "id": "2c9fdbdb",
   "metadata": {
    "scrolled": true
   },
   "outputs": [
    {
     "data": {
      "text/html": [
       "<style>#sk-container-id-12 {color: black;background-color: white;}#sk-container-id-12 pre{padding: 0;}#sk-container-id-12 div.sk-toggleable {background-color: white;}#sk-container-id-12 label.sk-toggleable__label {cursor: pointer;display: block;width: 100%;margin-bottom: 0;padding: 0.3em;box-sizing: border-box;text-align: center;}#sk-container-id-12 label.sk-toggleable__label-arrow:before {content: \"▸\";float: left;margin-right: 0.25em;color: #696969;}#sk-container-id-12 label.sk-toggleable__label-arrow:hover:before {color: black;}#sk-container-id-12 div.sk-estimator:hover label.sk-toggleable__label-arrow:before {color: black;}#sk-container-id-12 div.sk-toggleable__content {max-height: 0;max-width: 0;overflow: hidden;text-align: left;background-color: #f0f8ff;}#sk-container-id-12 div.sk-toggleable__content pre {margin: 0.2em;color: black;border-radius: 0.25em;background-color: #f0f8ff;}#sk-container-id-12 input.sk-toggleable__control:checked~div.sk-toggleable__content {max-height: 200px;max-width: 100%;overflow: auto;}#sk-container-id-12 input.sk-toggleable__control:checked~label.sk-toggleable__label-arrow:before {content: \"▾\";}#sk-container-id-12 div.sk-estimator input.sk-toggleable__control:checked~label.sk-toggleable__label {background-color: #d4ebff;}#sk-container-id-12 div.sk-label input.sk-toggleable__control:checked~label.sk-toggleable__label {background-color: #d4ebff;}#sk-container-id-12 input.sk-hidden--visually {border: 0;clip: rect(1px 1px 1px 1px);clip: rect(1px, 1px, 1px, 1px);height: 1px;margin: -1px;overflow: hidden;padding: 0;position: absolute;width: 1px;}#sk-container-id-12 div.sk-estimator {font-family: monospace;background-color: #f0f8ff;border: 1px dotted black;border-radius: 0.25em;box-sizing: border-box;margin-bottom: 0.5em;}#sk-container-id-12 div.sk-estimator:hover {background-color: #d4ebff;}#sk-container-id-12 div.sk-parallel-item::after {content: \"\";width: 100%;border-bottom: 1px solid gray;flex-grow: 1;}#sk-container-id-12 div.sk-label:hover label.sk-toggleable__label {background-color: #d4ebff;}#sk-container-id-12 div.sk-serial::before {content: \"\";position: absolute;border-left: 1px solid gray;box-sizing: border-box;top: 0;bottom: 0;left: 50%;z-index: 0;}#sk-container-id-12 div.sk-serial {display: flex;flex-direction: column;align-items: center;background-color: white;padding-right: 0.2em;padding-left: 0.2em;position: relative;}#sk-container-id-12 div.sk-item {position: relative;z-index: 1;}#sk-container-id-12 div.sk-parallel {display: flex;align-items: stretch;justify-content: center;background-color: white;position: relative;}#sk-container-id-12 div.sk-item::before, #sk-container-id-12 div.sk-parallel-item::before {content: \"\";position: absolute;border-left: 1px solid gray;box-sizing: border-box;top: 0;bottom: 0;left: 50%;z-index: -1;}#sk-container-id-12 div.sk-parallel-item {display: flex;flex-direction: column;z-index: 1;position: relative;background-color: white;}#sk-container-id-12 div.sk-parallel-item:first-child::after {align-self: flex-end;width: 50%;}#sk-container-id-12 div.sk-parallel-item:last-child::after {align-self: flex-start;width: 50%;}#sk-container-id-12 div.sk-parallel-item:only-child::after {width: 0;}#sk-container-id-12 div.sk-dashed-wrapped {border: 1px dashed gray;margin: 0 0.4em 0.5em 0.4em;box-sizing: border-box;padding-bottom: 0.4em;background-color: white;}#sk-container-id-12 div.sk-label label {font-family: monospace;font-weight: bold;display: inline-block;line-height: 1.2em;}#sk-container-id-12 div.sk-label-container {text-align: center;}#sk-container-id-12 div.sk-container {/* jupyter's `normalize.less` sets `[hidden] { display: none; }` but bootstrap.min.css set `[hidden] { display: none !important; }` so we also need the `!important` here to be able to override the default hidden behavior on the sphinx rendered scikit-learn.org. See: https://github.com/scikit-learn/scikit-learn/issues/21755 */display: inline-block !important;position: relative;}#sk-container-id-12 div.sk-text-repr-fallback {display: none;}</style><div id=\"sk-container-id-12\" class=\"sk-top-container\"><div class=\"sk-text-repr-fallback\"><pre>DictVectorizer(sparse=False)</pre><b>In a Jupyter environment, please rerun this cell to show the HTML representation or trust the notebook. <br />On GitHub, the HTML representation is unable to render, please try loading this page with nbviewer.org.</b></div><div class=\"sk-container\" hidden><div class=\"sk-item\"><div class=\"sk-estimator sk-toggleable\"><input class=\"sk-toggleable__control sk-hidden--visually\" id=\"sk-estimator-id-12\" type=\"checkbox\" checked><label for=\"sk-estimator-id-12\" class=\"sk-toggleable__label sk-toggleable__label-arrow\">DictVectorizer</label><div class=\"sk-toggleable__content\"><pre>DictVectorizer(sparse=False)</pre></div></div></div></div></div>"
      ],
      "text/plain": [
       "DictVectorizer(sparse=False)"
      ]
     },
     "execution_count": 412,
     "metadata": {},
     "output_type": "execute_result"
    }
   ],
   "source": [
    "dv_3 = DictVectorizer(sparse=False)\n",
    "dv_3.fit(train_dict_3)"
   ]
  },
  {
   "cell_type": "code",
   "execution_count": 416,
   "id": "44e2bc0e",
   "metadata": {},
   "outputs": [
    {
     "data": {
      "text/plain": [
       "array([[2.59713701e-01, 3.74000000e+02, 3.90000000e+01, ..., 3.92245989e+00, 3.81000000e+02, 1.46700000e+03],\n",
       "       [1.30227981e-01, 8.06000000e+02, 2.40000000e+01, ..., 7.56451613e+00, 7.94000000e+02, 6.09700000e+03],\n",
       "       [2.34624146e-01, 3.37000000e+02, 4.10000000e+01, ..., 3.90801187e+00, 3.09000000e+02, 1.31700000e+03],\n",
       "       ...,\n",
       "       [1.82879377e-01, 6.02000000e+02, 1.80000000e+01, ..., 5.54983389e+00, 6.11000000e+02, 3.34100000e+03],\n",
       "       [2.29126214e-01, 3.50000000e+02, 1.60000000e+01, ..., 4.41428571e+00, 3.54000000e+02, 1.54500000e+03],\n",
       "       [2.09574468e-01, 2.15000000e+02, 3.50000000e+01, ..., 4.37209302e+00, 1.97000000e+02, 9.40000000e+02]])"
      ]
     },
     "execution_count": 416,
     "metadata": {},
     "output_type": "execute_result"
    }
   ],
   "source": [
    "dv_3.transform(train_dict_3)"
   ]
  },
  {
   "cell_type": "code",
   "execution_count": 365,
   "id": "8a811b6b",
   "metadata": {},
   "outputs": [
    {
     "data": {
      "text/plain": [
       "[0.25971370143149286,\n",
       " 374.0,\n",
       " 39.0,\n",
       " 34.43,\n",
       " -119.67,\n",
       " 2.3681,\n",
       " 1.0,\n",
       " 0.0,\n",
       " 0.0,\n",
       " 0.0,\n",
       " 0.0,\n",
       " 1404.0,\n",
       " 3.7540106951871657,\n",
       " 3.9224598930481283,\n",
       " 381.0,\n",
       " 1467.0]"
      ]
     },
     "execution_count": 365,
     "metadata": {},
     "output_type": "execute_result"
    }
   ],
   "source": [
    "list(dv_3.transform(train_dict_3[:17])[0])"
   ]
  },
  {
   "cell_type": "code",
   "execution_count": 366,
   "id": "a012bfe5",
   "metadata": {
    "scrolled": true
   },
   "outputs": [
    {
     "data": {
      "text/plain": [
       "array(['ocean_proximity=<1H OCEAN', 'ocean_proximity=INLAND', 'ocean_proximity=ISLAND', 'ocean_proximity=NEAR BAY', 'ocean_proximity=NEAR OCEAN'], dtype=object)"
      ]
     },
     "execution_count": 366,
     "metadata": {},
     "output_type": "execute_result"
    }
   ],
   "source": [
    "dv.get_feature_names_out()"
   ]
  },
  {
   "cell_type": "code",
   "execution_count": 362,
   "id": "2038f8ea",
   "metadata": {},
   "outputs": [],
   "source": [
    "X_train = dv_3.transform(train_dict_3)"
   ]
  },
  {
   "cell_type": "code",
   "execution_count": 363,
   "id": "b3fcf261",
   "metadata": {
    "scrolled": true
   },
   "outputs": [
    {
     "data": {
      "text/plain": [
       "(12384, 16)"
      ]
     },
     "execution_count": 363,
     "metadata": {},
     "output_type": "execute_result"
    }
   ],
   "source": [
    "X_train.shape"
   ]
  },
  {
   "cell_type": "code",
   "execution_count": 392,
   "id": "a9bd407a",
   "metadata": {},
   "outputs": [
    {
     "data": {
      "text/plain": [
       "array([[2.59713701e-01, 3.74000000e+02, 3.90000000e+01, ..., 3.92245989e+00, 3.81000000e+02, 1.46700000e+03],\n",
       "       [1.30227981e-01, 8.06000000e+02, 2.40000000e+01, ..., 7.56451613e+00, 7.94000000e+02, 6.09700000e+03],\n",
       "       [2.34624146e-01, 3.37000000e+02, 4.10000000e+01, ..., 3.90801187e+00, 3.09000000e+02, 1.31700000e+03],\n",
       "       ...,\n",
       "       [1.82879377e-01, 6.02000000e+02, 1.80000000e+01, ..., 5.54983389e+00, 6.11000000e+02, 3.34100000e+03],\n",
       "       [2.29126214e-01, 3.50000000e+02, 1.60000000e+01, ..., 4.41428571e+00, 3.54000000e+02, 1.54500000e+03],\n",
       "       [2.09574468e-01, 2.15000000e+02, 3.50000000e+01, ..., 4.37209302e+00, 1.97000000e+02, 9.40000000e+02]])"
      ]
     },
     "execution_count": 392,
     "metadata": {},
     "output_type": "execute_result"
    }
   ],
   "source": [
    "X_train"
   ]
  },
  {
   "cell_type": "code",
   "execution_count": 367,
   "id": "0b14784e",
   "metadata": {},
   "outputs": [],
   "source": [
    "model_3 = LogisticRegression(solver=\"liblinear\", C=1.0, max_iter=1000, random_state=42)"
   ]
  },
  {
   "cell_type": "code",
   "execution_count": 389,
   "id": "e0fc6b28",
   "metadata": {},
   "outputs": [
    {
     "data": {
      "text/html": [
       "<style>#sk-container-id-11 {color: black;background-color: white;}#sk-container-id-11 pre{padding: 0;}#sk-container-id-11 div.sk-toggleable {background-color: white;}#sk-container-id-11 label.sk-toggleable__label {cursor: pointer;display: block;width: 100%;margin-bottom: 0;padding: 0.3em;box-sizing: border-box;text-align: center;}#sk-container-id-11 label.sk-toggleable__label-arrow:before {content: \"▸\";float: left;margin-right: 0.25em;color: #696969;}#sk-container-id-11 label.sk-toggleable__label-arrow:hover:before {color: black;}#sk-container-id-11 div.sk-estimator:hover label.sk-toggleable__label-arrow:before {color: black;}#sk-container-id-11 div.sk-toggleable__content {max-height: 0;max-width: 0;overflow: hidden;text-align: left;background-color: #f0f8ff;}#sk-container-id-11 div.sk-toggleable__content pre {margin: 0.2em;color: black;border-radius: 0.25em;background-color: #f0f8ff;}#sk-container-id-11 input.sk-toggleable__control:checked~div.sk-toggleable__content {max-height: 200px;max-width: 100%;overflow: auto;}#sk-container-id-11 input.sk-toggleable__control:checked~label.sk-toggleable__label-arrow:before {content: \"▾\";}#sk-container-id-11 div.sk-estimator input.sk-toggleable__control:checked~label.sk-toggleable__label {background-color: #d4ebff;}#sk-container-id-11 div.sk-label input.sk-toggleable__control:checked~label.sk-toggleable__label {background-color: #d4ebff;}#sk-container-id-11 input.sk-hidden--visually {border: 0;clip: rect(1px 1px 1px 1px);clip: rect(1px, 1px, 1px, 1px);height: 1px;margin: -1px;overflow: hidden;padding: 0;position: absolute;width: 1px;}#sk-container-id-11 div.sk-estimator {font-family: monospace;background-color: #f0f8ff;border: 1px dotted black;border-radius: 0.25em;box-sizing: border-box;margin-bottom: 0.5em;}#sk-container-id-11 div.sk-estimator:hover {background-color: #d4ebff;}#sk-container-id-11 div.sk-parallel-item::after {content: \"\";width: 100%;border-bottom: 1px solid gray;flex-grow: 1;}#sk-container-id-11 div.sk-label:hover label.sk-toggleable__label {background-color: #d4ebff;}#sk-container-id-11 div.sk-serial::before {content: \"\";position: absolute;border-left: 1px solid gray;box-sizing: border-box;top: 0;bottom: 0;left: 50%;z-index: 0;}#sk-container-id-11 div.sk-serial {display: flex;flex-direction: column;align-items: center;background-color: white;padding-right: 0.2em;padding-left: 0.2em;position: relative;}#sk-container-id-11 div.sk-item {position: relative;z-index: 1;}#sk-container-id-11 div.sk-parallel {display: flex;align-items: stretch;justify-content: center;background-color: white;position: relative;}#sk-container-id-11 div.sk-item::before, #sk-container-id-11 div.sk-parallel-item::before {content: \"\";position: absolute;border-left: 1px solid gray;box-sizing: border-box;top: 0;bottom: 0;left: 50%;z-index: -1;}#sk-container-id-11 div.sk-parallel-item {display: flex;flex-direction: column;z-index: 1;position: relative;background-color: white;}#sk-container-id-11 div.sk-parallel-item:first-child::after {align-self: flex-end;width: 50%;}#sk-container-id-11 div.sk-parallel-item:last-child::after {align-self: flex-start;width: 50%;}#sk-container-id-11 div.sk-parallel-item:only-child::after {width: 0;}#sk-container-id-11 div.sk-dashed-wrapped {border: 1px dashed gray;margin: 0 0.4em 0.5em 0.4em;box-sizing: border-box;padding-bottom: 0.4em;background-color: white;}#sk-container-id-11 div.sk-label label {font-family: monospace;font-weight: bold;display: inline-block;line-height: 1.2em;}#sk-container-id-11 div.sk-label-container {text-align: center;}#sk-container-id-11 div.sk-container {/* jupyter's `normalize.less` sets `[hidden] { display: none; }` but bootstrap.min.css set `[hidden] { display: none !important; }` so we also need the `!important` here to be able to override the default hidden behavior on the sphinx rendered scikit-learn.org. See: https://github.com/scikit-learn/scikit-learn/issues/21755 */display: inline-block !important;position: relative;}#sk-container-id-11 div.sk-text-repr-fallback {display: none;}</style><div id=\"sk-container-id-11\" class=\"sk-top-container\"><div class=\"sk-text-repr-fallback\"><pre>LogisticRegression(max_iter=1000, random_state=42, solver=&#x27;liblinear&#x27;)</pre><b>In a Jupyter environment, please rerun this cell to show the HTML representation or trust the notebook. <br />On GitHub, the HTML representation is unable to render, please try loading this page with nbviewer.org.</b></div><div class=\"sk-container\" hidden><div class=\"sk-item\"><div class=\"sk-estimator sk-toggleable\"><input class=\"sk-toggleable__control sk-hidden--visually\" id=\"sk-estimator-id-11\" type=\"checkbox\" checked><label for=\"sk-estimator-id-11\" class=\"sk-toggleable__label sk-toggleable__label-arrow\">LogisticRegression</label><div class=\"sk-toggleable__content\"><pre>LogisticRegression(max_iter=1000, random_state=42, solver=&#x27;liblinear&#x27;)</pre></div></div></div></div></div>"
      ],
      "text/plain": [
       "LogisticRegression(max_iter=1000, random_state=42, solver='liblinear')"
      ]
     },
     "execution_count": 389,
     "metadata": {},
     "output_type": "execute_result"
    }
   ],
   "source": [
    "model_3.fit(X_train, above_average)"
   ]
  },
  {
   "cell_type": "code",
   "execution_count": 394,
   "id": "692c552e",
   "metadata": {},
   "outputs": [
    {
     "data": {
      "text/html": [
       "<div>\n",
       "<style scoped>\n",
       "    .dataframe tbody tr th:only-of-type {\n",
       "        vertical-align: middle;\n",
       "    }\n",
       "\n",
       "    .dataframe tbody tr th {\n",
       "        vertical-align: top;\n",
       "    }\n",
       "\n",
       "    .dataframe thead th {\n",
       "        text-align: right;\n",
       "    }\n",
       "</style>\n",
       "<table border=\"1\" class=\"dataframe\">\n",
       "  <thead>\n",
       "    <tr style=\"text-align: right;\">\n",
       "      <th></th>\n",
       "      <th>latitude</th>\n",
       "      <th>longitude</th>\n",
       "      <th>housing_median_age</th>\n",
       "      <th>total_rooms</th>\n",
       "      <th>total_bedrooms</th>\n",
       "      <th>population</th>\n",
       "      <th>households</th>\n",
       "      <th>median_income</th>\n",
       "      <th>ocean_proximity</th>\n",
       "      <th>rooms_per_household</th>\n",
       "      <th>bedrooms_per_room</th>\n",
       "      <th>population_per_household</th>\n",
       "    </tr>\n",
       "  </thead>\n",
       "  <tbody>\n",
       "    <tr>\n",
       "      <th>2071</th>\n",
       "      <td>36.74</td>\n",
       "      <td>-119.85</td>\n",
       "      <td>35.0</td>\n",
       "      <td>1191.0</td>\n",
       "      <td>190.0</td>\n",
       "      <td>537.0</td>\n",
       "      <td>182.0</td>\n",
       "      <td>3.5375</td>\n",
       "      <td>INLAND</td>\n",
       "      <td>6.543956</td>\n",
       "      <td>0.159530</td>\n",
       "      <td>2.950549</td>\n",
       "    </tr>\n",
       "    <tr>\n",
       "      <th>2612</th>\n",
       "      <td>41.02</td>\n",
       "      <td>-124.16</td>\n",
       "      <td>23.0</td>\n",
       "      <td>1672.0</td>\n",
       "      <td>385.0</td>\n",
       "      <td>1060.0</td>\n",
       "      <td>390.0</td>\n",
       "      <td>2.1726</td>\n",
       "      <td>NEAR OCEAN</td>\n",
       "      <td>4.287179</td>\n",
       "      <td>0.230263</td>\n",
       "      <td>2.717949</td>\n",
       "    </tr>\n",
       "    <tr>\n",
       "      <th>10838</th>\n",
       "      <td>33.67</td>\n",
       "      <td>-117.92</td>\n",
       "      <td>14.0</td>\n",
       "      <td>6224.0</td>\n",
       "      <td>1679.0</td>\n",
       "      <td>3148.0</td>\n",
       "      <td>1589.0</td>\n",
       "      <td>4.2071</td>\n",
       "      <td>&lt;1H OCEAN</td>\n",
       "      <td>3.916929</td>\n",
       "      <td>0.269762</td>\n",
       "      <td>1.981120</td>\n",
       "    </tr>\n",
       "    <tr>\n",
       "      <th>4061</th>\n",
       "      <td>34.15</td>\n",
       "      <td>-118.45</td>\n",
       "      <td>10.0</td>\n",
       "      <td>1091.0</td>\n",
       "      <td>260.0</td>\n",
       "      <td>517.0</td>\n",
       "      <td>266.0</td>\n",
       "      <td>4.1727</td>\n",
       "      <td>&lt;1H OCEAN</td>\n",
       "      <td>4.101504</td>\n",
       "      <td>0.238313</td>\n",
       "      <td>1.943609</td>\n",
       "    </tr>\n",
       "    <tr>\n",
       "      <th>10767</th>\n",
       "      <td>33.63</td>\n",
       "      <td>-117.90</td>\n",
       "      <td>28.0</td>\n",
       "      <td>2370.0</td>\n",
       "      <td>352.0</td>\n",
       "      <td>832.0</td>\n",
       "      <td>347.0</td>\n",
       "      <td>7.1148</td>\n",
       "      <td>&lt;1H OCEAN</td>\n",
       "      <td>6.829971</td>\n",
       "      <td>0.148523</td>\n",
       "      <td>2.397695</td>\n",
       "    </tr>\n",
       "    <tr>\n",
       "      <th>...</th>\n",
       "      <td>...</td>\n",
       "      <td>...</td>\n",
       "      <td>...</td>\n",
       "      <td>...</td>\n",
       "      <td>...</td>\n",
       "      <td>...</td>\n",
       "      <td>...</td>\n",
       "      <td>...</td>\n",
       "      <td>...</td>\n",
       "      <td>...</td>\n",
       "      <td>...</td>\n",
       "      <td>...</td>\n",
       "    </tr>\n",
       "    <tr>\n",
       "      <th>2285</th>\n",
       "      <td>36.79</td>\n",
       "      <td>-119.77</td>\n",
       "      <td>27.0</td>\n",
       "      <td>2258.0</td>\n",
       "      <td>427.0</td>\n",
       "      <td>1076.0</td>\n",
       "      <td>423.0</td>\n",
       "      <td>2.9937</td>\n",
       "      <td>INLAND</td>\n",
       "      <td>5.338061</td>\n",
       "      <td>0.189105</td>\n",
       "      <td>2.543735</td>\n",
       "    </tr>\n",
       "    <tr>\n",
       "      <th>16904</th>\n",
       "      <td>37.58</td>\n",
       "      <td>-122.35</td>\n",
       "      <td>30.0</td>\n",
       "      <td>5039.0</td>\n",
       "      <td>1564.0</td>\n",
       "      <td>2129.0</td>\n",
       "      <td>1536.0</td>\n",
       "      <td>3.3469</td>\n",
       "      <td>NEAR OCEAN</td>\n",
       "      <td>3.280599</td>\n",
       "      <td>0.310379</td>\n",
       "      <td>1.386068</td>\n",
       "    </tr>\n",
       "    <tr>\n",
       "      <th>18139</th>\n",
       "      <td>37.34</td>\n",
       "      <td>-122.01</td>\n",
       "      <td>31.0</td>\n",
       "      <td>3080.0</td>\n",
       "      <td>526.0</td>\n",
       "      <td>1493.0</td>\n",
       "      <td>582.0</td>\n",
       "      <td>6.3052</td>\n",
       "      <td>&lt;1H OCEAN</td>\n",
       "      <td>5.292096</td>\n",
       "      <td>0.170779</td>\n",
       "      <td>2.565292</td>\n",
       "    </tr>\n",
       "    <tr>\n",
       "      <th>11471</th>\n",
       "      <td>33.67</td>\n",
       "      <td>-118.00</td>\n",
       "      <td>34.0</td>\n",
       "      <td>3712.0</td>\n",
       "      <td>667.0</td>\n",
       "      <td>1521.0</td>\n",
       "      <td>632.0</td>\n",
       "      <td>4.8125</td>\n",
       "      <td>&lt;1H OCEAN</td>\n",
       "      <td>5.873418</td>\n",
       "      <td>0.179688</td>\n",
       "      <td>2.406646</td>\n",
       "    </tr>\n",
       "    <tr>\n",
       "      <th>788</th>\n",
       "      <td>37.64</td>\n",
       "      <td>-122.09</td>\n",
       "      <td>32.0</td>\n",
       "      <td>1578.0</td>\n",
       "      <td>284.0</td>\n",
       "      <td>836.0</td>\n",
       "      <td>292.0</td>\n",
       "      <td>3.9063</td>\n",
       "      <td>NEAR BAY</td>\n",
       "      <td>5.404110</td>\n",
       "      <td>0.179975</td>\n",
       "      <td>2.863014</td>\n",
       "    </tr>\n",
       "  </tbody>\n",
       "</table>\n",
       "<p>4128 rows × 12 columns</p>\n",
       "</div>"
      ],
      "text/plain": [
       "       latitude  longitude  housing_median_age  total_rooms  total_bedrooms  \\\n",
       "2071      36.74    -119.85                35.0       1191.0           190.0   \n",
       "2612      41.02    -124.16                23.0       1672.0           385.0   \n",
       "10838     33.67    -117.92                14.0       6224.0          1679.0   \n",
       "4061      34.15    -118.45                10.0       1091.0           260.0   \n",
       "10767     33.63    -117.90                28.0       2370.0           352.0   \n",
       "...         ...        ...                 ...          ...             ...   \n",
       "2285      36.79    -119.77                27.0       2258.0           427.0   \n",
       "16904     37.58    -122.35                30.0       5039.0          1564.0   \n",
       "18139     37.34    -122.01                31.0       3080.0           526.0   \n",
       "11471     33.67    -118.00                34.0       3712.0           667.0   \n",
       "788       37.64    -122.09                32.0       1578.0           284.0   \n",
       "\n",
       "       population  households  median_income ocean_proximity  \\\n",
       "2071        537.0       182.0         3.5375          INLAND   \n",
       "2612       1060.0       390.0         2.1726      NEAR OCEAN   \n",
       "10838      3148.0      1589.0         4.2071       <1H OCEAN   \n",
       "4061        517.0       266.0         4.1727       <1H OCEAN   \n",
       "10767       832.0       347.0         7.1148       <1H OCEAN   \n",
       "...           ...         ...            ...             ...   \n",
       "2285       1076.0       423.0         2.9937          INLAND   \n",
       "16904      2129.0      1536.0         3.3469      NEAR OCEAN   \n",
       "18139      1493.0       582.0         6.3052       <1H OCEAN   \n",
       "11471      1521.0       632.0         4.8125       <1H OCEAN   \n",
       "788         836.0       292.0         3.9063        NEAR BAY   \n",
       "\n",
       "       rooms_per_household  bedrooms_per_room  population_per_household  \n",
       "2071              6.543956           0.159530                  2.950549  \n",
       "2612              4.287179           0.230263                  2.717949  \n",
       "10838             3.916929           0.269762                  1.981120  \n",
       "4061              4.101504           0.238313                  1.943609  \n",
       "10767             6.829971           0.148523                  2.397695  \n",
       "...                    ...                ...                       ...  \n",
       "2285              5.338061           0.189105                  2.543735  \n",
       "16904             3.280599           0.310379                  1.386068  \n",
       "18139             5.292096           0.170779                  2.565292  \n",
       "11471             5.873418           0.179688                  2.406646  \n",
       "788               5.404110           0.179975                  2.863014  \n",
       "\n",
       "[4128 rows x 12 columns]"
      ]
     },
     "execution_count": 394,
     "metadata": {},
     "output_type": "execute_result"
    }
   ],
   "source": [
    "# Same procedure for the validation dataset (One Hot Enconding)\n",
    "\n",
    "df_val"
   ]
  },
  {
   "cell_type": "code",
   "execution_count": 395,
   "id": "aece1e1d",
   "metadata": {},
   "outputs": [],
   "source": [
    "val_dict_3 = df_val.to_dict(orient='records')"
   ]
  },
  {
   "cell_type": "code",
   "execution_count": 417,
   "id": "4bed796c",
   "metadata": {},
   "outputs": [],
   "source": [
    "#there is no need to fit on the validation dataset\n",
    "X_val_3 = dv_3.transform(val_dict_3)"
   ]
  },
  {
   "cell_type": "code",
   "execution_count": 397,
   "id": "94e39929",
   "metadata": {
    "scrolled": true
   },
   "outputs": [
    {
     "data": {
      "text/plain": [
       "array([[0.91245709, 0.08754291],\n",
       "       [0.84006404, 0.15993596],\n",
       "       [0.04791432, 0.95208568],\n",
       "       ...,\n",
       "       [0.04120502, 0.95879498],\n",
       "       [0.15063196, 0.84936804],\n",
       "       [0.52768249, 0.47231751]])"
      ]
     },
     "execution_count": 397,
     "metadata": {},
     "output_type": "execute_result"
    }
   ],
   "source": [
    "model_3.predict_proba(X_val_3)"
   ]
  },
  {
   "cell_type": "code",
   "execution_count": 398,
   "id": "4a30b300",
   "metadata": {},
   "outputs": [],
   "source": [
    "y_pred_3 = model_3.predict_proba(X_val_3)[:,1]"
   ]
  },
  {
   "cell_type": "code",
   "execution_count": 399,
   "id": "04a1997c",
   "metadata": {},
   "outputs": [
    {
     "data": {
      "text/plain": [
       "array([0.08754291, 0.15993596, 0.95208568, ..., 0.95879498, 0.84936804, 0.47231751])"
      ]
     },
     "execution_count": 399,
     "metadata": {},
     "output_type": "execute_result"
    }
   ],
   "source": [
    "y_pred_3"
   ]
  },
  {
   "cell_type": "code",
   "execution_count": 405,
   "id": "742e05c1",
   "metadata": {},
   "outputs": [],
   "source": [
    "above = y_pred_3 >0.5"
   ]
  },
  {
   "cell_type": "code",
   "execution_count": 418,
   "id": "79ea4eb1",
   "metadata": {
    "scrolled": true
   },
   "outputs": [
    {
     "data": {
      "text/plain": [
       "0.8359980620155039"
      ]
     },
     "execution_count": 418,
     "metadata": {},
     "output_type": "execute_result"
    }
   ],
   "source": [
    "(above_average_val == above).mean()"
   ]
  },
  {
   "cell_type": "code",
   "execution_count": 447,
   "id": "46db31f6",
   "metadata": {},
   "outputs": [
    {
     "data": {
      "text/plain": [
       "0.84"
      ]
     },
     "execution_count": 447,
     "metadata": {},
     "output_type": "execute_result"
    }
   ],
   "source": [
    "round((above_average_val == above).mean(),2)"
   ]
  },
  {
   "cell_type": "code",
   "execution_count": 419,
   "id": "ad7c31a0",
   "metadata": {},
   "outputs": [
    {
     "data": {
      "text/plain": [
       "(12384,)"
      ]
     },
     "execution_count": 419,
     "metadata": {},
     "output_type": "execute_result"
    }
   ],
   "source": [
    "above_average.shape"
   ]
  },
  {
   "cell_type": "code",
   "execution_count": 420,
   "id": "421cc8dd",
   "metadata": {},
   "outputs": [
    {
     "data": {
      "text/plain": [
       "(12384, 16)"
      ]
     },
     "execution_count": 420,
     "metadata": {},
     "output_type": "execute_result"
    }
   ],
   "source": [
    "X_train.shape"
   ]
  },
  {
   "cell_type": "markdown",
   "id": "099b0fcc",
   "metadata": {},
   "source": [
    "#### END OF CLEAN QUESTION 4 - SHORT METHOD"
   ]
  },
  {
   "cell_type": "code",
   "execution_count": null,
   "id": "fc71ae7a",
   "metadata": {},
   "outputs": [],
   "source": []
  },
  {
   "cell_type": "code",
   "execution_count": null,
   "id": "8cdb06e6",
   "metadata": {},
   "outputs": [],
   "source": []
  },
  {
   "cell_type": "code",
   "execution_count": null,
   "id": "f5dfceef",
   "metadata": {},
   "outputs": [],
   "source": []
  },
  {
   "cell_type": "markdown",
   "id": "c46e20fa",
   "metadata": {},
   "source": [
    "### QUESTION 4 - LONG (EXPLAINED) METHOD"
   ]
  },
  {
   "cell_type": "code",
   "execution_count": 217,
   "id": "22fa7d5c",
   "metadata": {
    "scrolled": false
   },
   "outputs": [
    {
     "data": {
      "text/plain": [
       "{'ocean_proximity': '<1H OCEAN'}"
      ]
     },
     "execution_count": 217,
     "metadata": {},
     "output_type": "execute_result"
    }
   ],
   "source": [
    "train_dict = df_train[['ocean_proximity']].to_dict(orient='records')\n",
    "train_dict[0]"
   ]
  },
  {
   "cell_type": "code",
   "execution_count": 218,
   "id": "624f4e81",
   "metadata": {},
   "outputs": [],
   "source": [
    "dv = DictVectorizer(sparse=False)"
   ]
  },
  {
   "cell_type": "code",
   "execution_count": 230,
   "id": "2cc4037c",
   "metadata": {
    "scrolled": true
   },
   "outputs": [
    {
     "name": "stderr",
     "output_type": "stream",
     "text": [
      "D:\\Users\\Test\\anaconda3\\envs\\ml-zoomcamp\\lib\\site-packages\\sklearn\\utils\\deprecation.py:87: FutureWarning: Function get_feature_names is deprecated; get_feature_names is deprecated in 1.0 and will be removed in 1.2. Please use get_feature_names_out instead.\n",
      "  warnings.warn(msg, category=FutureWarning)\n"
     ]
    },
    {
     "data": {
      "text/plain": [
       "['ocean_proximity=<1H OCEAN',\n",
       " 'ocean_proximity=INLAND',\n",
       " 'ocean_proximity=ISLAND',\n",
       " 'ocean_proximity=NEAR BAY',\n",
       " 'ocean_proximity=NEAR OCEAN']"
      ]
     },
     "execution_count": 230,
     "metadata": {},
     "output_type": "execute_result"
    }
   ],
   "source": [
    "dv.get_feature_names()"
   ]
  },
  {
   "cell_type": "code",
   "execution_count": 219,
   "id": "5b93a73b",
   "metadata": {
    "scrolled": true
   },
   "outputs": [
    {
     "data": {
      "text/html": [
       "<style>#sk-container-id-4 {color: black;background-color: white;}#sk-container-id-4 pre{padding: 0;}#sk-container-id-4 div.sk-toggleable {background-color: white;}#sk-container-id-4 label.sk-toggleable__label {cursor: pointer;display: block;width: 100%;margin-bottom: 0;padding: 0.3em;box-sizing: border-box;text-align: center;}#sk-container-id-4 label.sk-toggleable__label-arrow:before {content: \"▸\";float: left;margin-right: 0.25em;color: #696969;}#sk-container-id-4 label.sk-toggleable__label-arrow:hover:before {color: black;}#sk-container-id-4 div.sk-estimator:hover label.sk-toggleable__label-arrow:before {color: black;}#sk-container-id-4 div.sk-toggleable__content {max-height: 0;max-width: 0;overflow: hidden;text-align: left;background-color: #f0f8ff;}#sk-container-id-4 div.sk-toggleable__content pre {margin: 0.2em;color: black;border-radius: 0.25em;background-color: #f0f8ff;}#sk-container-id-4 input.sk-toggleable__control:checked~div.sk-toggleable__content {max-height: 200px;max-width: 100%;overflow: auto;}#sk-container-id-4 input.sk-toggleable__control:checked~label.sk-toggleable__label-arrow:before {content: \"▾\";}#sk-container-id-4 div.sk-estimator input.sk-toggleable__control:checked~label.sk-toggleable__label {background-color: #d4ebff;}#sk-container-id-4 div.sk-label input.sk-toggleable__control:checked~label.sk-toggleable__label {background-color: #d4ebff;}#sk-container-id-4 input.sk-hidden--visually {border: 0;clip: rect(1px 1px 1px 1px);clip: rect(1px, 1px, 1px, 1px);height: 1px;margin: -1px;overflow: hidden;padding: 0;position: absolute;width: 1px;}#sk-container-id-4 div.sk-estimator {font-family: monospace;background-color: #f0f8ff;border: 1px dotted black;border-radius: 0.25em;box-sizing: border-box;margin-bottom: 0.5em;}#sk-container-id-4 div.sk-estimator:hover {background-color: #d4ebff;}#sk-container-id-4 div.sk-parallel-item::after {content: \"\";width: 100%;border-bottom: 1px solid gray;flex-grow: 1;}#sk-container-id-4 div.sk-label:hover label.sk-toggleable__label {background-color: #d4ebff;}#sk-container-id-4 div.sk-serial::before {content: \"\";position: absolute;border-left: 1px solid gray;box-sizing: border-box;top: 0;bottom: 0;left: 50%;z-index: 0;}#sk-container-id-4 div.sk-serial {display: flex;flex-direction: column;align-items: center;background-color: white;padding-right: 0.2em;padding-left: 0.2em;position: relative;}#sk-container-id-4 div.sk-item {position: relative;z-index: 1;}#sk-container-id-4 div.sk-parallel {display: flex;align-items: stretch;justify-content: center;background-color: white;position: relative;}#sk-container-id-4 div.sk-item::before, #sk-container-id-4 div.sk-parallel-item::before {content: \"\";position: absolute;border-left: 1px solid gray;box-sizing: border-box;top: 0;bottom: 0;left: 50%;z-index: -1;}#sk-container-id-4 div.sk-parallel-item {display: flex;flex-direction: column;z-index: 1;position: relative;background-color: white;}#sk-container-id-4 div.sk-parallel-item:first-child::after {align-self: flex-end;width: 50%;}#sk-container-id-4 div.sk-parallel-item:last-child::after {align-self: flex-start;width: 50%;}#sk-container-id-4 div.sk-parallel-item:only-child::after {width: 0;}#sk-container-id-4 div.sk-dashed-wrapped {border: 1px dashed gray;margin: 0 0.4em 0.5em 0.4em;box-sizing: border-box;padding-bottom: 0.4em;background-color: white;}#sk-container-id-4 div.sk-label label {font-family: monospace;font-weight: bold;display: inline-block;line-height: 1.2em;}#sk-container-id-4 div.sk-label-container {text-align: center;}#sk-container-id-4 div.sk-container {/* jupyter's `normalize.less` sets `[hidden] { display: none; }` but bootstrap.min.css set `[hidden] { display: none !important; }` so we also need the `!important` here to be able to override the default hidden behavior on the sphinx rendered scikit-learn.org. See: https://github.com/scikit-learn/scikit-learn/issues/21755 */display: inline-block !important;position: relative;}#sk-container-id-4 div.sk-text-repr-fallback {display: none;}</style><div id=\"sk-container-id-4\" class=\"sk-top-container\"><div class=\"sk-text-repr-fallback\"><pre>DictVectorizer(sparse=False)</pre><b>In a Jupyter environment, please rerun this cell to show the HTML representation or trust the notebook. <br />On GitHub, the HTML representation is unable to render, please try loading this page with nbviewer.org.</b></div><div class=\"sk-container\" hidden><div class=\"sk-item\"><div class=\"sk-estimator sk-toggleable\"><input class=\"sk-toggleable__control sk-hidden--visually\" id=\"sk-estimator-id-4\" type=\"checkbox\" checked><label for=\"sk-estimator-id-4\" class=\"sk-toggleable__label sk-toggleable__label-arrow\">DictVectorizer</label><div class=\"sk-toggleable__content\"><pre>DictVectorizer(sparse=False)</pre></div></div></div></div></div>"
      ],
      "text/plain": [
       "DictVectorizer(sparse=False)"
      ]
     },
     "execution_count": 219,
     "metadata": {},
     "output_type": "execute_result"
    }
   ],
   "source": [
    "dv.fit(train_dict)"
   ]
  },
  {
   "cell_type": "code",
   "execution_count": 231,
   "id": "03249377",
   "metadata": {},
   "outputs": [],
   "source": [
    "onehot_train = dv.transform(train_dict)\n"
   ]
  },
  {
   "cell_type": "code",
   "execution_count": 232,
   "id": "82762dd6",
   "metadata": {
    "scrolled": true
   },
   "outputs": [
    {
     "data": {
      "text/plain": [
       "(12384, 5)"
      ]
     },
     "execution_count": 232,
     "metadata": {},
     "output_type": "execute_result"
    }
   ],
   "source": [
    "onehot_train.shape"
   ]
  },
  {
   "cell_type": "code",
   "execution_count": 237,
   "id": "7ff60705",
   "metadata": {
    "scrolled": false
   },
   "outputs": [
    {
     "data": {
      "text/plain": [
       "array([[1., 0., 0., 0., 0.],\n",
       "       [0., 0., 0., 0., 1.],\n",
       "       [0., 1., 0., 0., 0.],\n",
       "       ...,\n",
       "       [1., 0., 0., 0., 0.],\n",
       "       [1., 0., 0., 0., 0.],\n",
       "       [1., 0., 0., 0., 0.]])"
      ]
     },
     "execution_count": 237,
     "metadata": {},
     "output_type": "execute_result"
    }
   ],
   "source": [
    "onehot_train"
   ]
  },
  {
   "cell_type": "code",
   "execution_count": 422,
   "id": "f4554ba6",
   "metadata": {
    "scrolled": true
   },
   "outputs": [
    {
     "data": {
      "text/plain": [
       "{'ocean_proximity': 'INLAND'}"
      ]
     },
     "execution_count": 422,
     "metadata": {},
     "output_type": "execute_result"
    }
   ],
   "source": [
    "val_dict = df_val[['ocean_proximity']].to_dict(orient='records')\n",
    "val_dict[0]"
   ]
  },
  {
   "cell_type": "code",
   "execution_count": 423,
   "id": "966f2f3e",
   "metadata": {},
   "outputs": [
    {
     "data": {
      "text/plain": [
       "(4128, 5)"
      ]
     },
     "execution_count": 423,
     "metadata": {},
     "output_type": "execute_result"
    }
   ],
   "source": [
    "onehot_val = dv.transform(val_dict)\n",
    "onehot_val.shape"
   ]
  },
  {
   "cell_type": "code",
   "execution_count": 424,
   "id": "ce0d0e7d",
   "metadata": {
    "scrolled": false
   },
   "outputs": [
    {
     "data": {
      "text/plain": [
       "ocean_proximity\n",
       "<1H OCEAN          5472\n",
       "INLAND             3955\n",
       "NEAR OCEAN         1558\n",
       "NEAR BAY           1397\n",
       "ISLAND                2\n",
       "dtype: int64"
      ]
     },
     "execution_count": 424,
     "metadata": {},
     "output_type": "execute_result"
    }
   ],
   "source": [
    "#value count for confirmation\n",
    "df_train[['ocean_proximity']].value_counts()"
   ]
  },
  {
   "cell_type": "code",
   "execution_count": 425,
   "id": "d6fedc8a",
   "metadata": {
    "scrolled": false
   },
   "outputs": [
    {
     "name": "stdout",
     "output_type": "stream",
     "text": [
      "[5472.0, 3955.0, 2.0, 1397.0, 1558.0]\n"
     ]
    }
   ],
   "source": [
    "#confirmation of 1-hot encoding\n",
    "print([sum(v[:-i]) if i else sum(v) for i, v in enumerate(zip(*onehot_train))])"
   ]
  },
  {
   "cell_type": "code",
   "execution_count": 428,
   "id": "f4f881bd",
   "metadata": {
    "scrolled": true
   },
   "outputs": [],
   "source": [
    "df_train_2 = df_train.copy()"
   ]
  },
  {
   "cell_type": "code",
   "execution_count": 450,
   "id": "e74a97be",
   "metadata": {
    "scrolled": true
   },
   "outputs": [],
   "source": [
    "df_train_2.reset_index(drop=True, inplace=True)\n"
   ]
  },
  {
   "cell_type": "code",
   "execution_count": 431,
   "id": "584df35c",
   "metadata": {
    "scrolled": true
   },
   "outputs": [
    {
     "data": {
      "text/html": [
       "<div>\n",
       "<style scoped>\n",
       "    .dataframe tbody tr th:only-of-type {\n",
       "        vertical-align: middle;\n",
       "    }\n",
       "\n",
       "    .dataframe tbody tr th {\n",
       "        vertical-align: top;\n",
       "    }\n",
       "\n",
       "    .dataframe thead th {\n",
       "        text-align: right;\n",
       "    }\n",
       "</style>\n",
       "<table border=\"1\" class=\"dataframe\">\n",
       "  <thead>\n",
       "    <tr style=\"text-align: right;\">\n",
       "      <th></th>\n",
       "      <th>latitude</th>\n",
       "      <th>longitude</th>\n",
       "      <th>housing_median_age</th>\n",
       "      <th>total_rooms</th>\n",
       "      <th>total_bedrooms</th>\n",
       "      <th>population</th>\n",
       "      <th>households</th>\n",
       "      <th>median_income</th>\n",
       "      <th>ocean_proximity</th>\n",
       "      <th>rooms_per_household</th>\n",
       "      <th>bedrooms_per_room</th>\n",
       "      <th>population_per_household</th>\n",
       "      <th>0</th>\n",
       "      <th>1</th>\n",
       "      <th>2</th>\n",
       "      <th>3</th>\n",
       "      <th>4</th>\n",
       "    </tr>\n",
       "  </thead>\n",
       "  <tbody>\n",
       "    <tr>\n",
       "      <th>0</th>\n",
       "      <td>34.43</td>\n",
       "      <td>-119.67</td>\n",
       "      <td>39.0</td>\n",
       "      <td>1467.0</td>\n",
       "      <td>381.0</td>\n",
       "      <td>1404.0</td>\n",
       "      <td>374.0</td>\n",
       "      <td>2.3681</td>\n",
       "      <td>&lt;1H OCEAN</td>\n",
       "      <td>3.922460</td>\n",
       "      <td>0.259714</td>\n",
       "      <td>3.754011</td>\n",
       "      <td>1.0</td>\n",
       "      <td>0.0</td>\n",
       "      <td>0.0</td>\n",
       "      <td>0.0</td>\n",
       "      <td>0.0</td>\n",
       "    </tr>\n",
       "    <tr>\n",
       "      <th>1</th>\n",
       "      <td>33.74</td>\n",
       "      <td>-118.32</td>\n",
       "      <td>24.0</td>\n",
       "      <td>6097.0</td>\n",
       "      <td>794.0</td>\n",
       "      <td>2248.0</td>\n",
       "      <td>806.0</td>\n",
       "      <td>10.1357</td>\n",
       "      <td>NEAR OCEAN</td>\n",
       "      <td>7.564516</td>\n",
       "      <td>0.130228</td>\n",
       "      <td>2.789082</td>\n",
       "      <td>0.0</td>\n",
       "      <td>0.0</td>\n",
       "      <td>0.0</td>\n",
       "      <td>0.0</td>\n",
       "      <td>1.0</td>\n",
       "    </tr>\n",
       "    <tr>\n",
       "      <th>2</th>\n",
       "      <td>39.13</td>\n",
       "      <td>-121.62</td>\n",
       "      <td>41.0</td>\n",
       "      <td>1317.0</td>\n",
       "      <td>309.0</td>\n",
       "      <td>856.0</td>\n",
       "      <td>337.0</td>\n",
       "      <td>1.6719</td>\n",
       "      <td>INLAND</td>\n",
       "      <td>3.908012</td>\n",
       "      <td>0.234624</td>\n",
       "      <td>2.540059</td>\n",
       "      <td>0.0</td>\n",
       "      <td>1.0</td>\n",
       "      <td>0.0</td>\n",
       "      <td>0.0</td>\n",
       "      <td>0.0</td>\n",
       "    </tr>\n",
       "    <tr>\n",
       "      <th>3</th>\n",
       "      <td>34.24</td>\n",
       "      <td>-118.63</td>\n",
       "      <td>9.0</td>\n",
       "      <td>4759.0</td>\n",
       "      <td>924.0</td>\n",
       "      <td>1884.0</td>\n",
       "      <td>915.0</td>\n",
       "      <td>4.8333</td>\n",
       "      <td>&lt;1H OCEAN</td>\n",
       "      <td>5.201093</td>\n",
       "      <td>0.194158</td>\n",
       "      <td>2.059016</td>\n",
       "      <td>1.0</td>\n",
       "      <td>0.0</td>\n",
       "      <td>0.0</td>\n",
       "      <td>0.0</td>\n",
       "      <td>0.0</td>\n",
       "    </tr>\n",
       "    <tr>\n",
       "      <th>4</th>\n",
       "      <td>37.52</td>\n",
       "      <td>-122.30</td>\n",
       "      <td>38.0</td>\n",
       "      <td>2769.0</td>\n",
       "      <td>387.0</td>\n",
       "      <td>994.0</td>\n",
       "      <td>395.0</td>\n",
       "      <td>5.5902</td>\n",
       "      <td>NEAR OCEAN</td>\n",
       "      <td>7.010127</td>\n",
       "      <td>0.139762</td>\n",
       "      <td>2.516456</td>\n",
       "      <td>0.0</td>\n",
       "      <td>0.0</td>\n",
       "      <td>0.0</td>\n",
       "      <td>0.0</td>\n",
       "      <td>1.0</td>\n",
       "    </tr>\n",
       "    <tr>\n",
       "      <th>...</th>\n",
       "      <td>...</td>\n",
       "      <td>...</td>\n",
       "      <td>...</td>\n",
       "      <td>...</td>\n",
       "      <td>...</td>\n",
       "      <td>...</td>\n",
       "      <td>...</td>\n",
       "      <td>...</td>\n",
       "      <td>...</td>\n",
       "      <td>...</td>\n",
       "      <td>...</td>\n",
       "      <td>...</td>\n",
       "      <td>...</td>\n",
       "      <td>...</td>\n",
       "      <td>...</td>\n",
       "      <td>...</td>\n",
       "      <td>...</td>\n",
       "    </tr>\n",
       "    <tr>\n",
       "      <th>12379</th>\n",
       "      <td>33.79</td>\n",
       "      <td>-118.29</td>\n",
       "      <td>16.0</td>\n",
       "      <td>1867.0</td>\n",
       "      <td>571.0</td>\n",
       "      <td>951.0</td>\n",
       "      <td>498.0</td>\n",
       "      <td>3.3427</td>\n",
       "      <td>&lt;1H OCEAN</td>\n",
       "      <td>3.748996</td>\n",
       "      <td>0.305838</td>\n",
       "      <td>1.909639</td>\n",
       "      <td>1.0</td>\n",
       "      <td>0.0</td>\n",
       "      <td>0.0</td>\n",
       "      <td>0.0</td>\n",
       "      <td>0.0</td>\n",
       "    </tr>\n",
       "    <tr>\n",
       "      <th>12380</th>\n",
       "      <td>38.04</td>\n",
       "      <td>-121.34</td>\n",
       "      <td>16.0</td>\n",
       "      <td>3295.0</td>\n",
       "      <td>565.0</td>\n",
       "      <td>2279.0</td>\n",
       "      <td>576.0</td>\n",
       "      <td>3.6083</td>\n",
       "      <td>INLAND</td>\n",
       "      <td>5.720486</td>\n",
       "      <td>0.171472</td>\n",
       "      <td>3.956597</td>\n",
       "      <td>0.0</td>\n",
       "      <td>1.0</td>\n",
       "      <td>0.0</td>\n",
       "      <td>0.0</td>\n",
       "      <td>0.0</td>\n",
       "    </tr>\n",
       "    <tr>\n",
       "      <th>12381</th>\n",
       "      <td>32.74</td>\n",
       "      <td>-116.99</td>\n",
       "      <td>18.0</td>\n",
       "      <td>3341.0</td>\n",
       "      <td>611.0</td>\n",
       "      <td>1952.0</td>\n",
       "      <td>602.0</td>\n",
       "      <td>3.9844</td>\n",
       "      <td>&lt;1H OCEAN</td>\n",
       "      <td>5.549834</td>\n",
       "      <td>0.182879</td>\n",
       "      <td>3.242525</td>\n",
       "      <td>1.0</td>\n",
       "      <td>0.0</td>\n",
       "      <td>0.0</td>\n",
       "      <td>0.0</td>\n",
       "      <td>0.0</td>\n",
       "    </tr>\n",
       "    <tr>\n",
       "      <th>12382</th>\n",
       "      <td>33.84</td>\n",
       "      <td>-117.87</td>\n",
       "      <td>16.0</td>\n",
       "      <td>1545.0</td>\n",
       "      <td>354.0</td>\n",
       "      <td>730.0</td>\n",
       "      <td>350.0</td>\n",
       "      <td>4.5112</td>\n",
       "      <td>&lt;1H OCEAN</td>\n",
       "      <td>4.414286</td>\n",
       "      <td>0.229126</td>\n",
       "      <td>2.085714</td>\n",
       "      <td>1.0</td>\n",
       "      <td>0.0</td>\n",
       "      <td>0.0</td>\n",
       "      <td>0.0</td>\n",
       "      <td>0.0</td>\n",
       "    </tr>\n",
       "    <tr>\n",
       "      <th>12383</th>\n",
       "      <td>33.91</td>\n",
       "      <td>-118.32</td>\n",
       "      <td>35.0</td>\n",
       "      <td>940.0</td>\n",
       "      <td>197.0</td>\n",
       "      <td>640.0</td>\n",
       "      <td>215.0</td>\n",
       "      <td>4.2000</td>\n",
       "      <td>&lt;1H OCEAN</td>\n",
       "      <td>4.372093</td>\n",
       "      <td>0.209574</td>\n",
       "      <td>2.976744</td>\n",
       "      <td>1.0</td>\n",
       "      <td>0.0</td>\n",
       "      <td>0.0</td>\n",
       "      <td>0.0</td>\n",
       "      <td>0.0</td>\n",
       "    </tr>\n",
       "  </tbody>\n",
       "</table>\n",
       "<p>12384 rows × 17 columns</p>\n",
       "</div>"
      ],
      "text/plain": [
       "       latitude  longitude  housing_median_age  total_rooms  total_bedrooms  \\\n",
       "0         34.43    -119.67                39.0       1467.0           381.0   \n",
       "1         33.74    -118.32                24.0       6097.0           794.0   \n",
       "2         39.13    -121.62                41.0       1317.0           309.0   \n",
       "3         34.24    -118.63                 9.0       4759.0           924.0   \n",
       "4         37.52    -122.30                38.0       2769.0           387.0   \n",
       "...         ...        ...                 ...          ...             ...   \n",
       "12379     33.79    -118.29                16.0       1867.0           571.0   \n",
       "12380     38.04    -121.34                16.0       3295.0           565.0   \n",
       "12381     32.74    -116.99                18.0       3341.0           611.0   \n",
       "12382     33.84    -117.87                16.0       1545.0           354.0   \n",
       "12383     33.91    -118.32                35.0        940.0           197.0   \n",
       "\n",
       "       population  households  median_income ocean_proximity  \\\n",
       "0          1404.0       374.0         2.3681       <1H OCEAN   \n",
       "1          2248.0       806.0        10.1357      NEAR OCEAN   \n",
       "2           856.0       337.0         1.6719          INLAND   \n",
       "3          1884.0       915.0         4.8333       <1H OCEAN   \n",
       "4           994.0       395.0         5.5902      NEAR OCEAN   \n",
       "...           ...         ...            ...             ...   \n",
       "12379       951.0       498.0         3.3427       <1H OCEAN   \n",
       "12380      2279.0       576.0         3.6083          INLAND   \n",
       "12381      1952.0       602.0         3.9844       <1H OCEAN   \n",
       "12382       730.0       350.0         4.5112       <1H OCEAN   \n",
       "12383       640.0       215.0         4.2000       <1H OCEAN   \n",
       "\n",
       "       rooms_per_household  bedrooms_per_room  population_per_household    0  \\\n",
       "0                 3.922460           0.259714                  3.754011  1.0   \n",
       "1                 7.564516           0.130228                  2.789082  0.0   \n",
       "2                 3.908012           0.234624                  2.540059  0.0   \n",
       "3                 5.201093           0.194158                  2.059016  1.0   \n",
       "4                 7.010127           0.139762                  2.516456  0.0   \n",
       "...                    ...                ...                       ...  ...   \n",
       "12379             3.748996           0.305838                  1.909639  1.0   \n",
       "12380             5.720486           0.171472                  3.956597  0.0   \n",
       "12381             5.549834           0.182879                  3.242525  1.0   \n",
       "12382             4.414286           0.229126                  2.085714  1.0   \n",
       "12383             4.372093           0.209574                  2.976744  1.0   \n",
       "\n",
       "         1    2    3    4  \n",
       "0      0.0  0.0  0.0  0.0  \n",
       "1      0.0  0.0  0.0  1.0  \n",
       "2      1.0  0.0  0.0  0.0  \n",
       "3      0.0  0.0  0.0  0.0  \n",
       "4      0.0  0.0  0.0  1.0  \n",
       "...    ...  ...  ...  ...  \n",
       "12379  0.0  0.0  0.0  0.0  \n",
       "12380  1.0  0.0  0.0  0.0  \n",
       "12381  0.0  0.0  0.0  0.0  \n",
       "12382  0.0  0.0  0.0  0.0  \n",
       "12383  0.0  0.0  0.0  0.0  \n",
       "\n",
       "[12384 rows x 17 columns]"
      ]
     },
     "execution_count": 431,
     "metadata": {},
     "output_type": "execute_result"
    }
   ],
   "source": [
    "df_train_2 = pd.concat([df_train_2, pd.DataFrame(onehot_train)], axis=1)\n",
    "df_train_2"
   ]
  },
  {
   "cell_type": "code",
   "execution_count": 432,
   "id": "e2d0725a",
   "metadata": {
    "scrolled": true
   },
   "outputs": [],
   "source": [
    "df_train_2.rename(columns = {0:'ocean_prox_<1H OCEAN',\n",
    "                             1:'ocean_prox_INLAND',\n",
    "                             2:'ocean_prox_ISLAND',\n",
    "                             3:'ocean_prox_NEAR BAY',\n",
    "                             4:'ocean_prox_NEAR OCEAN'}\n",
    "                 ,inplace=True)\n"
   ]
  },
  {
   "cell_type": "code",
   "execution_count": 433,
   "id": "52e46ffb",
   "metadata": {},
   "outputs": [
    {
     "data": {
      "text/html": [
       "<div>\n",
       "<style scoped>\n",
       "    .dataframe tbody tr th:only-of-type {\n",
       "        vertical-align: middle;\n",
       "    }\n",
       "\n",
       "    .dataframe tbody tr th {\n",
       "        vertical-align: top;\n",
       "    }\n",
       "\n",
       "    .dataframe thead th {\n",
       "        text-align: right;\n",
       "    }\n",
       "</style>\n",
       "<table border=\"1\" class=\"dataframe\">\n",
       "  <thead>\n",
       "    <tr style=\"text-align: right;\">\n",
       "      <th></th>\n",
       "      <th>latitude</th>\n",
       "      <th>longitude</th>\n",
       "      <th>housing_median_age</th>\n",
       "      <th>total_rooms</th>\n",
       "      <th>total_bedrooms</th>\n",
       "      <th>population</th>\n",
       "      <th>households</th>\n",
       "      <th>median_income</th>\n",
       "      <th>ocean_proximity</th>\n",
       "      <th>rooms_per_household</th>\n",
       "      <th>bedrooms_per_room</th>\n",
       "      <th>population_per_household</th>\n",
       "      <th>ocean_prox_&lt;1H OCEAN</th>\n",
       "      <th>ocean_prox_INLAND</th>\n",
       "      <th>ocean_prox_ISLAND</th>\n",
       "      <th>ocean_prox_NEAR BAY</th>\n",
       "      <th>ocean_prox_NEAR OCEAN</th>\n",
       "    </tr>\n",
       "  </thead>\n",
       "  <tbody>\n",
       "    <tr>\n",
       "      <th>0</th>\n",
       "      <td>34.43</td>\n",
       "      <td>-119.67</td>\n",
       "      <td>39.0</td>\n",
       "      <td>1467.0</td>\n",
       "      <td>381.0</td>\n",
       "      <td>1404.0</td>\n",
       "      <td>374.0</td>\n",
       "      <td>2.3681</td>\n",
       "      <td>&lt;1H OCEAN</td>\n",
       "      <td>3.922460</td>\n",
       "      <td>0.259714</td>\n",
       "      <td>3.754011</td>\n",
       "      <td>1.0</td>\n",
       "      <td>0.0</td>\n",
       "      <td>0.0</td>\n",
       "      <td>0.0</td>\n",
       "      <td>0.0</td>\n",
       "    </tr>\n",
       "    <tr>\n",
       "      <th>1</th>\n",
       "      <td>33.74</td>\n",
       "      <td>-118.32</td>\n",
       "      <td>24.0</td>\n",
       "      <td>6097.0</td>\n",
       "      <td>794.0</td>\n",
       "      <td>2248.0</td>\n",
       "      <td>806.0</td>\n",
       "      <td>10.1357</td>\n",
       "      <td>NEAR OCEAN</td>\n",
       "      <td>7.564516</td>\n",
       "      <td>0.130228</td>\n",
       "      <td>2.789082</td>\n",
       "      <td>0.0</td>\n",
       "      <td>0.0</td>\n",
       "      <td>0.0</td>\n",
       "      <td>0.0</td>\n",
       "      <td>1.0</td>\n",
       "    </tr>\n",
       "    <tr>\n",
       "      <th>2</th>\n",
       "      <td>39.13</td>\n",
       "      <td>-121.62</td>\n",
       "      <td>41.0</td>\n",
       "      <td>1317.0</td>\n",
       "      <td>309.0</td>\n",
       "      <td>856.0</td>\n",
       "      <td>337.0</td>\n",
       "      <td>1.6719</td>\n",
       "      <td>INLAND</td>\n",
       "      <td>3.908012</td>\n",
       "      <td>0.234624</td>\n",
       "      <td>2.540059</td>\n",
       "      <td>0.0</td>\n",
       "      <td>1.0</td>\n",
       "      <td>0.0</td>\n",
       "      <td>0.0</td>\n",
       "      <td>0.0</td>\n",
       "    </tr>\n",
       "    <tr>\n",
       "      <th>3</th>\n",
       "      <td>34.24</td>\n",
       "      <td>-118.63</td>\n",
       "      <td>9.0</td>\n",
       "      <td>4759.0</td>\n",
       "      <td>924.0</td>\n",
       "      <td>1884.0</td>\n",
       "      <td>915.0</td>\n",
       "      <td>4.8333</td>\n",
       "      <td>&lt;1H OCEAN</td>\n",
       "      <td>5.201093</td>\n",
       "      <td>0.194158</td>\n",
       "      <td>2.059016</td>\n",
       "      <td>1.0</td>\n",
       "      <td>0.0</td>\n",
       "      <td>0.0</td>\n",
       "      <td>0.0</td>\n",
       "      <td>0.0</td>\n",
       "    </tr>\n",
       "    <tr>\n",
       "      <th>4</th>\n",
       "      <td>37.52</td>\n",
       "      <td>-122.30</td>\n",
       "      <td>38.0</td>\n",
       "      <td>2769.0</td>\n",
       "      <td>387.0</td>\n",
       "      <td>994.0</td>\n",
       "      <td>395.0</td>\n",
       "      <td>5.5902</td>\n",
       "      <td>NEAR OCEAN</td>\n",
       "      <td>7.010127</td>\n",
       "      <td>0.139762</td>\n",
       "      <td>2.516456</td>\n",
       "      <td>0.0</td>\n",
       "      <td>0.0</td>\n",
       "      <td>0.0</td>\n",
       "      <td>0.0</td>\n",
       "      <td>1.0</td>\n",
       "    </tr>\n",
       "    <tr>\n",
       "      <th>...</th>\n",
       "      <td>...</td>\n",
       "      <td>...</td>\n",
       "      <td>...</td>\n",
       "      <td>...</td>\n",
       "      <td>...</td>\n",
       "      <td>...</td>\n",
       "      <td>...</td>\n",
       "      <td>...</td>\n",
       "      <td>...</td>\n",
       "      <td>...</td>\n",
       "      <td>...</td>\n",
       "      <td>...</td>\n",
       "      <td>...</td>\n",
       "      <td>...</td>\n",
       "      <td>...</td>\n",
       "      <td>...</td>\n",
       "      <td>...</td>\n",
       "    </tr>\n",
       "    <tr>\n",
       "      <th>12379</th>\n",
       "      <td>33.79</td>\n",
       "      <td>-118.29</td>\n",
       "      <td>16.0</td>\n",
       "      <td>1867.0</td>\n",
       "      <td>571.0</td>\n",
       "      <td>951.0</td>\n",
       "      <td>498.0</td>\n",
       "      <td>3.3427</td>\n",
       "      <td>&lt;1H OCEAN</td>\n",
       "      <td>3.748996</td>\n",
       "      <td>0.305838</td>\n",
       "      <td>1.909639</td>\n",
       "      <td>1.0</td>\n",
       "      <td>0.0</td>\n",
       "      <td>0.0</td>\n",
       "      <td>0.0</td>\n",
       "      <td>0.0</td>\n",
       "    </tr>\n",
       "    <tr>\n",
       "      <th>12380</th>\n",
       "      <td>38.04</td>\n",
       "      <td>-121.34</td>\n",
       "      <td>16.0</td>\n",
       "      <td>3295.0</td>\n",
       "      <td>565.0</td>\n",
       "      <td>2279.0</td>\n",
       "      <td>576.0</td>\n",
       "      <td>3.6083</td>\n",
       "      <td>INLAND</td>\n",
       "      <td>5.720486</td>\n",
       "      <td>0.171472</td>\n",
       "      <td>3.956597</td>\n",
       "      <td>0.0</td>\n",
       "      <td>1.0</td>\n",
       "      <td>0.0</td>\n",
       "      <td>0.0</td>\n",
       "      <td>0.0</td>\n",
       "    </tr>\n",
       "    <tr>\n",
       "      <th>12381</th>\n",
       "      <td>32.74</td>\n",
       "      <td>-116.99</td>\n",
       "      <td>18.0</td>\n",
       "      <td>3341.0</td>\n",
       "      <td>611.0</td>\n",
       "      <td>1952.0</td>\n",
       "      <td>602.0</td>\n",
       "      <td>3.9844</td>\n",
       "      <td>&lt;1H OCEAN</td>\n",
       "      <td>5.549834</td>\n",
       "      <td>0.182879</td>\n",
       "      <td>3.242525</td>\n",
       "      <td>1.0</td>\n",
       "      <td>0.0</td>\n",
       "      <td>0.0</td>\n",
       "      <td>0.0</td>\n",
       "      <td>0.0</td>\n",
       "    </tr>\n",
       "    <tr>\n",
       "      <th>12382</th>\n",
       "      <td>33.84</td>\n",
       "      <td>-117.87</td>\n",
       "      <td>16.0</td>\n",
       "      <td>1545.0</td>\n",
       "      <td>354.0</td>\n",
       "      <td>730.0</td>\n",
       "      <td>350.0</td>\n",
       "      <td>4.5112</td>\n",
       "      <td>&lt;1H OCEAN</td>\n",
       "      <td>4.414286</td>\n",
       "      <td>0.229126</td>\n",
       "      <td>2.085714</td>\n",
       "      <td>1.0</td>\n",
       "      <td>0.0</td>\n",
       "      <td>0.0</td>\n",
       "      <td>0.0</td>\n",
       "      <td>0.0</td>\n",
       "    </tr>\n",
       "    <tr>\n",
       "      <th>12383</th>\n",
       "      <td>33.91</td>\n",
       "      <td>-118.32</td>\n",
       "      <td>35.0</td>\n",
       "      <td>940.0</td>\n",
       "      <td>197.0</td>\n",
       "      <td>640.0</td>\n",
       "      <td>215.0</td>\n",
       "      <td>4.2000</td>\n",
       "      <td>&lt;1H OCEAN</td>\n",
       "      <td>4.372093</td>\n",
       "      <td>0.209574</td>\n",
       "      <td>2.976744</td>\n",
       "      <td>1.0</td>\n",
       "      <td>0.0</td>\n",
       "      <td>0.0</td>\n",
       "      <td>0.0</td>\n",
       "      <td>0.0</td>\n",
       "    </tr>\n",
       "  </tbody>\n",
       "</table>\n",
       "<p>12384 rows × 17 columns</p>\n",
       "</div>"
      ],
      "text/plain": [
       "       latitude  longitude  housing_median_age  total_rooms  total_bedrooms  \\\n",
       "0         34.43    -119.67                39.0       1467.0           381.0   \n",
       "1         33.74    -118.32                24.0       6097.0           794.0   \n",
       "2         39.13    -121.62                41.0       1317.0           309.0   \n",
       "3         34.24    -118.63                 9.0       4759.0           924.0   \n",
       "4         37.52    -122.30                38.0       2769.0           387.0   \n",
       "...         ...        ...                 ...          ...             ...   \n",
       "12379     33.79    -118.29                16.0       1867.0           571.0   \n",
       "12380     38.04    -121.34                16.0       3295.0           565.0   \n",
       "12381     32.74    -116.99                18.0       3341.0           611.0   \n",
       "12382     33.84    -117.87                16.0       1545.0           354.0   \n",
       "12383     33.91    -118.32                35.0        940.0           197.0   \n",
       "\n",
       "       population  households  median_income ocean_proximity  \\\n",
       "0          1404.0       374.0         2.3681       <1H OCEAN   \n",
       "1          2248.0       806.0        10.1357      NEAR OCEAN   \n",
       "2           856.0       337.0         1.6719          INLAND   \n",
       "3          1884.0       915.0         4.8333       <1H OCEAN   \n",
       "4           994.0       395.0         5.5902      NEAR OCEAN   \n",
       "...           ...         ...            ...             ...   \n",
       "12379       951.0       498.0         3.3427       <1H OCEAN   \n",
       "12380      2279.0       576.0         3.6083          INLAND   \n",
       "12381      1952.0       602.0         3.9844       <1H OCEAN   \n",
       "12382       730.0       350.0         4.5112       <1H OCEAN   \n",
       "12383       640.0       215.0         4.2000       <1H OCEAN   \n",
       "\n",
       "       rooms_per_household  bedrooms_per_room  population_per_household  \\\n",
       "0                 3.922460           0.259714                  3.754011   \n",
       "1                 7.564516           0.130228                  2.789082   \n",
       "2                 3.908012           0.234624                  2.540059   \n",
       "3                 5.201093           0.194158                  2.059016   \n",
       "4                 7.010127           0.139762                  2.516456   \n",
       "...                    ...                ...                       ...   \n",
       "12379             3.748996           0.305838                  1.909639   \n",
       "12380             5.720486           0.171472                  3.956597   \n",
       "12381             5.549834           0.182879                  3.242525   \n",
       "12382             4.414286           0.229126                  2.085714   \n",
       "12383             4.372093           0.209574                  2.976744   \n",
       "\n",
       "       ocean_prox_<1H OCEAN  ocean_prox_INLAND  ocean_prox_ISLAND  \\\n",
       "0                       1.0                0.0                0.0   \n",
       "1                       0.0                0.0                0.0   \n",
       "2                       0.0                1.0                0.0   \n",
       "3                       1.0                0.0                0.0   \n",
       "4                       0.0                0.0                0.0   \n",
       "...                     ...                ...                ...   \n",
       "12379                   1.0                0.0                0.0   \n",
       "12380                   0.0                1.0                0.0   \n",
       "12381                   1.0                0.0                0.0   \n",
       "12382                   1.0                0.0                0.0   \n",
       "12383                   1.0                0.0                0.0   \n",
       "\n",
       "       ocean_prox_NEAR BAY  ocean_prox_NEAR OCEAN  \n",
       "0                      0.0                    0.0  \n",
       "1                      0.0                    1.0  \n",
       "2                      0.0                    0.0  \n",
       "3                      0.0                    0.0  \n",
       "4                      0.0                    1.0  \n",
       "...                    ...                    ...  \n",
       "12379                  0.0                    0.0  \n",
       "12380                  0.0                    0.0  \n",
       "12381                  0.0                    0.0  \n",
       "12382                  0.0                    0.0  \n",
       "12383                  0.0                    0.0  \n",
       "\n",
       "[12384 rows x 17 columns]"
      ]
     },
     "execution_count": 433,
     "metadata": {},
     "output_type": "execute_result"
    }
   ],
   "source": [
    "df_train_2"
   ]
  },
  {
   "cell_type": "code",
   "execution_count": 434,
   "id": "52406a7f",
   "metadata": {},
   "outputs": [],
   "source": [
    "del df_train_2['ocean_proximity']"
   ]
  },
  {
   "cell_type": "code",
   "execution_count": 435,
   "id": "0ac56720",
   "metadata": {},
   "outputs": [
    {
     "data": {
      "text/html": [
       "<div>\n",
       "<style scoped>\n",
       "    .dataframe tbody tr th:only-of-type {\n",
       "        vertical-align: middle;\n",
       "    }\n",
       "\n",
       "    .dataframe tbody tr th {\n",
       "        vertical-align: top;\n",
       "    }\n",
       "\n",
       "    .dataframe thead th {\n",
       "        text-align: right;\n",
       "    }\n",
       "</style>\n",
       "<table border=\"1\" class=\"dataframe\">\n",
       "  <thead>\n",
       "    <tr style=\"text-align: right;\">\n",
       "      <th></th>\n",
       "      <th>latitude</th>\n",
       "      <th>longitude</th>\n",
       "      <th>housing_median_age</th>\n",
       "      <th>total_rooms</th>\n",
       "      <th>total_bedrooms</th>\n",
       "      <th>population</th>\n",
       "      <th>households</th>\n",
       "      <th>median_income</th>\n",
       "      <th>rooms_per_household</th>\n",
       "      <th>bedrooms_per_room</th>\n",
       "      <th>population_per_household</th>\n",
       "      <th>ocean_prox_&lt;1H OCEAN</th>\n",
       "      <th>ocean_prox_INLAND</th>\n",
       "      <th>ocean_prox_ISLAND</th>\n",
       "      <th>ocean_prox_NEAR BAY</th>\n",
       "      <th>ocean_prox_NEAR OCEAN</th>\n",
       "    </tr>\n",
       "  </thead>\n",
       "  <tbody>\n",
       "    <tr>\n",
       "      <th>0</th>\n",
       "      <td>34.43</td>\n",
       "      <td>-119.67</td>\n",
       "      <td>39.0</td>\n",
       "      <td>1467.0</td>\n",
       "      <td>381.0</td>\n",
       "      <td>1404.0</td>\n",
       "      <td>374.0</td>\n",
       "      <td>2.3681</td>\n",
       "      <td>3.922460</td>\n",
       "      <td>0.259714</td>\n",
       "      <td>3.754011</td>\n",
       "      <td>1.0</td>\n",
       "      <td>0.0</td>\n",
       "      <td>0.0</td>\n",
       "      <td>0.0</td>\n",
       "      <td>0.0</td>\n",
       "    </tr>\n",
       "    <tr>\n",
       "      <th>1</th>\n",
       "      <td>33.74</td>\n",
       "      <td>-118.32</td>\n",
       "      <td>24.0</td>\n",
       "      <td>6097.0</td>\n",
       "      <td>794.0</td>\n",
       "      <td>2248.0</td>\n",
       "      <td>806.0</td>\n",
       "      <td>10.1357</td>\n",
       "      <td>7.564516</td>\n",
       "      <td>0.130228</td>\n",
       "      <td>2.789082</td>\n",
       "      <td>0.0</td>\n",
       "      <td>0.0</td>\n",
       "      <td>0.0</td>\n",
       "      <td>0.0</td>\n",
       "      <td>1.0</td>\n",
       "    </tr>\n",
       "    <tr>\n",
       "      <th>2</th>\n",
       "      <td>39.13</td>\n",
       "      <td>-121.62</td>\n",
       "      <td>41.0</td>\n",
       "      <td>1317.0</td>\n",
       "      <td>309.0</td>\n",
       "      <td>856.0</td>\n",
       "      <td>337.0</td>\n",
       "      <td>1.6719</td>\n",
       "      <td>3.908012</td>\n",
       "      <td>0.234624</td>\n",
       "      <td>2.540059</td>\n",
       "      <td>0.0</td>\n",
       "      <td>1.0</td>\n",
       "      <td>0.0</td>\n",
       "      <td>0.0</td>\n",
       "      <td>0.0</td>\n",
       "    </tr>\n",
       "    <tr>\n",
       "      <th>3</th>\n",
       "      <td>34.24</td>\n",
       "      <td>-118.63</td>\n",
       "      <td>9.0</td>\n",
       "      <td>4759.0</td>\n",
       "      <td>924.0</td>\n",
       "      <td>1884.0</td>\n",
       "      <td>915.0</td>\n",
       "      <td>4.8333</td>\n",
       "      <td>5.201093</td>\n",
       "      <td>0.194158</td>\n",
       "      <td>2.059016</td>\n",
       "      <td>1.0</td>\n",
       "      <td>0.0</td>\n",
       "      <td>0.0</td>\n",
       "      <td>0.0</td>\n",
       "      <td>0.0</td>\n",
       "    </tr>\n",
       "    <tr>\n",
       "      <th>4</th>\n",
       "      <td>37.52</td>\n",
       "      <td>-122.30</td>\n",
       "      <td>38.0</td>\n",
       "      <td>2769.0</td>\n",
       "      <td>387.0</td>\n",
       "      <td>994.0</td>\n",
       "      <td>395.0</td>\n",
       "      <td>5.5902</td>\n",
       "      <td>7.010127</td>\n",
       "      <td>0.139762</td>\n",
       "      <td>2.516456</td>\n",
       "      <td>0.0</td>\n",
       "      <td>0.0</td>\n",
       "      <td>0.0</td>\n",
       "      <td>0.0</td>\n",
       "      <td>1.0</td>\n",
       "    </tr>\n",
       "    <tr>\n",
       "      <th>...</th>\n",
       "      <td>...</td>\n",
       "      <td>...</td>\n",
       "      <td>...</td>\n",
       "      <td>...</td>\n",
       "      <td>...</td>\n",
       "      <td>...</td>\n",
       "      <td>...</td>\n",
       "      <td>...</td>\n",
       "      <td>...</td>\n",
       "      <td>...</td>\n",
       "      <td>...</td>\n",
       "      <td>...</td>\n",
       "      <td>...</td>\n",
       "      <td>...</td>\n",
       "      <td>...</td>\n",
       "      <td>...</td>\n",
       "    </tr>\n",
       "    <tr>\n",
       "      <th>12379</th>\n",
       "      <td>33.79</td>\n",
       "      <td>-118.29</td>\n",
       "      <td>16.0</td>\n",
       "      <td>1867.0</td>\n",
       "      <td>571.0</td>\n",
       "      <td>951.0</td>\n",
       "      <td>498.0</td>\n",
       "      <td>3.3427</td>\n",
       "      <td>3.748996</td>\n",
       "      <td>0.305838</td>\n",
       "      <td>1.909639</td>\n",
       "      <td>1.0</td>\n",
       "      <td>0.0</td>\n",
       "      <td>0.0</td>\n",
       "      <td>0.0</td>\n",
       "      <td>0.0</td>\n",
       "    </tr>\n",
       "    <tr>\n",
       "      <th>12380</th>\n",
       "      <td>38.04</td>\n",
       "      <td>-121.34</td>\n",
       "      <td>16.0</td>\n",
       "      <td>3295.0</td>\n",
       "      <td>565.0</td>\n",
       "      <td>2279.0</td>\n",
       "      <td>576.0</td>\n",
       "      <td>3.6083</td>\n",
       "      <td>5.720486</td>\n",
       "      <td>0.171472</td>\n",
       "      <td>3.956597</td>\n",
       "      <td>0.0</td>\n",
       "      <td>1.0</td>\n",
       "      <td>0.0</td>\n",
       "      <td>0.0</td>\n",
       "      <td>0.0</td>\n",
       "    </tr>\n",
       "    <tr>\n",
       "      <th>12381</th>\n",
       "      <td>32.74</td>\n",
       "      <td>-116.99</td>\n",
       "      <td>18.0</td>\n",
       "      <td>3341.0</td>\n",
       "      <td>611.0</td>\n",
       "      <td>1952.0</td>\n",
       "      <td>602.0</td>\n",
       "      <td>3.9844</td>\n",
       "      <td>5.549834</td>\n",
       "      <td>0.182879</td>\n",
       "      <td>3.242525</td>\n",
       "      <td>1.0</td>\n",
       "      <td>0.0</td>\n",
       "      <td>0.0</td>\n",
       "      <td>0.0</td>\n",
       "      <td>0.0</td>\n",
       "    </tr>\n",
       "    <tr>\n",
       "      <th>12382</th>\n",
       "      <td>33.84</td>\n",
       "      <td>-117.87</td>\n",
       "      <td>16.0</td>\n",
       "      <td>1545.0</td>\n",
       "      <td>354.0</td>\n",
       "      <td>730.0</td>\n",
       "      <td>350.0</td>\n",
       "      <td>4.5112</td>\n",
       "      <td>4.414286</td>\n",
       "      <td>0.229126</td>\n",
       "      <td>2.085714</td>\n",
       "      <td>1.0</td>\n",
       "      <td>0.0</td>\n",
       "      <td>0.0</td>\n",
       "      <td>0.0</td>\n",
       "      <td>0.0</td>\n",
       "    </tr>\n",
       "    <tr>\n",
       "      <th>12383</th>\n",
       "      <td>33.91</td>\n",
       "      <td>-118.32</td>\n",
       "      <td>35.0</td>\n",
       "      <td>940.0</td>\n",
       "      <td>197.0</td>\n",
       "      <td>640.0</td>\n",
       "      <td>215.0</td>\n",
       "      <td>4.2000</td>\n",
       "      <td>4.372093</td>\n",
       "      <td>0.209574</td>\n",
       "      <td>2.976744</td>\n",
       "      <td>1.0</td>\n",
       "      <td>0.0</td>\n",
       "      <td>0.0</td>\n",
       "      <td>0.0</td>\n",
       "      <td>0.0</td>\n",
       "    </tr>\n",
       "  </tbody>\n",
       "</table>\n",
       "<p>12384 rows × 16 columns</p>\n",
       "</div>"
      ],
      "text/plain": [
       "       latitude  longitude  housing_median_age  total_rooms  total_bedrooms  \\\n",
       "0         34.43    -119.67                39.0       1467.0           381.0   \n",
       "1         33.74    -118.32                24.0       6097.0           794.0   \n",
       "2         39.13    -121.62                41.0       1317.0           309.0   \n",
       "3         34.24    -118.63                 9.0       4759.0           924.0   \n",
       "4         37.52    -122.30                38.0       2769.0           387.0   \n",
       "...         ...        ...                 ...          ...             ...   \n",
       "12379     33.79    -118.29                16.0       1867.0           571.0   \n",
       "12380     38.04    -121.34                16.0       3295.0           565.0   \n",
       "12381     32.74    -116.99                18.0       3341.0           611.0   \n",
       "12382     33.84    -117.87                16.0       1545.0           354.0   \n",
       "12383     33.91    -118.32                35.0        940.0           197.0   \n",
       "\n",
       "       population  households  median_income  rooms_per_household  \\\n",
       "0          1404.0       374.0         2.3681             3.922460   \n",
       "1          2248.0       806.0        10.1357             7.564516   \n",
       "2           856.0       337.0         1.6719             3.908012   \n",
       "3          1884.0       915.0         4.8333             5.201093   \n",
       "4           994.0       395.0         5.5902             7.010127   \n",
       "...           ...         ...            ...                  ...   \n",
       "12379       951.0       498.0         3.3427             3.748996   \n",
       "12380      2279.0       576.0         3.6083             5.720486   \n",
       "12381      1952.0       602.0         3.9844             5.549834   \n",
       "12382       730.0       350.0         4.5112             4.414286   \n",
       "12383       640.0       215.0         4.2000             4.372093   \n",
       "\n",
       "       bedrooms_per_room  population_per_household  ocean_prox_<1H OCEAN  \\\n",
       "0               0.259714                  3.754011                   1.0   \n",
       "1               0.130228                  2.789082                   0.0   \n",
       "2               0.234624                  2.540059                   0.0   \n",
       "3               0.194158                  2.059016                   1.0   \n",
       "4               0.139762                  2.516456                   0.0   \n",
       "...                  ...                       ...                   ...   \n",
       "12379           0.305838                  1.909639                   1.0   \n",
       "12380           0.171472                  3.956597                   0.0   \n",
       "12381           0.182879                  3.242525                   1.0   \n",
       "12382           0.229126                  2.085714                   1.0   \n",
       "12383           0.209574                  2.976744                   1.0   \n",
       "\n",
       "       ocean_prox_INLAND  ocean_prox_ISLAND  ocean_prox_NEAR BAY  \\\n",
       "0                    0.0                0.0                  0.0   \n",
       "1                    0.0                0.0                  0.0   \n",
       "2                    1.0                0.0                  0.0   \n",
       "3                    0.0                0.0                  0.0   \n",
       "4                    0.0                0.0                  0.0   \n",
       "...                  ...                ...                  ...   \n",
       "12379                0.0                0.0                  0.0   \n",
       "12380                1.0                0.0                  0.0   \n",
       "12381                0.0                0.0                  0.0   \n",
       "12382                0.0                0.0                  0.0   \n",
       "12383                0.0                0.0                  0.0   \n",
       "\n",
       "       ocean_prox_NEAR OCEAN  \n",
       "0                        0.0  \n",
       "1                        1.0  \n",
       "2                        0.0  \n",
       "3                        0.0  \n",
       "4                        1.0  \n",
       "...                      ...  \n",
       "12379                    0.0  \n",
       "12380                    0.0  \n",
       "12381                    0.0  \n",
       "12382                    0.0  \n",
       "12383                    0.0  \n",
       "\n",
       "[12384 rows x 16 columns]"
      ]
     },
     "execution_count": 435,
     "metadata": {},
     "output_type": "execute_result"
    }
   ],
   "source": [
    "df_train_2"
   ]
  },
  {
   "cell_type": "code",
   "execution_count": 436,
   "id": "1fb286b3",
   "metadata": {
    "scrolled": false
   },
   "outputs": [
    {
     "name": "stdout",
     "output_type": "stream",
     "text": [
      "<class 'pandas.core.frame.DataFrame'>\n",
      "RangeIndex: 12384 entries, 0 to 12383\n",
      "Data columns (total 16 columns):\n",
      " #   Column                    Non-Null Count  Dtype  \n",
      "---  ------                    --------------  -----  \n",
      " 0   latitude                  12384 non-null  float64\n",
      " 1   longitude                 12384 non-null  float64\n",
      " 2   housing_median_age        12384 non-null  float64\n",
      " 3   total_rooms               12384 non-null  float64\n",
      " 4   total_bedrooms            12384 non-null  float64\n",
      " 5   population                12384 non-null  float64\n",
      " 6   households                12384 non-null  float64\n",
      " 7   median_income             12384 non-null  float64\n",
      " 8   rooms_per_household       12384 non-null  float64\n",
      " 9   bedrooms_per_room         12384 non-null  float64\n",
      " 10  population_per_household  12384 non-null  float64\n",
      " 11  ocean_prox_<1H OCEAN      12384 non-null  float64\n",
      " 12  ocean_prox_INLAND         12384 non-null  float64\n",
      " 13  ocean_prox_ISLAND         12384 non-null  float64\n",
      " 14  ocean_prox_NEAR BAY       12384 non-null  float64\n",
      " 15  ocean_prox_NEAR OCEAN     12384 non-null  float64\n",
      "dtypes: float64(16)\n",
      "memory usage: 1.5 MB\n"
     ]
    }
   ],
   "source": [
    "df_train_2.info()"
   ]
  },
  {
   "cell_type": "code",
   "execution_count": 437,
   "id": "4fcdd0bb",
   "metadata": {},
   "outputs": [],
   "source": [
    "model = LogisticRegression(solver=\"liblinear\", C=1.0, max_iter=1000, random_state=42)"
   ]
  },
  {
   "cell_type": "code",
   "execution_count": 438,
   "id": "704a9382",
   "metadata": {},
   "outputs": [
    {
     "data": {
      "text/html": [
       "<style>#sk-container-id-13 {color: black;background-color: white;}#sk-container-id-13 pre{padding: 0;}#sk-container-id-13 div.sk-toggleable {background-color: white;}#sk-container-id-13 label.sk-toggleable__label {cursor: pointer;display: block;width: 100%;margin-bottom: 0;padding: 0.3em;box-sizing: border-box;text-align: center;}#sk-container-id-13 label.sk-toggleable__label-arrow:before {content: \"▸\";float: left;margin-right: 0.25em;color: #696969;}#sk-container-id-13 label.sk-toggleable__label-arrow:hover:before {color: black;}#sk-container-id-13 div.sk-estimator:hover label.sk-toggleable__label-arrow:before {color: black;}#sk-container-id-13 div.sk-toggleable__content {max-height: 0;max-width: 0;overflow: hidden;text-align: left;background-color: #f0f8ff;}#sk-container-id-13 div.sk-toggleable__content pre {margin: 0.2em;color: black;border-radius: 0.25em;background-color: #f0f8ff;}#sk-container-id-13 input.sk-toggleable__control:checked~div.sk-toggleable__content {max-height: 200px;max-width: 100%;overflow: auto;}#sk-container-id-13 input.sk-toggleable__control:checked~label.sk-toggleable__label-arrow:before {content: \"▾\";}#sk-container-id-13 div.sk-estimator input.sk-toggleable__control:checked~label.sk-toggleable__label {background-color: #d4ebff;}#sk-container-id-13 div.sk-label input.sk-toggleable__control:checked~label.sk-toggleable__label {background-color: #d4ebff;}#sk-container-id-13 input.sk-hidden--visually {border: 0;clip: rect(1px 1px 1px 1px);clip: rect(1px, 1px, 1px, 1px);height: 1px;margin: -1px;overflow: hidden;padding: 0;position: absolute;width: 1px;}#sk-container-id-13 div.sk-estimator {font-family: monospace;background-color: #f0f8ff;border: 1px dotted black;border-radius: 0.25em;box-sizing: border-box;margin-bottom: 0.5em;}#sk-container-id-13 div.sk-estimator:hover {background-color: #d4ebff;}#sk-container-id-13 div.sk-parallel-item::after {content: \"\";width: 100%;border-bottom: 1px solid gray;flex-grow: 1;}#sk-container-id-13 div.sk-label:hover label.sk-toggleable__label {background-color: #d4ebff;}#sk-container-id-13 div.sk-serial::before {content: \"\";position: absolute;border-left: 1px solid gray;box-sizing: border-box;top: 0;bottom: 0;left: 50%;z-index: 0;}#sk-container-id-13 div.sk-serial {display: flex;flex-direction: column;align-items: center;background-color: white;padding-right: 0.2em;padding-left: 0.2em;position: relative;}#sk-container-id-13 div.sk-item {position: relative;z-index: 1;}#sk-container-id-13 div.sk-parallel {display: flex;align-items: stretch;justify-content: center;background-color: white;position: relative;}#sk-container-id-13 div.sk-item::before, #sk-container-id-13 div.sk-parallel-item::before {content: \"\";position: absolute;border-left: 1px solid gray;box-sizing: border-box;top: 0;bottom: 0;left: 50%;z-index: -1;}#sk-container-id-13 div.sk-parallel-item {display: flex;flex-direction: column;z-index: 1;position: relative;background-color: white;}#sk-container-id-13 div.sk-parallel-item:first-child::after {align-self: flex-end;width: 50%;}#sk-container-id-13 div.sk-parallel-item:last-child::after {align-self: flex-start;width: 50%;}#sk-container-id-13 div.sk-parallel-item:only-child::after {width: 0;}#sk-container-id-13 div.sk-dashed-wrapped {border: 1px dashed gray;margin: 0 0.4em 0.5em 0.4em;box-sizing: border-box;padding-bottom: 0.4em;background-color: white;}#sk-container-id-13 div.sk-label label {font-family: monospace;font-weight: bold;display: inline-block;line-height: 1.2em;}#sk-container-id-13 div.sk-label-container {text-align: center;}#sk-container-id-13 div.sk-container {/* jupyter's `normalize.less` sets `[hidden] { display: none; }` but bootstrap.min.css set `[hidden] { display: none !important; }` so we also need the `!important` here to be able to override the default hidden behavior on the sphinx rendered scikit-learn.org. See: https://github.com/scikit-learn/scikit-learn/issues/21755 */display: inline-block !important;position: relative;}#sk-container-id-13 div.sk-text-repr-fallback {display: none;}</style><div id=\"sk-container-id-13\" class=\"sk-top-container\"><div class=\"sk-text-repr-fallback\"><pre>LogisticRegression(max_iter=1000, random_state=42, solver=&#x27;liblinear&#x27;)</pre><b>In a Jupyter environment, please rerun this cell to show the HTML representation or trust the notebook. <br />On GitHub, the HTML representation is unable to render, please try loading this page with nbviewer.org.</b></div><div class=\"sk-container\" hidden><div class=\"sk-item\"><div class=\"sk-estimator sk-toggleable\"><input class=\"sk-toggleable__control sk-hidden--visually\" id=\"sk-estimator-id-13\" type=\"checkbox\" checked><label for=\"sk-estimator-id-13\" class=\"sk-toggleable__label sk-toggleable__label-arrow\">LogisticRegression</label><div class=\"sk-toggleable__content\"><pre>LogisticRegression(max_iter=1000, random_state=42, solver=&#x27;liblinear&#x27;)</pre></div></div></div></div></div>"
      ],
      "text/plain": [
       "LogisticRegression(max_iter=1000, random_state=42, solver='liblinear')"
      ]
     },
     "execution_count": 438,
     "metadata": {},
     "output_type": "execute_result"
    }
   ],
   "source": [
    "model.fit(df_train_2, above_average)"
   ]
  },
  {
   "cell_type": "code",
   "execution_count": 439,
   "id": "e3d70e6d",
   "metadata": {},
   "outputs": [
    {
     "name": "stdout",
     "output_type": "stream",
     "text": [
      "<class 'pandas.core.frame.DataFrame'>\n",
      "RangeIndex: 4128 entries, 0 to 4127\n",
      "Data columns (total 16 columns):\n",
      " #   Column                    Non-Null Count  Dtype  \n",
      "---  ------                    --------------  -----  \n",
      " 0   latitude                  4128 non-null   float64\n",
      " 1   longitude                 4128 non-null   float64\n",
      " 2   housing_median_age        4128 non-null   float64\n",
      " 3   total_rooms               4128 non-null   float64\n",
      " 4   total_bedrooms            4128 non-null   float64\n",
      " 5   population                4128 non-null   float64\n",
      " 6   households                4128 non-null   float64\n",
      " 7   median_income             4128 non-null   float64\n",
      " 8   rooms_per_household       4128 non-null   float64\n",
      " 9   bedrooms_per_room         4128 non-null   float64\n",
      " 10  population_per_household  4128 non-null   float64\n",
      " 11  ocean_prox_<1H OCEAN      4128 non-null   float64\n",
      " 12  ocean_prox_INLAND         4128 non-null   float64\n",
      " 13  ocean_prox_ISLAND         4128 non-null   float64\n",
      " 14  ocean_prox_NEAR BAY       4128 non-null   float64\n",
      " 15  ocean_prox_NEAR OCEAN     4128 non-null   float64\n",
      "dtypes: float64(16)\n",
      "memory usage: 516.1 KB\n"
     ]
    }
   ],
   "source": [
    "#append new one hot variable & drop categorical\n",
    "df_val_2 = df_val.copy()\n",
    "df_val_2.reset_index(drop=True, inplace=True)\n",
    "df_val_2 = pd.concat([df_val_2, pd.DataFrame(onehot_val)], axis=1)\n",
    "df_val_2.rename(columns = {0:'ocean_prox_<1H OCEAN',\n",
    "                             1:'ocean_prox_INLAND',\n",
    "                             2:'ocean_prox_ISLAND',\n",
    "                             3:'ocean_prox_NEAR BAY',\n",
    "                             4:'ocean_prox_NEAR OCEAN'}\n",
    "                 ,inplace=True)\n",
    "del df_val_2['ocean_proximity']"
   ]
  },
  {
   "cell_type": "code",
   "execution_count": 440,
   "id": "dea7bc66",
   "metadata": {},
   "outputs": [
    {
     "data": {
      "text/plain": [
       "array([[0.91655769, 0.08344231],\n",
       "       [0.83631369, 0.16368631],\n",
       "       [0.04708025, 0.95291975],\n",
       "       ...,\n",
       "       [0.03952316, 0.96047684],\n",
       "       [0.14850058, 0.85149942],\n",
       "       [0.53130533, 0.46869467]])"
      ]
     },
     "execution_count": 440,
     "metadata": {},
     "output_type": "execute_result"
    }
   ],
   "source": [
    "model.predict_proba(df_val_2)"
   ]
  },
  {
   "cell_type": "code",
   "execution_count": 441,
   "id": "e6d07d09",
   "metadata": {},
   "outputs": [],
   "source": [
    "y_pred = model.predict_proba(df_val_2)[:, 1]"
   ]
  },
  {
   "cell_type": "code",
   "execution_count": 442,
   "id": "5c38ee41",
   "metadata": {
    "scrolled": false
   },
   "outputs": [
    {
     "data": {
      "text/plain": [
       "array([0.08344231, 0.16368631, 0.95291975, ..., 0.96047684, 0.85149942, 0.46869467])"
      ]
     },
     "execution_count": 442,
     "metadata": {},
     "output_type": "execute_result"
    }
   ],
   "source": [
    "y_pred"
   ]
  },
  {
   "cell_type": "code",
   "execution_count": 444,
   "id": "cd500a13",
   "metadata": {},
   "outputs": [],
   "source": [
    "above_val = y_pred > 0.5"
   ]
  },
  {
   "cell_type": "code",
   "execution_count": 448,
   "id": "f2a7cd86",
   "metadata": {},
   "outputs": [
    {
     "data": {
      "text/plain": [
       "0.8357558139534884"
      ]
     },
     "execution_count": 448,
     "metadata": {},
     "output_type": "execute_result"
    }
   ],
   "source": [
    "(above_average_val == above_val).mean()\n",
    "\n",
    "#results short method 0.8359980620155039\n",
    "#results long method  0.8357558139534884"
   ]
  },
  {
   "cell_type": "markdown",
   "id": "dab27e0f",
   "metadata": {},
   "source": [
    "### Question 5 \n",
    "\n",
    "* Let's find the least useful feature using the *feature elimination* technique.\n",
    "* Train a model with all these features (using the same parameters as in Q4).\n",
    "* Now exclude each feature from this set and train a model without it. Record the accuracy for each model.\n",
    "* For each feature, calculate the difference between the original accuracy and the accuracy without the feature. \n",
    "* Which of following feature has the smallest difference? \n",
    "   * `total_rooms`\n",
    "   * `total_bedrooms` \n",
    "   * `population`\n",
    "   * `households`\n",
    "\n",
    "**note**: the difference doesn't have to be positive\n",
    "    \n",
    "> ANSWER  \n",
    "  `total_room`"
   ]
  },
  {
   "cell_type": "code",
   "execution_count": 485,
   "id": "4ba5459f",
   "metadata": {},
   "outputs": [
    {
     "data": {
      "text/plain": [
       "['latitude',\n",
       " 'longitude',\n",
       " 'housing_median_age',\n",
       " 'total_rooms',\n",
       " 'total_bedrooms',\n",
       " 'population',\n",
       " 'households',\n",
       " 'median_income',\n",
       " 'ocean_proximity',\n",
       " 'rooms_per_household',\n",
       " 'bedrooms_per_room',\n",
       " 'population_per_household']"
      ]
     },
     "execution_count": 485,
     "metadata": {},
     "output_type": "execute_result"
    }
   ],
   "source": [
    "list(df_train)"
   ]
  },
  {
   "cell_type": "code",
   "execution_count": 490,
   "id": "7814a3b6",
   "metadata": {
    "scrolled": false
   },
   "outputs": [
    {
     "data": {
      "text/plain": [
       "(12384, 16)"
      ]
     },
     "execution_count": 490,
     "metadata": {},
     "output_type": "execute_result"
    }
   ],
   "source": [
    "df_train_2.shape"
   ]
  },
  {
   "cell_type": "code",
   "execution_count": 492,
   "id": "b4b01ca6",
   "metadata": {},
   "outputs": [
    {
     "data": {
      "text/plain": [
       "['latitude',\n",
       " 'longitude',\n",
       " 'housing_median_age',\n",
       " 'total_rooms',\n",
       " 'total_bedrooms',\n",
       " 'population',\n",
       " 'households',\n",
       " 'median_income',\n",
       " 'rooms_per_household',\n",
       " 'bedrooms_per_room',\n",
       " 'population_per_household',\n",
       " 'ocean_prox_<1H OCEAN',\n",
       " 'ocean_prox_INLAND',\n",
       " 'ocean_prox_ISLAND',\n",
       " 'ocean_prox_NEAR BAY',\n",
       " 'ocean_prox_NEAR OCEAN']"
      ]
     },
     "execution_count": 492,
     "metadata": {},
     "output_type": "execute_result"
    }
   ],
   "source": [
    "list(df_train_2)"
   ]
  },
  {
   "cell_type": "code",
   "execution_count": 491,
   "id": "047e6c9a",
   "metadata": {
    "scrolled": true
   },
   "outputs": [
    {
     "data": {
      "text/plain": [
       "(4128, 16)"
      ]
     },
     "execution_count": 491,
     "metadata": {},
     "output_type": "execute_result"
    }
   ],
   "source": [
    "df_val_2.shape"
   ]
  },
  {
   "cell_type": "code",
   "execution_count": 493,
   "id": "1d3c400e",
   "metadata": {},
   "outputs": [
    {
     "data": {
      "text/plain": [
       "['latitude',\n",
       " 'longitude',\n",
       " 'housing_median_age',\n",
       " 'total_rooms',\n",
       " 'total_bedrooms',\n",
       " 'population',\n",
       " 'households',\n",
       " 'median_income',\n",
       " 'rooms_per_household',\n",
       " 'bedrooms_per_room',\n",
       " 'population_per_household',\n",
       " 'ocean_prox_<1H OCEAN',\n",
       " 'ocean_prox_INLAND',\n",
       " 'ocean_prox_ISLAND',\n",
       " 'ocean_prox_NEAR BAY',\n",
       " 'ocean_prox_NEAR OCEAN']"
      ]
     },
     "execution_count": 493,
     "metadata": {},
     "output_type": "execute_result"
    }
   ],
   "source": [
    "list(df_val_2)"
   ]
  },
  {
   "cell_type": "code",
   "execution_count": 496,
   "id": "27b46175",
   "metadata": {
    "scrolled": true
   },
   "outputs": [
    {
     "name": "stderr",
     "output_type": "stream",
     "text": [
      "D:\\Users\\Test\\anaconda3\\envs\\ml-zoomcamp\\lib\\site-packages\\sklearn\\base.py:443: UserWarning: X has feature names, but LogisticRegression was fitted without feature names\n",
      "  warnings.warn(\n"
     ]
    },
    {
     "name": "stdout",
     "output_type": "stream",
     "text": [
      "excluding the variable latitude 0.42805232558139533\n"
     ]
    },
    {
     "name": "stderr",
     "output_type": "stream",
     "text": [
      "D:\\Users\\Test\\anaconda3\\envs\\ml-zoomcamp\\lib\\site-packages\\sklearn\\base.py:443: UserWarning: X has feature names, but LogisticRegression was fitted without feature names\n",
      "  warnings.warn(\n"
     ]
    },
    {
     "name": "stdout",
     "output_type": "stream",
     "text": [
      "excluding the variable longitude 0.4278100775193798\n"
     ]
    },
    {
     "name": "stderr",
     "output_type": "stream",
     "text": [
      "D:\\Users\\Test\\anaconda3\\envs\\ml-zoomcamp\\lib\\site-packages\\sklearn\\base.py:443: UserWarning: X has feature names, but LogisticRegression was fitted without feature names\n",
      "  warnings.warn(\n"
     ]
    },
    {
     "name": "stdout",
     "output_type": "stream",
     "text": [
      "excluding the variable housing_median_age 0.4278100775193798\n"
     ]
    },
    {
     "name": "stderr",
     "output_type": "stream",
     "text": [
      "D:\\Users\\Test\\anaconda3\\envs\\ml-zoomcamp\\lib\\site-packages\\sklearn\\base.py:443: UserWarning: X has feature names, but LogisticRegression was fitted without feature names\n",
      "  warnings.warn(\n"
     ]
    },
    {
     "name": "stdout",
     "output_type": "stream",
     "text": [
      "excluding the variable total_rooms 0.4273255813953488\n"
     ]
    },
    {
     "name": "stderr",
     "output_type": "stream",
     "text": [
      "D:\\Users\\Test\\anaconda3\\envs\\ml-zoomcamp\\lib\\site-packages\\sklearn\\base.py:443: UserWarning: X has feature names, but LogisticRegression was fitted without feature names\n",
      "  warnings.warn(\n"
     ]
    },
    {
     "name": "stdout",
     "output_type": "stream",
     "text": [
      "excluding the variable total_bedrooms 0.4278100775193798\n"
     ]
    },
    {
     "name": "stderr",
     "output_type": "stream",
     "text": [
      "D:\\Users\\Test\\anaconda3\\envs\\ml-zoomcamp\\lib\\site-packages\\sklearn\\base.py:443: UserWarning: X has feature names, but LogisticRegression was fitted without feature names\n",
      "  warnings.warn(\n"
     ]
    },
    {
     "name": "stdout",
     "output_type": "stream",
     "text": [
      "excluding the variable population 0.4275678294573643\n"
     ]
    },
    {
     "name": "stderr",
     "output_type": "stream",
     "text": [
      "D:\\Users\\Test\\anaconda3\\envs\\ml-zoomcamp\\lib\\site-packages\\sklearn\\base.py:443: UserWarning: X has feature names, but LogisticRegression was fitted without feature names\n",
      "  warnings.warn(\n"
     ]
    },
    {
     "name": "stdout",
     "output_type": "stream",
     "text": [
      "excluding the variable households 0.42805232558139533\n"
     ]
    },
    {
     "name": "stderr",
     "output_type": "stream",
     "text": [
      "D:\\Users\\Test\\anaconda3\\envs\\ml-zoomcamp\\lib\\site-packages\\sklearn\\base.py:443: UserWarning: X has feature names, but LogisticRegression was fitted without feature names\n",
      "  warnings.warn(\n"
     ]
    },
    {
     "name": "stdout",
     "output_type": "stream",
     "text": [
      "excluding the variable median_income 0.40382751937984496\n"
     ]
    },
    {
     "name": "stderr",
     "output_type": "stream",
     "text": [
      "D:\\Users\\Test\\anaconda3\\envs\\ml-zoomcamp\\lib\\site-packages\\sklearn\\base.py:443: UserWarning: X has feature names, but LogisticRegression was fitted without feature names\n",
      "  warnings.warn(\n"
     ]
    },
    {
     "name": "stdout",
     "output_type": "stream",
     "text": [
      "excluding the variable rooms_per_household 0.4278100775193798\n"
     ]
    },
    {
     "name": "stderr",
     "output_type": "stream",
     "text": [
      "D:\\Users\\Test\\anaconda3\\envs\\ml-zoomcamp\\lib\\site-packages\\sklearn\\base.py:443: UserWarning: X has feature names, but LogisticRegression was fitted without feature names\n",
      "  warnings.warn(\n"
     ]
    },
    {
     "name": "stdout",
     "output_type": "stream",
     "text": [
      "excluding the variable bedrooms_per_room 0.42805232558139533\n"
     ]
    },
    {
     "name": "stderr",
     "output_type": "stream",
     "text": [
      "D:\\Users\\Test\\anaconda3\\envs\\ml-zoomcamp\\lib\\site-packages\\sklearn\\base.py:443: UserWarning: X has feature names, but LogisticRegression was fitted without feature names\n",
      "  warnings.warn(\n"
     ]
    },
    {
     "name": "stdout",
     "output_type": "stream",
     "text": [
      "excluding the variable population_per_household 0.42805232558139533\n"
     ]
    },
    {
     "name": "stderr",
     "output_type": "stream",
     "text": [
      "D:\\Users\\Test\\anaconda3\\envs\\ml-zoomcamp\\lib\\site-packages\\sklearn\\base.py:443: UserWarning: X has feature names, but LogisticRegression was fitted without feature names\n",
      "  warnings.warn(\n"
     ]
    },
    {
     "name": "stdout",
     "output_type": "stream",
     "text": [
      "excluding the variable ocean_prox_<1H OCEAN 0.42805232558139533\n"
     ]
    },
    {
     "name": "stderr",
     "output_type": "stream",
     "text": [
      "D:\\Users\\Test\\anaconda3\\envs\\ml-zoomcamp\\lib\\site-packages\\sklearn\\base.py:443: UserWarning: X has feature names, but LogisticRegression was fitted without feature names\n",
      "  warnings.warn(\n"
     ]
    },
    {
     "name": "stdout",
     "output_type": "stream",
     "text": [
      "excluding the variable ocean_prox_INLAND 0.4278100775193798\n"
     ]
    },
    {
     "name": "stderr",
     "output_type": "stream",
     "text": [
      "D:\\Users\\Test\\anaconda3\\envs\\ml-zoomcamp\\lib\\site-packages\\sklearn\\base.py:443: UserWarning: X has feature names, but LogisticRegression was fitted without feature names\n",
      "  warnings.warn(\n"
     ]
    },
    {
     "name": "stdout",
     "output_type": "stream",
     "text": [
      "excluding the variable ocean_prox_ISLAND 0.42805232558139533\n"
     ]
    },
    {
     "name": "stderr",
     "output_type": "stream",
     "text": [
      "D:\\Users\\Test\\anaconda3\\envs\\ml-zoomcamp\\lib\\site-packages\\sklearn\\base.py:443: UserWarning: X has feature names, but LogisticRegression was fitted without feature names\n",
      "  warnings.warn(\n"
     ]
    },
    {
     "name": "stdout",
     "output_type": "stream",
     "text": [
      "excluding the variable ocean_prox_NEAR BAY 0.4278100775193798\n",
      "excluding the variable ocean_prox_NEAR OCEAN 0.4278100775193798\n"
     ]
    },
    {
     "name": "stderr",
     "output_type": "stream",
     "text": [
      "D:\\Users\\Test\\anaconda3\\envs\\ml-zoomcamp\\lib\\site-packages\\sklearn\\base.py:443: UserWarning: X has feature names, but LogisticRegression was fitted without feature names\n",
      "  warnings.warn(\n"
     ]
    }
   ],
   "source": [
    "vars = list(df_train_2.columns)\n",
    "\n",
    "for var in vars:\n",
    "\n",
    "    tmp_var = vars.copy()\n",
    "    tmp_var.remove(var)\n",
    "    \n",
    "    dict_train = df_train_2[tmp_var].to_dict(orient='records')\n",
    "    X_train = dv.fit_transform(dict_train)\n",
    "    \n",
    "    dict_val = df_val_2[tmp_var].to_dict(orient = 'records')\n",
    "    X_val = dv.transform(dict_val)\n",
    "    \n",
    "    model = LogisticRegression(solver=\"liblinear\", C=1.0, max_iter=1000, random_state=42)\n",
    "    \n",
    "    model.fit(X_train, above_average)\n",
    "    \n",
    "    y_pred = model.predict_proba(df_val_2[tmp_var])[:, 1]\n",
    "    \n",
    "    above_val = y_pred > 0.5\n",
    "    \n",
    "    acc = 0.8359980620155039 - (above_average_val == above_val).mean()\n",
    "    \n",
    "    \n",
    "    \n",
    "    print (\"excluding the variable\", var, acc)"
   ]
  }
 ],
 "metadata": {
  "kernelspec": {
   "display_name": "Python 3 (ipykernel)",
   "language": "python",
   "name": "python3"
  },
  "language_info": {
   "codemirror_mode": {
    "name": "ipython",
    "version": 3
   },
   "file_extension": ".py",
   "mimetype": "text/x-python",
   "name": "python",
   "nbconvert_exporter": "python",
   "pygments_lexer": "ipython3",
   "version": "3.9.13"
  }
 },
 "nbformat": 4,
 "nbformat_minor": 5
}
