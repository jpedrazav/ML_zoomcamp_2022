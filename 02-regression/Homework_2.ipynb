{
 "cells": [
  {
   "cell_type": "code",
   "execution_count": 1,
   "id": "6235d5c3",
   "metadata": {},
   "outputs": [
    {
     "data": {
      "text/html": [
       "<style>.container { width:100% !important; }</style>"
      ],
      "text/plain": [
       "<IPython.core.display.HTML object>"
      ]
     },
     "metadata": {},
     "output_type": "display_data"
    }
   ],
   "source": [
    "#Make python screen wider\n",
    "from IPython.display import display, HTML\n",
    "display(HTML(\"<style>.container { width:100% !important; }</style>\"))"
   ]
  },
  {
   "cell_type": "code",
   "execution_count": 2,
   "id": "23d8cd5f",
   "metadata": {},
   "outputs": [],
   "source": [
    "import numpy as np\n",
    "import wget\n",
    "import pandas as pd\n",
    "import statistics as st\n",
    "from scipy import stats\n",
    "\n",
    "import seaborn as sns\n",
    "from matplotlib import pyplot as plt\n",
    "%matplotlib inline\n",
    "\n",
    "#increase the width of the line\n",
    "large_width = 400\n",
    "np.set_printoptions(linewidth=large_width)"
   ]
  },
  {
   "cell_type": "markdown",
   "id": "6d105760",
   "metadata": {},
   "source": [
    "## Homework\n",
    "\n",
    "### Dataset\n",
    "\n",
    "In this homework, we will use the California Housing Prices from [Kaggle](https://www.kaggle.com/datasets/camnugent/california-housing-prices).\n",
    "\n",
    "Here's a wget-able [link](https://raw.githubusercontent.com/alexeygrigorev/datasets/master/housing.csv):\n",
    "\n",
    "```bash\n",
    "wget https://raw.githubusercontent.com/alexeygrigorev/datasets/master/housing.csv\n",
    "```\n",
    "\n",
    "The goal of this homework is to create a regression model for predicting housing prices (column `'median_house_value'`)."
   ]
  },
  {
   "cell_type": "code",
   "execution_count": 5,
   "id": "9e9ad967",
   "metadata": {
    "scrolled": true
   },
   "outputs": [
    {
     "name": "stdout",
     "output_type": "stream",
     "text": [
      "\r",
      "  0% [                                                                          ]       0 / 1423529\r",
      "  0% [                                                                          ]    8192 / 1423529\r",
      "  1% [                                                                          ]   16384 / 1423529\r",
      "  1% [.                                                                         ]   24576 / 1423529\r",
      "  2% [.                                                                         ]   32768 / 1423529\r",
      "  2% [..                                                                        ]   40960 / 1423529\r",
      "  3% [..                                                                        ]   49152 / 1423529\r",
      "  4% [..                                                                        ]   57344 / 1423529\r",
      "  4% [...                                                                       ]   65536 / 1423529\r",
      "  5% [...                                                                       ]   73728 / 1423529\r",
      "  5% [....                                                                      ]   81920 / 1423529\r",
      "  6% [....                                                                      ]   90112 / 1423529\r",
      "  6% [.....                                                                     ]   98304 / 1423529\r",
      "  7% [.....                                                                     ]  106496 / 1423529\r",
      "  8% [.....                                                                     ]  114688 / 1423529\r",
      "  8% [......                                                                    ]  122880 / 1423529\r",
      "  9% [......                                                                    ]  131072 / 1423529\r",
      "  9% [.......                                                                   ]  139264 / 1423529\r",
      " 10% [.......                                                                   ]  147456 / 1423529\r",
      " 10% [........                                                                  ]  155648 / 1423529\r",
      " 11% [........                                                                  ]  163840 / 1423529\r",
      " 12% [........                                                                  ]  172032 / 1423529\r",
      " 12% [.........                                                                 ]  180224 / 1423529\r",
      " 13% [.........                                                                 ]  188416 / 1423529\r",
      " 13% [..........                                                                ]  196608 / 1423529\r",
      " 14% [..........                                                                ]  204800 / 1423529\r",
      " 14% [...........                                                               ]  212992 / 1423529\r",
      " 15% [...........                                                               ]  221184 / 1423529\r",
      " 16% [...........                                                               ]  229376 / 1423529\r",
      " 16% [............                                                              ]  237568 / 1423529\r",
      " 17% [............                                                              ]  245760 / 1423529\r",
      " 17% [.............                                                             ]  253952 / 1423529\r",
      " 18% [.............                                                             ]  262144 / 1423529\r",
      " 18% [..............                                                            ]  270336 / 1423529\r",
      " 19% [..............                                                            ]  278528 / 1423529\r",
      " 20% [..............                                                            ]  286720 / 1423529\r",
      " 20% [...............                                                           ]  294912 / 1423529\r",
      " 21% [...............                                                           ]  303104 / 1423529\r",
      " 21% [................                                                          ]  311296 / 1423529\r",
      " 22% [................                                                          ]  319488 / 1423529\r",
      " 23% [.................                                                         ]  327680 / 1423529\r",
      " 23% [.................                                                         ]  335872 / 1423529\r",
      " 24% [.................                                                         ]  344064 / 1423529\r",
      " 24% [..................                                                        ]  352256 / 1423529\r",
      " 25% [..................                                                        ]  360448 / 1423529\r",
      " 25% [...................                                                       ]  368640 / 1423529\r",
      " 26% [...................                                                       ]  376832 / 1423529\r",
      " 27% [....................                                                      ]  385024 / 1423529\r",
      " 27% [....................                                                      ]  393216 / 1423529\r",
      " 28% [....................                                                      ]  401408 / 1423529\r",
      " 28% [.....................                                                     ]  409600 / 1423529\r",
      " 29% [.....................                                                     ]  417792 / 1423529\r",
      " 29% [......................                                                    ]  425984 / 1423529\r",
      " 30% [......................                                                    ]  434176 / 1423529\r",
      " 31% [......................                                                    ]  442368 / 1423529\r",
      " 31% [.......................                                                   ]  450560 / 1423529\r",
      " 32% [.......................                                                   ]  458752 / 1423529\r",
      " 32% [........................                                                  ]  466944 / 1423529\r",
      " 33% [........................                                                  ]  475136 / 1423529\r",
      " 33% [.........................                                                 ]  483328 / 1423529\r",
      " 34% [.........................                                                 ]  491520 / 1423529\r",
      " 35% [.........................                                                 ]  499712 / 1423529\r",
      " 35% [..........................                                                ]  507904 / 1423529\r",
      " 36% [..........................                                                ]  516096 / 1423529\r",
      " 36% [...........................                                               ]  524288 / 1423529\r",
      " 37% [...........................                                               ]  532480 / 1423529\r",
      " 37% [............................                                              ]  540672 / 1423529\r",
      " 38% [............................                                              ]  548864 / 1423529\r",
      " 39% [............................                                              ]  557056 / 1423529\r",
      " 39% [.............................                                             ]  565248 / 1423529\r",
      " 40% [.............................                                             ]  573440 / 1423529\r",
      " 40% [..............................                                            ]  581632 / 1423529\r",
      " 41% [..............................                                            ]  589824 / 1423529\r",
      " 42% [...............................                                           ]  598016 / 1423529\r",
      " 42% [...............................                                           ]  606208 / 1423529\r",
      " 43% [...............................                                           ]  614400 / 1423529\r",
      " 43% [................................                                          ]  622592 / 1423529\r",
      " 44% [................................                                          ]  630784 / 1423529\r",
      " 44% [.................................                                         ]  638976 / 1423529\r",
      " 45% [.................................                                         ]  647168 / 1423529\r",
      " 46% [..................................                                        ]  655360 / 1423529\r",
      " 46% [..................................                                        ]  663552 / 1423529\r",
      " 47% [..................................                                        ]  671744 / 1423529\r",
      " 47% [...................................                                       ]  679936 / 1423529\r",
      " 48% [...................................                                       ]  688128 / 1423529\r",
      " 48% [....................................                                      ]  696320 / 1423529\r",
      " 49% [....................................                                      ]  704512 / 1423529\r",
      " 50% [.....................................                                     ]  712704 / 1423529\r",
      " 50% [.....................................                                     ]  720896 / 1423529\r",
      " 51% [.....................................                                     ]  729088 / 1423529\r",
      " 51% [......................................                                    ]  737280 / 1423529\r",
      " 52% [......................................                                    ]  745472 / 1423529\r",
      " 52% [.......................................                                   ]  753664 / 1423529\r",
      " 53% [.......................................                                   ]  761856 / 1423529\r",
      " 54% [........................................                                  ]  770048 / 1423529\r",
      " 54% [........................................                                  ]  778240 / 1423529\r",
      " 55% [........................................                                  ]  786432 / 1423529\r",
      " 55% [.........................................                                 ]  794624 / 1423529\r",
      " 56% [.........................................                                 ]  802816 / 1423529\r",
      " 56% [..........................................                                ]  811008 / 1423529\r",
      " 57% [..........................................                                ]  819200 / 1423529\r",
      " 58% [...........................................                               ]  827392 / 1423529\r",
      " 58% [...........................................                               ]  835584 / 1423529\r",
      " 59% [...........................................                               ]  843776 / 1423529\r",
      " 59% [............................................                              ]  851968 / 1423529\r",
      " 60% [............................................                              ]  860160 / 1423529\r",
      " 60% [.............................................                             ]  868352 / 1423529\r",
      " 61% [.............................................                             ]  876544 / 1423529\r",
      " 62% [.............................................                             ]  884736 / 1423529\r",
      " 62% [..............................................                            ]  892928 / 1423529\r",
      " 63% [..............................................                            ]  901120 / 1423529\r",
      " 63% [...............................................                           ]  909312 / 1423529\r",
      " 64% [...............................................                           ]  917504 / 1423529\r",
      " 65% [................................................                          ]  925696 / 1423529\r",
      " 65% [................................................                          ]  933888 / 1423529\r",
      " 66% [................................................                          ]  942080 / 1423529\r",
      " 66% [.................................................                         ]  950272 / 1423529\r",
      " 67% [.................................................                         ]  958464 / 1423529\r",
      " 67% [..................................................                        ]  966656 / 1423529\r",
      " 68% [..................................................                        ]  974848 / 1423529\r",
      " 69% [...................................................                       ]  983040 / 1423529\r",
      " 69% [...................................................                       ]  991232 / 1423529\r",
      " 70% [...................................................                       ]  999424 / 1423529\r",
      " 70% [....................................................                      ] 1007616 / 1423529\r",
      " 71% [....................................................                      ] 1015808 / 1423529\r",
      " 71% [.....................................................                     ] 1024000 / 1423529\r",
      " 72% [.....................................................                     ] 1032192 / 1423529\r",
      " 73% [......................................................                    ] 1040384 / 1423529\r",
      " 73% [......................................................                    ] 1048576 / 1423529\r",
      " 74% [......................................................                    ] 1056768 / 1423529\r",
      " 74% [.......................................................                   ] 1064960 / 1423529\r",
      " 75% [.......................................................                   ] 1073152 / 1423529\r",
      " 75% [........................................................                  ] 1081344 / 1423529\r",
      " 76% [........................................................                  ] 1089536 / 1423529\r",
      " 77% [.........................................................                 ] 1097728 / 1423529\r",
      " 77% [.........................................................                 ] 1105920 / 1423529\r",
      " 78% [.........................................................                 ] 1114112 / 1423529\r",
      " 78% [..........................................................                ] 1122304 / 1423529\r",
      " 79% [..........................................................                ] 1130496 / 1423529\r",
      " 79% [...........................................................               ] 1138688 / 1423529\r",
      " 80% [...........................................................               ] 1146880 / 1423529\r",
      " 81% [............................................................              ] 1155072 / 1423529\r",
      " 81% [............................................................              ] 1163264 / 1423529\r",
      " 82% [............................................................              ] 1171456 / 1423529\r",
      " 82% [.............................................................             ] 1179648 / 1423529\r",
      " 83% [.............................................................             ] 1187840 / 1423529\r",
      " 84% [..............................................................            ] 1196032 / 1423529\r",
      " 84% [..............................................................            ] 1204224 / 1423529\r",
      " 85% [...............................................................           ] 1212416 / 1423529\r",
      " 85% [...............................................................           ] 1220608 / 1423529\r",
      " 86% [...............................................................           ] 1228800 / 1423529\r",
      " 86% [................................................................          ] 1236992 / 1423529\r",
      " 87% [................................................................          ] 1245184 / 1423529\r",
      " 88% [.................................................................         ] 1253376 / 1423529\r",
      " 88% [.................................................................         ] 1261568 / 1423529\r",
      " 89% [..................................................................        ] 1269760 / 1423529\r",
      " 89% [..................................................................        ] 1277952 / 1423529\r",
      " 90% [..................................................................        ] 1286144 / 1423529\r",
      " 90% [...................................................................       ] 1294336 / 1423529\r",
      " 91% [...................................................................       ] 1302528 / 1423529\r",
      " 92% [....................................................................      ] 1310720 / 1423529\r",
      " 92% [....................................................................      ] 1318912 / 1423529\r",
      " 93% [....................................................................      ] 1327104 / 1423529\r",
      " 93% [.....................................................................     ] 1335296 / 1423529\r",
      " 94% [.....................................................................     ] 1343488 / 1423529\r",
      " 94% [......................................................................    ] 1351680 / 1423529\r",
      " 95% [......................................................................    ] 1359872 / 1423529\r",
      " 96% [.......................................................................   ] 1368064 / 1423529\r",
      " 96% [.......................................................................   ] 1376256 / 1423529\r",
      " 97% [.......................................................................   ] 1384448 / 1423529\r",
      " 97% [........................................................................  ] 1392640 / 1423529\r",
      " 98% [........................................................................  ] 1400832 / 1423529\r",
      " 98% [......................................................................... ] 1409024 / 1423529\r",
      " 99% [......................................................................... ] 1417216 / 1423529\r",
      "100% [..........................................................................] 1423529 / 1423529"
     ]
    },
    {
     "data": {
      "text/plain": [
       "'housing.csv'"
      ]
     },
     "execution_count": 5,
     "metadata": {},
     "output_type": "execute_result"
    }
   ],
   "source": [
    "wget.download(\"https://raw.githubusercontent.com/alexeygrigorev/datasets/master/housing.csv\")"
   ]
  },
  {
   "cell_type": "markdown",
   "id": "abebd896",
   "metadata": {},
   "source": [
    "\n",
    "### EDA\n",
    "\n",
    "* Load the data.\n",
    "* Look at the `median_house_value` variable. Does it have a long tail? \n",
    "> ANSWER  \n",
    "  It doesn't look like a long tail type of distribution:  \n",
    "  a) there is probably a max value calculation set at 500000  \n",
    "  b) it is a right-skewer distribution (tail is on the right)"
   ]
  },
  {
   "cell_type": "code",
   "execution_count": 6,
   "id": "1a848dc2",
   "metadata": {},
   "outputs": [],
   "source": [
    "data_raw=pd.read_csv('housing.csv')"
   ]
  },
  {
   "cell_type": "code",
   "execution_count": 8,
   "id": "478128ae",
   "metadata": {},
   "outputs": [
    {
     "data": {
      "image/png": "[encoded data removed]",
      "text/plain": [
       "<Figure size 640x480 with 1 Axes>"
      ]
     },
     "metadata": {},
     "output_type": "display_data"
    }
   ],
   "source": [
    "sns.histplot(data_raw.median_house_value, bins=40)\n",
    "plt.ylabel('Frequency')\n",
    "plt.xlabel('House Value')\n",
    "plt.title('Distribution of House Value')\n",
    "plt.show()"
   ]
  },
  {
   "cell_type": "markdown",
   "id": "b4cf6583",
   "metadata": {},
   "source": [
    "### Features\n",
    "\n",
    "For the rest of the homework, you'll need to use only these columns:\n",
    "\n",
    "* `'latitude'`,\n",
    "* `'longitude'`,\n",
    "* `'housing_median_age'`,\n",
    "* `'total_rooms'`,\n",
    "* `'total_bedrooms'`,\n",
    "* `'population'`,\n",
    "* `'households'`,\n",
    "* `'median_income'`,\n",
    "* `'median_house_value'`\n",
    "\n",
    "Select only them."
   ]
  },
  {
   "cell_type": "code",
   "execution_count": 11,
   "id": "0679a2c3",
   "metadata": {},
   "outputs": [],
   "source": [
    "data = data_raw[['latitude', 'longitude','housing_median_age','total_rooms','total_bedrooms','population','households','median_income','median_house_value']]"
   ]
  },
  {
   "cell_type": "code",
   "execution_count": 12,
   "id": "251cfded",
   "metadata": {
    "scrolled": false
   },
   "outputs": [
    {
     "name": "stdout",
     "output_type": "stream",
     "text": [
      "<class 'pandas.core.frame.DataFrame'>\n",
      "RangeIndex: 20640 entries, 0 to 20639\n",
      "Data columns (total 9 columns):\n",
      " #   Column              Non-Null Count  Dtype  \n",
      "---  ------              --------------  -----  \n",
      " 0   latitude            20640 non-null  float64\n",
      " 1   longitude           20640 non-null  float64\n",
      " 2   housing_median_age  20640 non-null  float64\n",
      " 3   total_rooms         20640 non-null  float64\n",
      " 4   total_bedrooms      20433 non-null  float64\n",
      " 5   population          20640 non-null  float64\n",
      " 6   households          20640 non-null  float64\n",
      " 7   median_income       20640 non-null  float64\n",
      " 8   median_house_value  20640 non-null  float64\n",
      "dtypes: float64(9)\n",
      "memory usage: 1.4 MB\n"
     ]
    }
   ],
   "source": [
    "data.info()"
   ]
  },
  {
   "cell_type": "markdown",
   "id": "352b8373",
   "metadata": {},
   "source": [
    "### Question 1\n",
    "\n",
    "Find a feature with missing values. How many missing values does it have?\n",
    "- 207\n",
    "- 307\n",
    "- 408\n",
    "- 508\n",
    "\n",
    "> ANSWER  \n",
    "  Total Bedrooms - 207"
   ]
  },
  {
   "cell_type": "code",
   "execution_count": 13,
   "id": "5aa07d0a",
   "metadata": {
    "scrolled": true
   },
   "outputs": [
    {
     "data": {
      "text/html": [
       "<div>\n",
       "<style scoped>\n",
       "    .dataframe tbody tr th:only-of-type {\n",
       "        vertical-align: middle;\n",
       "    }\n",
       "\n",
       "    .dataframe tbody tr th {\n",
       "        vertical-align: top;\n",
       "    }\n",
       "\n",
       "    .dataframe thead th {\n",
       "        text-align: right;\n",
       "    }\n",
       "</style>\n",
       "<table border=\"1\" class=\"dataframe\">\n",
       "  <thead>\n",
       "    <tr style=\"text-align: right;\">\n",
       "      <th></th>\n",
       "      <th>nulls</th>\n",
       "    </tr>\n",
       "  </thead>\n",
       "  <tbody>\n",
       "    <tr>\n",
       "      <th>latitude</th>\n",
       "      <td>0</td>\n",
       "    </tr>\n",
       "    <tr>\n",
       "      <th>longitude</th>\n",
       "      <td>0</td>\n",
       "    </tr>\n",
       "    <tr>\n",
       "      <th>housing_median_age</th>\n",
       "      <td>0</td>\n",
       "    </tr>\n",
       "    <tr>\n",
       "      <th>total_rooms</th>\n",
       "      <td>0</td>\n",
       "    </tr>\n",
       "    <tr>\n",
       "      <th>total_bedrooms</th>\n",
       "      <td>207</td>\n",
       "    </tr>\n",
       "    <tr>\n",
       "      <th>population</th>\n",
       "      <td>0</td>\n",
       "    </tr>\n",
       "    <tr>\n",
       "      <th>households</th>\n",
       "      <td>0</td>\n",
       "    </tr>\n",
       "    <tr>\n",
       "      <th>median_income</th>\n",
       "      <td>0</td>\n",
       "    </tr>\n",
       "    <tr>\n",
       "      <th>median_house_value</th>\n",
       "      <td>0</td>\n",
       "    </tr>\n",
       "  </tbody>\n",
       "</table>\n",
       "</div>"
      ],
      "text/plain": [
       "                    nulls\n",
       "latitude                0\n",
       "longitude               0\n",
       "housing_median_age      0\n",
       "total_rooms             0\n",
       "total_bedrooms        207\n",
       "population              0\n",
       "households              0\n",
       "median_income           0\n",
       "median_house_value      0"
      ]
     },
     "execution_count": 13,
     "metadata": {},
     "output_type": "execute_result"
    }
   ],
   "source": [
    "df_nullx = data.isnull().sum().to_frame('nulls')\n",
    "df_nullx"
   ]
  },
  {
   "cell_type": "markdown",
   "id": "5cb7e468",
   "metadata": {},
   "source": [
    "### Question 2\n",
    "\n",
    "What's the median (50% percentile) for variable 'population'?\n",
    "- 1133\n",
    "- 1122\n",
    "- 1166\n",
    "- 1188\n",
    "\n",
    "> ANSWER  \n",
    "  1166"
   ]
  },
  {
   "cell_type": "code",
   "execution_count": 14,
   "id": "ff37cc58",
   "metadata": {
    "scrolled": false
   },
   "outputs": [
    {
     "data": {
      "text/plain": [
       "1166.0"
      ]
     },
     "execution_count": 14,
     "metadata": {},
     "output_type": "execute_result"
    }
   ],
   "source": [
    "data_median = np.median(data['population'])\n",
    "data_median"
   ]
  },
  {
   "cell_type": "markdown",
   "id": "96024e52",
   "metadata": {},
   "source": [
    "### Split the data\n",
    "\n",
    "* Shuffle the initial dataset, use seed `42`.\n",
    "* Split your data in train/val/test sets, with 60%/20%/20% distribution.\n",
    "* Make sure that the target value ('median_house_value') is not in your dataframe.\n",
    "* Apply the log transformation to the median_house_value variable using the `np.log1p()` function."
   ]
  },
  {
   "cell_type": "code",
   "execution_count": 20,
   "id": "7db9ade6",
   "metadata": {},
   "outputs": [],
   "source": [
    "np.random.seed(42)\n",
    "n = len(data)\n",
    "\n",
    "n_val = int(0.2 * n)\n",
    "n_test = int(0.2 * n)\n",
    "n_train = n - (n_val + n_test)\n",
    "\n",
    "idx = np.arange(n)\n",
    "np.random.shuffle(idx)\n",
    "\n",
    "data_shuffle = data.iloc[idx]\n",
    "\n",
    "df_train = data_shuffle.iloc[:n_train].copy()\n",
    "df_test   = data_shuffle.iloc[n_train:n_train+n_test].copy()\n",
    "df_val  = data_shuffle.iloc[n_train+n_test:].copy()\n",
    "\n",
    "#creates an array to preserve original target variable data\n",
    "\n",
    "y_train_orig = df_train.median_house_value.values \n",
    "y_val_orig   = df_val.median_house_value.values\n",
    "y_test_orig  = df_test.median_house_value.values\n",
    "\n",
    "y_train = np.log1p(df_train.median_house_value.values)\n",
    "y_val   = np.log1p(df_val.median_house_value.values)\n",
    "y_test  = np.log1p(df_test.median_house_value.values)"
   ]
  },
  {
   "cell_type": "markdown",
   "id": "e1731b3a",
   "metadata": {},
   "source": [
    "### Question 3\n",
    "\n",
    "* We need to deal with missing values for the column from Q1.\n",
    "* We have two options: fill it with 0 or with the mean of this variable.\n",
    "* Try both options. For each, train a linear regression model without regularization using the code from the lessons.\n",
    "* For computing the mean, use the training only!\n",
    "* Use the validation dataset to evaluate the models and compare the RMSE of each option.\n",
    "* Round the RMSE scores to 2 decimal digits using `round(score, 2)`\n",
    "* Which option gives better RMSE?\n",
    "\n",
    "Options:\n",
    "- With 0\n",
    "- With mean\n",
    "- Both are equally good\n",
    "> ANSWER  \n",
    "  Both are equally good"
   ]
  },
  {
   "cell_type": "code",
   "execution_count": null,
   "id": "6714b6ff",
   "metadata": {},
   "outputs": [],
   "source": [
    "def train_linear_regression(X, y):\n",
    "    ones = np.ones(X.shape[0])\n",
    "    X = np.column_stack([ones, X])\n",
    "\n",
    "    XTX = X.T.dot(X)\n",
    "    XTX_inv = np.linalg.inv(XTX)\n",
    "    w = XTX_inv.dot(X.T).dot(y)\n",
    "    \n",
    "    return w[0], w[1:]"
   ]
  },
  {
   "cell_type": "code",
   "execution_count": null,
   "id": "ba5eec9e",
   "metadata": {},
   "outputs": [],
   "source": [
    "def rmse(y, y_pred):\n",
    "    error = y_pred - y\n",
    "    mse = (error ** 2).mean()\n",
    "    return np.sqrt(mse)"
   ]
  },
  {
   "cell_type": "code",
   "execution_count": 51,
   "id": "a1d9df1d",
   "metadata": {},
   "outputs": [],
   "source": [
    "#adjusted function for imputation to 0\n",
    "\n",
    "def prepare_X_impute(df, impute_val):\n",
    "    df_num = df.copy()\n",
    "    df_num = df_num.fillna(impute_val)\n",
    "    X = df_num.values\n",
    "    return X"
   ]
  },
  {
   "cell_type": "code",
   "execution_count": 62,
   "id": "faa44c8d",
   "metadata": {},
   "outputs": [],
   "source": [
    "#use previously defined functions prepare_X, rmse, and train_linear_regression\n",
    "\n",
    "data = data_raw[['latitude', 'longitude','housing_median_age','total_rooms','total_bedrooms','population','households','median_income','median_house_value']].copy()\n",
    "\n",
    "def run_seed_impute(seed_num):\n",
    "    np.random.seed(seed_num)\n",
    "    n = len(data)\n",
    "\n",
    "    n_val = int(0.2 * n)\n",
    "    n_test = int(0.2 * n)\n",
    "    n_train = n - (n_val + n_test)\n",
    "   \n",
    "    idx = np.arange(n)\n",
    "    np.random.shuffle(idx)\n",
    "\n",
    "    data_shuffle = data.iloc[idx]\n",
    "    data_shuffle.head()\n",
    "\n",
    "    df_train = data_shuffle.iloc[:n_train].copy()\n",
    "    df_test   = data_shuffle.iloc[n_train:n_train+n_test].copy()\n",
    "    df_val  = data_shuffle.iloc[n_train+n_test:].copy()\n",
    "\n",
    "    #target variable original\n",
    "    y_train_orig = df_train.median_house_value.values \n",
    "    y_val_orig   = df_val.median_house_value.values\n",
    "    y_test_orig  = df_test.median_house_value.values\n",
    "          \n",
    "    y_train = np.log1p(df_train.median_house_value.values)\n",
    "    y_val   = np.log1p(df_val.median_house_value.values)\n",
    "    y_test  = np.log1p(df_test.median_house_value.values)\n",
    "    \n",
    "    del df_train['median_house_value']\n",
    "    del df_val['median_house_value']\n",
    "    del df_test['median_house_value']\n",
    "    \n",
    "    mean_train = df_train['total_bedrooms'].mean()\n",
    "    \n",
    "    #impute 0\n",
    "    \n",
    "    X_train_0 = prepare_X_impute(df_train, 0)\n",
    "    X_val_0   = prepare_X_impute(df_val, 0)\n",
    "    X_test_0  = prepare_X_impute(df_test, 0)\n",
    "    \n",
    "    w_0, w = train_linear_regression(X_train_0, y_train)\n",
    "    \n",
    "    y_train_pred_0 = w_0 + X_train_0.dot(w)\n",
    "    y_val_pred_0   = w_0 + X_val_0.dot(w)\n",
    "        \n",
    "    #impute mean (only training)\n",
    "    \n",
    "    X_train_mean = prepare_X_impute(df_train, mean_train)\n",
    "    X_val_mean   = prepare_X_impute(df_val, mean_train)\n",
    "    X_test_mean  = prepare_X_impute(df_test, mean_train)\n",
    "    \n",
    "    w_0, w = train_linear_regression(X_train_mean, y_train)\n",
    "    \n",
    "    y_train_pred_mean = w_0 + X_train_mean.dot(w)\n",
    "    y_val_pred_mean   = w_0 + X_val_mean.dot(w)\n",
    "    \n",
    "    return round(rmse(y_val, y_val_pred_0),2), round(rmse(y_val, y_val_pred_mean),2)"
   ]
  },
  {
   "cell_type": "code",
   "execution_count": 63,
   "id": "7793dd35",
   "metadata": {},
   "outputs": [
    {
     "data": {
      "text/plain": [
       "(0.35, 0.35)"
      ]
     },
     "execution_count": 63,
     "metadata": {},
     "output_type": "execute_result"
    }
   ],
   "source": [
    "run_seed_impute(42)"
   ]
  },
  {
   "cell_type": "markdown",
   "id": "49b5e2f4",
   "metadata": {},
   "source": [
    "\n",
    "### Question 4\n",
    "\n",
    "* Now let's train a regularized linear regression.\n",
    "* For this question, fill the NAs with 0. \n",
    "* Try different values of `r` from this list: `[0, 0.000001, 0.0001, 0.001, 0.01, 0.1, 1, 5, 10]`.\n",
    "* Use RMSE to evaluate the model on the validation dataset.\n",
    "* Round the RMSE scores to 2 decimal digits.\n",
    "* Which `r` gives the best RMSE?\n",
    "\n",
    "If there are multiple options, select the smallest `r`.\n",
    "\n",
    "Options:\n",
    "- 0\n",
    "- 0.000001\n",
    "- 0.001\n",
    "- 0.0001\n",
    "> ANSWER  \n",
    "  0.001\n"
   ]
  },
  {
   "cell_type": "code",
   "execution_count": 31,
   "id": "76e13f82",
   "metadata": {},
   "outputs": [],
   "source": [
    "base = ['latitude', 'longitude','housing_median_age','total_rooms','total_bedrooms','population','households','median_income','median_house_value']"
   ]
  },
  {
   "cell_type": "code",
   "execution_count": 32,
   "id": "a733fb3f",
   "metadata": {},
   "outputs": [],
   "source": [
    "def prepare_X(df):\n",
    "    df_num = df[base]\n",
    "    df_num = df_num.fillna(0)\n",
    "    X = df_num.values\n",
    "    return X"
   ]
  },
  {
   "cell_type": "code",
   "execution_count": 33,
   "id": "457f4978",
   "metadata": {},
   "outputs": [],
   "source": [
    "def train_linear_regression_reg(X, y, r=0.0):\n",
    "    #create and append first column as ones\n",
    "    ones = np.ones(X.shape[0])\n",
    "    X = np.column_stack([ones, X])\n",
    "    \n",
    "    XTX = X.T.dot(X)\n",
    "    \n",
    "    #identity matrix square matrix (nvar X nvar in shape)* *** r changes in the diagonal\n",
    "    reg = r * np.eye(XTX.shape[0])\n",
    "    XTX = XTX + reg\n",
    "\n",
    "    XTX_inv = np.linalg.inv(XTX)\n",
    "    w = XTX_inv.dot(X.T).dot(y)\n",
    "    \n",
    "    return w[0], w[1:]"
   ]
  },
  {
   "cell_type": "code",
   "execution_count": 34,
   "id": "cf47e0ed",
   "metadata": {},
   "outputs": [],
   "source": [
    "def rmse(y, y_pred):\n",
    "    error = y_pred - y\n",
    "    mse = (error ** 2).mean()\n",
    "    return np.sqrt(mse)"
   ]
  },
  {
   "cell_type": "code",
   "execution_count": 35,
   "id": "28f1065c",
   "metadata": {
    "scrolled": true
   },
   "outputs": [],
   "source": [
    "X_train = prepare_X(df_train)\n",
    "X_val   = prepare_X(df_val)"
   ]
  },
  {
   "cell_type": "code",
   "execution_count": 36,
   "id": "6eda3d50",
   "metadata": {
    "scrolled": true
   },
   "outputs": [
    {
     "name": "stdout",
     "output_type": "stream",
     "text": [
      "         0, 0.17\n",
      "         0, 0.1671411294\n",
      "     1e-06, 0.17\n",
      "     1e-06, 0.1671411288\n",
      "    0.0001, 0.17\n",
      "    0.0001, 0.1671410640\n",
      "     0.001, 0.17\n",
      "     0.001, 0.1671404813\n",
      "      0.01, 0.17\n",
      "      0.01, 0.1671352650\n",
      "       0.1, 0.17\n",
      "       0.1, 0.1671295375\n",
      "         1, 0.17\n",
      "         1, 0.1677850634\n",
      "         5, 0.17\n",
      "         5, 0.1686461704\n",
      "        10, 0.17\n",
      "        10, 0.1688503108\n"
     ]
    }
   ],
   "source": [
    "for r in [0, 0.000001, 0.0001, 0.001, 0.01, 0.1, 1, 5, 10]:\n",
    "    w_0, w = train_linear_regression_reg(X_train, y_train, r=r)\n",
    "    y_pred = w_0 + X_val.dot(w)\n",
    "    \n",
    "    print('%10s, %.2f' % (r, rmse(y_val, y_pred))) #two decimal digits\n",
    "    print('%10s, %.10f' % (r, rmse(y_val, y_pred))) #to check the smallest one"
   ]
  },
  {
   "cell_type": "markdown",
   "id": "e3c4adb9",
   "metadata": {},
   "source": [
    "### Question 5 \n",
    "\n",
    "* We used seed 42 for splitting the data. Let's find out how selecting the seed influences our score.\n",
    "* Try different seed values: `[0, 1, 2, 3, 4, 5, 6, 7, 8, 9]`.\n",
    "* For each seed, do the train/validation/test split with 60%/20%/20% distribution.\n",
    "* Fill the missing values with 0 and train a model without regularization.\n",
    "* For each seed, evaluate the model on the validation dataset and collect the RMSE scores. \n",
    "* What's the standard deviation of all the scores? To compute the standard deviation, use `np.std`.\n",
    "* Round the result to 3 decimal digits (`round(std, 3)`)\n",
    "\n",
    "> Note: Standard deviation shows how different the values are.\n",
    "> If it's low, then all values are approximately the same.\n",
    "> If it's high, the values are different. \n",
    "> If standard deviation of scores is low, then our model is *stable*.\n",
    "\n",
    "Options:\n",
    "- 0.16\n",
    "- 0.00005\n",
    "- 0.005\n",
    "- 0.15555\n",
    "\n",
    "> ANSWER  \n",
    "  0.005"
   ]
  },
  {
   "cell_type": "code",
   "execution_count": 37,
   "id": "6aa7a846",
   "metadata": {},
   "outputs": [],
   "source": [
    "def train_linear_regression(X, y):\n",
    "    ones = np.ones(X.shape[0])\n",
    "    X = np.column_stack([ones, X])\n",
    "\n",
    "    XTX = X.T.dot(X)\n",
    "    XTX_inv = np.linalg.inv(XTX)\n",
    "    w = XTX_inv.dot(X.T).dot(y)\n",
    "    \n",
    "    return w[0], w[1:]\n"
   ]
  },
  {
   "cell_type": "code",
   "execution_count": 38,
   "id": "5e08683b",
   "metadata": {},
   "outputs": [],
   "source": [
    "#adjusted function\n",
    "def prepare_X_2(df):\n",
    "    df_num = df.copy()\n",
    "    df_num = df_num.fillna(0)\n",
    "    X = df_num.values\n",
    "    return X"
   ]
  },
  {
   "cell_type": "code",
   "execution_count": 39,
   "id": "ee53272a",
   "metadata": {},
   "outputs": [],
   "source": [
    "#use previously defined functions prepare_X, rmse, and train_linear_regression\n",
    "\n",
    "data = data_raw[['latitude', 'longitude','housing_median_age','total_rooms','total_bedrooms','population','households','median_income','median_house_value']]\n",
    "\n",
    "def run_seed(seed_num):\n",
    "    np.random.seed(seed_num)\n",
    "    n = len(data)\n",
    "\n",
    "    n_val = int(0.2 * n)\n",
    "    n_test = int(0.2 * n)\n",
    "    n_train = n - (n_val + n_test)\n",
    "   \n",
    "    idx = np.arange(n)\n",
    "    np.random.shuffle(idx)\n",
    "\n",
    "    data_shuffle = data.iloc[idx]\n",
    "    data_shuffle.head()\n",
    "\n",
    "    df_train = data_shuffle.iloc[:n_train].copy()\n",
    "    df_test   = data_shuffle.iloc[n_train:n_train+n_test].copy()\n",
    "    df_val  = data_shuffle.iloc[n_train+n_test:].copy()\n",
    "\n",
    "    #target variable original\n",
    "    y_train_orig = df_train.median_house_value.values \n",
    "    y_val_orig   = df_val.median_house_value.values\n",
    "    y_test_orig  = df_test.median_house_value.values\n",
    "          \n",
    "    y_train = np.log1p(df_train.median_house_value.values)\n",
    "    y_val   = np.log1p(df_val.median_house_value.values)\n",
    "    y_test  = np.log1p(df_test.median_house_value.values)\n",
    "    \n",
    "    del df_train['median_house_value']\n",
    "    del df_val['median_house_value']\n",
    "    del df_test['median_house_value']\n",
    "    \n",
    "#     return df_train\n",
    "    \n",
    "    X_train = prepare_X_2(df_train)\n",
    "    X_val   = prepare_X_2(df_val)\n",
    "    X_test  = prepare_X_2(df_test)\n",
    "    \n",
    "    w_0, w = train_linear_regression(X_train, y_train)\n",
    "    \n",
    "    y_train_pred = w_0 + X_train.dot(w)\n",
    "    y_val_pred   = w_0 + X_val.dot(w)\n",
    "\n",
    "    return rmse(y_val, y_val_pred)"
   ]
  },
  {
   "cell_type": "code",
   "execution_count": 41,
   "id": "dfa7d5cd",
   "metadata": {},
   "outputs": [
    {
     "name": "stdout",
     "output_type": "stream",
     "text": [
      "[0.33753831268759427, 0.3379506305304727, 0.34822468621183567, 0.3369910712248624, 0.33666395848447805, 0.33575495676425154, 0.3425103903347186, 0.3460651298790514, 0.34835762061865505, 0.3456992317176127]\n"
     ]
    }
   ],
   "source": [
    "a = []\n",
    "for sd in range(10):\n",
    "    run_result = run_seed(sd) \n",
    "    a.append(run_result)\n",
    "print(a)"
   ]
  },
  {
   "cell_type": "code",
   "execution_count": 42,
   "id": "e860e6b6",
   "metadata": {
    "scrolled": true
   },
   "outputs": [
    {
     "data": {
      "text/plain": [
       "0.005"
      ]
     },
     "execution_count": 42,
     "metadata": {},
     "output_type": "execute_result"
    }
   ],
   "source": [
    "st = np.std(a)\n",
    "round(st,3)"
   ]
  },
  {
   "cell_type": "markdown",
   "id": "6343de9f",
   "metadata": {},
   "source": [
    "### Question 6\n",
    "\n",
    "* Split the dataset like previously, use seed 9.\n",
    "* Combine train and validation datasets.\n",
    "* Fill the missing values with 0 and train a model with `r=0.001`. \n",
    "* What's the RMSE on the test dataset?\n",
    "\n",
    "Options:\n",
    "- 0.35\n",
    "- 0.135\n",
    "- 0.450\n",
    "- 0.245\n",
    "> ANSWER  \n",
    "  0.35"
   ]
  },
  {
   "cell_type": "code",
   "execution_count": 43,
   "id": "4e665ec3",
   "metadata": {},
   "outputs": [],
   "source": [
    "#use previously defined functions prepare_X, rmse, and train_linear_regression\n",
    "\n",
    "data = data_raw[['latitude', 'longitude','housing_median_age','total_rooms','total_bedrooms','population','households','median_income','median_house_value']]\n",
    "\n",
    "def run_seed_2(seed_num):\n",
    "    np.random.seed(seed_num)\n",
    "    n = len(data)\n",
    "\n",
    "    n_val = int(0.2 * n)\n",
    "    n_test = int(0.2 * n)\n",
    "    n_train = n - (n_val + n_test)\n",
    "   \n",
    "    idx = np.arange(n)\n",
    "    np.random.shuffle(idx)\n",
    "\n",
    "    data_shuffle = data.iloc[idx]\n",
    "    data_shuffle.head()\n",
    "\n",
    "    df_train = data_shuffle.iloc[:n_train+n_test].copy() #60%+20% of data\n",
    "    df_test   = data_shuffle.iloc[n_train+n_test:].copy() #remaining 20% of data\n",
    "\n",
    "    #target variable original\n",
    "    y_train_orig = df_train.median_house_value.values \n",
    "    y_test_orig  = df_test.median_house_value.values\n",
    "          \n",
    "    y_train = np.log1p(df_train.median_house_value.values)\n",
    "    y_test  = np.log1p(df_test.median_house_value.values)\n",
    "    \n",
    "    del df_train['median_house_value']\n",
    "    del df_test['median_house_value']\n",
    "     \n",
    "    X_train = prepare_X_2(df_train)\n",
    "    X_test  = prepare_X_2(df_test)\n",
    "    \n",
    "    #use previously defined function (regularization)\n",
    "    w_0, w = train_linear_regression_reg(X_train, y_train, r=1) \n",
    "    \n",
    "    y_train_pred = w_0 + X_train.dot(w)\n",
    "    y_test_pred   = w_0 + X_test.dot(w)\n",
    "\n",
    "    return rmse(y_test, y_test_pred)"
   ]
  },
  {
   "cell_type": "code",
   "execution_count": 44,
   "id": "b5e2f6a2",
   "metadata": {},
   "outputs": [
    {
     "data": {
      "text/plain": [
       "0.349"
      ]
     },
     "execution_count": 44,
     "metadata": {},
     "output_type": "execute_result"
    }
   ],
   "source": [
    "round(run_seed_2(9),3)"
   ]
  }
 ],
 "metadata": {
  "kernelspec": {
   "display_name": "Python 3 (ipykernel)",
   "language": "python",
   "name": "python3"
  },
  "language_info": {
   "codemirror_mode": {
    "name": "ipython",
    "version": 3
   },
   "file_extension": ".py",
   "mimetype": "text/x-python",
   "name": "python",
   "nbconvert_exporter": "python",
   "pygments_lexer": "ipython3",
   "version": "3.9.13"
  }
 },
 "nbformat": 4,
 "nbformat_minor": 5
}
