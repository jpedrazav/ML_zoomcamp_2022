{
 "cells": [
  {
   "cell_type": "markdown",
   "id": "ea21e307",
   "metadata": {},
   "source": [
    "## Homework\n",
    "\n",
    "> Note: sometimes your answer might not match one of the options exactly. That's fine. \n",
    "Select the option that's closest to your solution.\n",
    "\n",
    "The goal of this homework is to familiarize you with BentoML and how to build and test an ML production service.\n",
    "\n",
    "## Background\n",
    "\n",
    "You are a new recruit at ACME corp. Your manager is emailing you about your first assignment.\n",
    "\n",
    "\n",
    "## Email from your manager\n",
    "\n",
    "Good morning recruit! It's good to have you here! I have an assignment for you. I have a data scientist that's built\n",
    "a credit risk model in a jupyter notebook. I need you to run the notebook and save the model with BentoML and see\n",
    "how big the model is. If it's greater than a certain size, I'm going to have to request additional resources from \n",
    "our infra team. Please let me know how big it is.\n",
    "\n",
    "Thanks,\n",
    "\n",
    "Mr McManager\n",
    "\n",
    "\n",
    "## Question 1\n",
    "\n",
    "* Install BentoML\n",
    "* What's the version of BentoML you installed?\n",
    "* Use `--version` to find out"
   ]
  },
  {
   "cell_type": "markdown",
   "id": "b600ddfb",
   "metadata": {},
   "source": [
    "####command line\n",
    "(ml-zoomcamp) d:\\ALEXEY\\ML_Zoomcamp\\Unit_07\\new_model>bentoml --version\n",
    "\n",
    "####answer\n",
    "bentoml, version 1.0.7"
   ]
  },
  {
   "cell_type": "markdown",
   "id": "f206fabe",
   "metadata": {},
   "source": [
    "## Question 2\n",
    "\n",
    "Run the notebook which contains the xgboost model from module 6 i.e previous module and save the xgboost model with BentoML. To make it easier for you we have prepared this [notebook](https://github.com/alexeygrigorev/mlbookcamp-code/blob/master/course-zoomcamp/07-bentoml-production/code/train.ipynb). \n",
    "\n",
    "\n",
    "How big approximately is the saved BentoML model? Size can slightly vary depending on your local development environment.\n",
    "Choose the size closest to your model.\n",
    "\n",
    "* 924kb\n",
    "* 724kb\n",
    "* 114kb\n",
    "* 8kb"
   ]
  },
  {
   "cell_type": "markdown",
   "id": "f883be8f",
   "metadata": {},
   "source": [
    "####command line\n",
    "(ml-zoomcamp) d:\\ALEXEY\\ML_Zoomcamp\\Unit_07\\new_model>bentoml models list\n",
    "\n",
    "####Result\n",
    "Tag                                 Module           Size        Creation Time\n",
    "credit_risk_model:utns5bsq5gs3d7dx  bentoml.xgboost  197.77 KiB  2022-10-20 22:39:54"
   ]
  },
  {
   "cell_type": "markdown",
   "id": "2f482bc6",
   "metadata": {},
   "source": [
    "## Question 3\n",
    "\n",
    "Say you have the following data that you're sending to your service:\n",
    "\n",
    "```json\n",
    "{\n",
    "  \"name\": \"Tim\",\n",
    "  \"age\": 37,\n",
    "  \"country\": \"US\",\n",
    "  \"rating\": 3.14\n",
    "}"
   ]
  },
  {
   "cell_type": "markdown",
   "id": "39baa7c2",
   "metadata": {},
   "source": [
    "####text inside service.py\n",
    "\n",
    "from bentoml.io import JSON\n",
    "\n",
    "from pydantic import BaseModel\n",
    "\n",
    "class UserProfile(BaseModel):\n",
    "  name: str\n",
    "  age: int\n",
    "  country: str\n",
    "  rating: float\n"
   ]
  },
  {
   "cell_type": "markdown",
   "id": "6d5d6324",
   "metadata": {},
   "source": [
    "## Question 4\n",
    "\n",
    "We've prepared a model for you that you can import using:\n",
    "\n",
    "```bash\n",
    "curl -O https://s3.us-west-2.amazonaws.com/bentoml.com/mlzoomcamp/coolmodel.bentomodel\n",
    "bentoml models import coolmodel.bentomodel\n",
    "```\n",
    "\n",
    "What version of scikit-learn was this model trained with?\n",
    "\n",
    "* 1.1.1\n",
    "* 1.1.2\n",
    "* 1.1.3\n",
    "* 1.1.4\n",
    "* 1.1.5"
   ]
  },
  {
   "cell_type": "code",
   "execution_count": null,
   "id": "e332d26a",
   "metadata": {},
   "outputs": [],
   "source": [
    "####run this command\n",
    "(ml-zoomcamp) d:\\ALEXEY\\ML_Zoomcamp\\Unit_07\\new_model>bentoml models get mlzoomcamp_homework:qtzdz3slg6mwwdu5\n",
    "\n",
    "####results\n",
    "name: mlzoomcamp_homework\n",
    "version: qtzdz3slg6mwwdu5\n",
    "module: bentoml.sklearn\n",
    "labels: {}\n",
    "options: {}\n",
    "metadata: {}\n",
    "context:\n",
    "  framework_name: sklearn\n",
    "  framework_versions:\n",
    "    scikit-learn: 1.1.1\n",
    "  bentoml_version: 1.0.7\n",
    "  python_version: 3.9.12\n",
    "signatures:\n",
    "  predict:\n",
    "    batchable: false\n",
    "api_version: v1\n",
    "creation_time: '2022-10-13T20:42:14.411084+00:00'\n",
    "\n",
    "#answer\n",
    "\"1.1.1\""
   ]
  },
  {
   "cell_type": "markdown",
   "id": "bbf843ec",
   "metadata": {},
   "source": [
    "## Question 5 \n",
    "\n",
    "Create a bento out of this scikit-learn model. The output type for this endpoint should be `NumpyNdarray()`\n",
    "\n",
    "Send this array to the Bento:\n",
    "\n",
    "```\n",
    "[[6.4,3.5,4.5,1.2]]\n",
    "```\n",
    "\n",
    "You can use curl or the Swagger UI. What value does it return? \n",
    "\n",
    "* 0\n",
    "* 1\n",
    "* 2\n",
    "* 3"
   ]
  },
  {
   "cell_type": "markdown",
   "id": "41722c2e",
   "metadata": {},
   "source": [
    "####created the service.py file inside the model folder\n",
    "\n",
    "import bentoml\n",
    "\n",
    "from bentoml.io import JSON\n",
    "from bentoml.io import NumpyNdarray\n",
    "\n",
    "model_ref = bentoml.sklearn.get(\"mlzoomcamp_homework:latest\")\n",
    "\n",
    "model_runner = model_ref.to_runner()\n",
    "\n",
    "svc = bentoml.Service(\"mlzoomcamp_homework\", runners=[model_runner])\n",
    "\n",
    "@svc.api(input=NumpyNdarray(), output=JSON())\n",
    "def classify(vector):\n",
    "\n",
    "    prediction = model_runner.predict.run(vector)\n",
    "    print(prediction)\n",
    "\n",
    "    result = prediction[0]\n",
    "\n",
    "    if result >0.5:\n",
    "        return { \"status\": \"DECLINED\"}\n",
    "    elif result >0.25:\n",
    "        return { \"status\": \"MAYBE\"}\n",
    "    else:\n",
    "        return { \"status\": \"APPROVED\"}\n",
    "\n",
    "####ANSWER: [1]"
   ]
  }
 ],
 "metadata": {
  "kernelspec": {
   "display_name": "Python 3 (ipykernel)",
   "language": "python",
   "name": "python3"
  },
  "language_info": {
   "codemirror_mode": {
    "name": "ipython",
    "version": 3
   },
   "file_extension": ".py",
   "mimetype": "text/x-python",
   "name": "python",
   "nbconvert_exporter": "python",
   "pygments_lexer": "ipython3",
   "version": "3.9.13"
  }
 },
 "nbformat": 4,
 "nbformat_minor": 5
}
